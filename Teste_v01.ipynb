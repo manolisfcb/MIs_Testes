{
 "cells": [
  {
   "cell_type": "code",
   "execution_count": 84,
   "metadata": {},
   "outputs": [],
   "source": [
    "\n",
    "import docx\n",
    "import re\n",
    "import pandas as pd\n"
   ]
  },
  {
   "cell_type": "code",
   "execution_count": null,
   "metadata": {},
   "outputs": [],
   "source": []
  },
  {
   "cell_type": "code",
   "execution_count": 90,
   "metadata": {},
   "outputs": [
    {
     "name": "stdout",
     "output_type": "stream",
     "text": [
      "CLÁUSULA I\n",
      "AUTORIZAÇÕES\n",
      "CLÁUSULA II\n",
      "REQUISITOS\n",
      "CLÁUSULA IV\n",
      "CARACTERÍSTICAS DAS DEBÊNTURES\n",
      "CLÁUSULA V\n",
      "VENCIMENTO ANTECIPADO\n",
      "CLÁUSULA VI\n",
      "OBRIGAÇÕES ADICIONAIS DA EMISSORA\n",
      "CLÁUSULA VIII\n",
      "ASSEMBLEIA GERAL DE DEBENTURISTAS\n",
      "CLÁUSULA IX\n",
      "DECLARAÇÕES E GARANTIAS DA EMISSORA\n",
      "CLÁUSULA X\n",
      "DISPOSIÇÕES GERAIS\n"
     ]
    }
   ],
   "source": [
    "doc = docx.Document('[TIBA] Escritura Emissao c_ Sign-Off Cia.DOCX')\n",
    "for paragraph in doc.paragraphs:\n",
    "    if paragraph.style.name == 'Heading 1':\n",
    "        print(paragraph.text)"
   ]
  },
  {
   "cell_type": "code",
   "execution_count": 92,
   "metadata": {},
   "outputs": [
    {
     "name": "stdout",
     "output_type": "stream",
     "text": [
      "['INSTRUMENTO PARTICULAR DE ESCRITURA DA 1ª (PRIMEIRA) EMISSÃO DE DEBÊNTURES SIMPLES, NÃO CONVERSÍVEIS EM AÇÕES, DA ESPÉCIE COM GARANTIA REAL, COM GARANTIA ADICIONAL FIDEJUSSÓRIA, EM SÉRIE ÚNICA, PARA DISTRIBUIÇÃO PÚBLICA COM ESFORÇOS RESTRITOS, DA TIBAGI ENERGIA SPE S.A. ', 'TIBAGI ENERGIA SPE', ' S.A.', 'OLIVEIRA TRUST D', 'ISTRIBUIDORA DE ', 'T', 'ÍTULOS E ', 'V', 'ALORES ', 'M', 'OBILIÁRIOS', ' S.A.', 'Autorização da Emissão e da Constituição das Garantias pela Emissora ', 'Autorização da Constituição das Garantias ', 'pelas Acionistas', 'Arquivamento na Junta Comercial e Publicação da', 's Aprovações', ' da Emissora ', ' Publicação das Aprovações ', 'das ', 'Acionistas', 'Arquivamento ', 'da Escritura de Emissão e averbação de seus eventuais aditamentos na Junta Comercial', 'Dispensa de Registro na CVM e Registro na ANBIMA – Associação Brasileira das Entidades dos Mercados Financeiro e de Capitais', 'Registro das Garantias ', 'Depósito para ', 'Distribuição, ', 'Negociação, Custódia Eletrônica e Liquidação Financeira', 'Enquadramento do Projeto', 'CLÁUSULA III', '\\nOBJETO SOCIAL DA EMISSORA E CARACTERÍSTICAS DA EMISSÃO', 'Objeto Social da Emissora', 'Número da Emissão', 'Data de Emissão', 'Número de Séries', 'Valor Total da Emissão', 'Colocação e Procedimento de Distribuição', 'Agente', ' ', 'Liquidante e ', 'Escriturador', 'Destinação dos Recursos', 'Características Básicas', 'Valor Nominal Unitário:', 'Conversibilidade, Tipo ', 'e Forma:', 'Espécie:', 'Forma de Subscrição e Integralização', 'Prazo', ' e Data de Vencimento', 'Quantidade de Debêntures', 'Atualização Monetária e Juros Remuneratórios ', 'Atualização Monetária das Debêntures', 'Juros Remuneratórios das Debêntures', '.', ' ', 'Períod', 'o de Capitalização', '. ', 'Pagamento dos Juros Remuneratórios.', 'Amortização do Valor Nominal Unitário Atualizado ', 'Local de Pagamento', 'Prorrogação dos Prazos', 'Encargos Moratórios', 'Decadência dos Direitos aos Acréscimos', 'Repactuação Programada', 'Amortização Extraordinária', 'Resgate Antecipado Facultativo e Oferta de Resgate Antecipado', 'Resgate Antecipado Facultativo', 'Oferta de Resgate Antecipado', 'Aquisição Facultativa', 'Publicidade', 'Comprovação de Titularidade das Debêntures', 'Tratamento Tributário', 'Garantias Reais', 'Garantias Fidejussórias', 'Fianças Bancárias', 'Conclusão', ' ', 'do', ' Projeto', '(', 'a', ')', '(', 'b', ')', '(i)', '(', 'ii', ')', 'i', 'ii', '(i)', '(', 'ii', ')', 'Obrigações da Emissora', 'CLÁUSULA VII', '\\nAGENTE FIDUCIÁRIO', 'Nomeação', 'Substituição', 'Deveres ', 'Atribuições Específicas', 'Remuneração do Agente Fiduciário', ' ', 'Despesas', 'Declarações do Agente Fiduciário', 'Disposições Gerais', 'Convocação', 'Quórum de Instalação', 'Quórum de Deliberação', 'Mesa Diretora', 'Comunicações', 'TIBAGI ENERGIA SPE', ' S.A.', 'Oliveira ', 'Trust', ' ', 'Ditribuidora', ' de Títulos e Valores Mobiliários S.A.', 'B3', ' S.A. – Brasil, Bolsa, Balcão', ' – ', 'Segmento ', 'Cetip', ' ', 'UTVM', 'Renúncia', 'Independência das Disposições da Escritura de Emissão', 'Título Executivo Extrajudicial e Execução Específica', 'Cômputo do Prazo', 'Despesas', 'Lei Aplicável', 'Foro', 'TIBAGI ENERGIA', ' ', 'SPE ', 'S.A.', 'OLIVEIRA TRUST DTVM S.A.', 'ANEXO I AO ', 'Instrumento Particular de Escritura da ', '1', 'ª (', 'primeira', ') Emissão de Debêntures Simples, Não Conversíveis em Ações, da Espécie COM GARANTIA REAL, com Garantia ADICIONAL fidejussória, em SÉRIE única, para Distribuição Pública, com Esforços Restritos, da ', 'tibagi energia spe', ' S.A.', 'ANEXO I', 'I', ' AO ', 'Instrumento Particular de Escritura da ', '1', 'ª (', 'primeira', ') Emissão de Debêntures Simples, Não Conversíveis em Ações, da Espécie COM GARANTIA REAL, com Garantia ADICIONAL fidejussória, em SÉRIE única, para Distribuição Pública, com Esforços Restritos, da ', 'TIBAGI ENERGIA SPE', ' S.A.', 'ANEXO ', 'I', 'II', ' AO ', 'Instrumento Particular de Escritura da ', '1ª ', '(', 'PRIMEIRA', ') Emissão de Debêntures Simples, Não Conversíveis em Ações, da Espécie COM GARANTIA REAL, com Garantia ADICIONAL fidejussória, em SÉRIE única, para Distribuição Pública, com Esforços Restritos, da ', 'TIBAGI ENERGIA SPE', ' S.A.', 'Modelo de Carta de Fiança para operações com cobertura:', 'VALOR PARCIAL ou TOTAL e PRAZO PARCIAL ', ' ', '(Este modelo deverá ser utilizado nos casos em que a fiança for constituída de forma prévia e proporcional aos desembolsos)', '\\xa0', 'Carta de Fiança N° ________', 'BANCO SANTANDER (BRASIL) S.A.', 'TIBAGI ENERGIA SPE S.A.', 'OLIVEIRA TRUST DTVM S.A.', 'BANCO SANTANDER (BRASIL) S.A.', 'CIENTE', 'Testemunhas: ', 'ANEXO ', 'I', 'V AO ', 'Instrumento Particular de Escritura da ', '1', 'ª (', 'PRIMEIRA', ') Emissão de Debêntures Simples, Não Conversíveis em Ações, da Espécie COM GARANTIA REAL, com Garantia ADICIONAL fidejussória, em SÉRIE única, para Distribuição Pública, com Esforços Restritos, da ', 'TIBAGI ENERGIA SPE', ' S.A.', 'ANEXO V AO ', 'Instrumento Particular de Escritura da 1ª (PRIMEIRA) Emissão de Debêntures Simples, Não Conversíveis em Ações, da Espécie COM GARANTIA REAL, com Garantia ADICIONAL fidejussória, em SÉRIE única, para Distribuição Pública, com Esforços Restritos, da ', 'TIBAGI ENERGIA SPE', ' S.A.', '[Agente Fiduciário]', 'Tibagi Energia SPE', ' S.A.', 'TIBAGI ENERGIA SPE', ' S.A.']\n"
     ]
    }
   ],
   "source": [
    "\n",
    "bolds=[]\n",
    "italics=[]\n",
    "for para in doc.paragraphs:\n",
    "    for run in para.runs:\n",
    "        if run.italic :\n",
    "            italics.append(run.text)\n",
    "        if run.bold :\n",
    "            bolds.append(run.text)\n",
    "\n",
    "boltalic_Dict={'bold_phrases':bolds,\n",
    "              'italic_phrases':italics}\n",
    "\n",
    "print(boltalic_Dict['bold_phrases'])"
   ]
  },
  {
   "cell_type": "code",
   "execution_count": 88,
   "metadata": {},
   "outputs": [
    {
     "name": "stdout",
     "output_type": "stream",
     "text": [
      "<bound method Sequence.index of <docx.section.Sections object at 0x000001F13ED9D280>>\n"
     ]
    }
   ],
   "source": [
    "sections = doc.sections\n",
    "len(sections)\n",
    "print(sections.index)"
   ]
  },
  {
   "cell_type": "code",
   "execution_count": null,
   "metadata": {},
   "outputs": [
    {
     "data": {
      "text/plain": [
       "1202"
      ]
     },
     "execution_count": 3,
     "metadata": {},
     "output_type": "execute_result"
    }
   ],
   "source": [
    "len(doc.paragraphs)"
   ]
  },
  {
   "cell_type": "code",
   "execution_count": null,
   "metadata": {},
   "outputs": [
    {
     "data": {
      "text/plain": [
       "'INSTRUMENTO PARTICULAR DE ESCRITURA DA 1ª (PRIMEIRA) EMISSÃO DE DEBÊNTURES SIMPLES, NÃO CONVERSÍVEIS EM AÇÕES, DA ESPÉCIE COM GARANTIA REAL, COM GARANTIA ADICIONAL FIDEJUSSÓRIA, EM SÉRIE ÚNICA, PARA DISTRIBUIÇÃO PÚBLICA COM ESFORÇOS RESTRITOS, DA TIBAGI ENERGIA SPE S.A. '"
      ]
     },
     "execution_count": 4,
     "metadata": {},
     "output_type": "execute_result"
    }
   ],
   "source": [
    "doc.paragraphs[0].text"
   ]
  },
  {
   "cell_type": "code",
   "execution_count": null,
   "metadata": {},
   "outputs": [
    {
     "data": {
      "text/plain": [
       "''"
      ]
     },
     "execution_count": 5,
     "metadata": {},
     "output_type": "execute_result"
    }
   ],
   "source": [
    "doc.paragraphs[1].text"
   ]
  },
  {
   "cell_type": "code",
   "execution_count": null,
   "metadata": {},
   "outputs": [],
   "source": [
    "def getText(filename):\n",
    "    doc = docx.Document(filename)\n",
    "    fullText = []\n",
    "    for para in doc.paragraphs:\n",
    "        fullText.append(para.text)\n",
    "    return '\\n'.join(fullText)"
   ]
  },
  {
   "cell_type": "code",
   "execution_count": null,
   "metadata": {},
   "outputs": [],
   "source": [
    "text = getText('[TIBA] Escritura Emissao c_ Sign-Off Cia.DOCX')"
   ]
  },
  {
   "cell_type": "code",
   "execution_count": null,
   "metadata": {},
   "outputs": [
    {
     "data": {
      "text/plain": [
       "11"
      ]
     },
     "execution_count": 8,
     "metadata": {},
     "output_type": "execute_result"
    }
   ],
   "source": [
    "len(text.split('CLÁUSULA'))"
   ]
  },
  {
   "cell_type": "code",
   "execution_count": null,
   "metadata": {},
   "outputs": [
    {
     "name": "stdout",
     "output_type": "stream",
     "text": [
      " II\n",
      "REQUISITOS\n",
      "\n",
      "A presente 1ª (primeira) emissão de debêntures simples, não conversíveis em ações de emissão da Emissora, da espécie com garantia real, com garantia adicional fidejussória, em série única (“Emissão” e “Debêntures”, respectivamente), para distribuição pública com esforços restritos, nos termos da Instrução da Comissão de Valores Mobiliários (“CVM”) nº 476, de 16 de janeiro de 2009, conforme alterada (“Instrução CVM 476”), das demais disposições legais aplicáveis e desta Escritura de Emissão (“Oferta Restrita”), deverá observar os seguintes requisitos: \n",
      "\n",
      "Arquivamento na Junta Comercial e Publicação das Aprovações da Emissora \n",
      "\n",
      "Nos termos dos artigos 62, inciso I, e 289 da Lei nº 6.404, de 15 de dezembro de 1976, conforme alterada (“Lei das Sociedades por Ações”), (i) a ata da AGE da Emissora será arquivada na JUCEMG e será publicada no Diário Oficial do Estado de Minas Gerais e no jornal Diário do Comércio - Belo Horizonte (“Jornais de Publicação”); e (ii) a ata da RCA da Emissora será arquivada na JUCEMG e será publicada nos Jornais de Publicação.\n",
      "\n",
      "Os atos societários da Emissora que, pela Lei das Sociedades por Ações, são passíveis de serem arquivados e publicados e que, eventualmente, venham a ser realizados após o registro da presente Escritura de Emissão também serão arquivados na JUCEMG, bem como serão publicados nos Jornais de Publicação, observado o disposto na Cláusula 4.12 abaixo.\n",
      "\n",
      " Publicação das Aprovações das Acionistas\n",
      "\n",
      "Nos termos dos artigos 62, inciso I, e 289 da Lei das Sociedades por Ações, a ata da AGE da Tibagi Participações será arquivada na Junta Comercial do Estado de São Paulo - JUCESP e será publicada no Diário Oficial do Estado de São Paulo e no jornal O Dia.\n",
      "\n",
      "Arquivamento da Escritura de Emissão e averbação de seus eventuais aditamentos na Junta Comercial\n",
      "\n",
      "Esta Escritura de Emissão será arquivada e seus eventuais aditamentos serão averbados na JUCEMG, conforme disposto no artigo 62, inciso II e parágrafo 3º, da Lei das Sociedades por Ações. A Emissora entregará ao Agente Fiduciário 1 (uma) via original desta Escritura de Emissão e de eventuais aditamentos arquivados na JUCEMG em até 5 (cinco) Dias Úteis após o respectivo arquivamento.\n",
      "\n",
      "Dispensa de Registro na CVM e Registro na ANBIMA – Associação Brasileira das Entidades dos Mercados Financeiro e de Capitais\n",
      "\n",
      "A Emissão será realizada nos termos da Instrução CVM 476 e das demais disposições legais e regulamentares aplicáveis, estando, portanto, automaticamente dispensada do registro de distribuição de que trata o artigo 19 da Lei nº 6.385, de 7 de dezembro de 1976, conforme alterada (“Lei do Mercado de Valores Mobiliários”), por se tratar de oferta pública de valores mobiliários, com esforços restritos, não sendo objeto de protocolo, registro e/ou arquivamento perante a CVM, exceto pelo envio da comunicação sobre o início da Oferta Restrita e a comunicação de seu encerramento à CVM, nos termos dos artigos 7º-A e 8º, respectivamente, da Instrução CVM 476.\n",
      "\n",
      "Por se tratar de distribuição pública, com esforços restritos, a Oferta Restrita será registrada na Associação Brasileira das Entidades dos Mercados Financeiros e de Capitais (“ANBIMA”), nos termos do artigo 16, inciso II, do “Código ANBIMA de Regulação e Melhores Práticas para Estruturação, Coordenação e Distribuição de Ofertas Públicas de Valores Mobiliários e Ofertas Públicas de Aquisição de Valores Mobiliários” (“Código ANBIMA”), em até 15 (quinze) dias contados da Comunicação de Encerramento.\n",
      "\n",
      "Registro das Garantias \n",
      "\n",
      "Os Contratos de Garantia (conforme definido na Cláusula 4.15.1 abaixo), assim como quaisquer aditamentos subsequentes a estes contratos, serão celebrados e levados a registro nos competentes Cartórios de Registro de Títulos e Documentos, conforme indicado nos respectivos instrumentos, sendo certo que os Contratos de Garantia, incluindo respectivos aditamentos deverão ser apresentados para registro no prazo determinado no respectivo instrumento, devendo ser fornecida ao Agente Fiduciário, dentro de até 5 (cinco) Dias Úteis contados da data do respectivo registro, 1 (uma) via original do respectivo instrumento devidamente registrado.\n",
      "\n",
      "A alienação fiduciária de ações descrita no item (i) da Cláusula 4.15.1 será averbada no livro de registro de ações nominativas da Emissora e/ou no respectivo livro e/ou sistemas da instituição financeira responsável pela prestação de serviços de escrituração das ações da Emissora, caso as ações da Emissora venham a se tornar escriturais, devendo ser anotados no extrato da conta de depósito fornecido às respectivas acionistas, nos termos do artigo 39, e de seu §1°, da Lei das Sociedades por Ações, em até 5 (cinco) Dias Úteis contados da data de assinatura do Contrato de Alienação Fiduciária de Ações (conforme definido na Cláusula 4.15.1, item (i) abaixo).\n",
      "\n",
      "Em até 5 (cinco) Dias Úteis após as respectivas averbações, a Emissora entregará ao Agente Fiduciário (i) cópia integral e autenticada do livro de registro de ações nominativas da Emissora, ou (ii) caso as ações da Emissora venham a se tornar escriturais, (ii-a) cópia autenticada do livro e/ou cópia simples dos sistemas da instituição financeira responsável pela prestação de serviços de escrituração das ações da Emissora ou cópia do extrato da conta de depósito fornecido às respectivas acionistas e (ii-b) original de declaração da instituição financeira responsável pela prestação de serviços de escrituração das ações da Emissora, evidenciando a anotação da garantia constituída por meio do Contrato de Alienação Fiduciária de Ações, podendo, para fins deste item (ii-b) ser apresentada cópia simples do extrato que contenha anotação da garantia que afeta tais ações.\n",
      "\n",
      "As Fianças Bancárias, assim como quaisquer aditamentos subsequentes a tais documentos, serão registradas, às expensas da Emissora, nos competentes Cartórios de Registro de Títulos e Documentos do domicílio das instituições financeiras emissoras das Fianças Bancárias e do Agente Fiduciário, na qualidade de representante dos Debenturistas, no prazo de até 20 (vinte) dias contados da data de emissão das Fianças Bancárias. A Emissora entregará ao Agente Fiduciário 1 (uma) via original das Fianças Bancárias em até 5 (cinco) Dias Úteis após os respectivos registros.\n",
      "\n",
      "Depósito para Distribuição, Negociação, Custódia Eletrônica e Liquidação Financeira\n",
      "\n",
      "As Debêntures serão depositadas para:\n",
      "\n",
      "distribuição no mercado primário por meio do MDA – Módulo de Distribuição de Ativos, administrado e operacionalizado pela B3S.A. – Brasil, Bolsa, Balcão (“B3”) – Segmento Cetip UTVM, sendo a distribuição liquidada financeiramente por meio da B3; e \n",
      "\n",
      "negociação no mercado secundário por meio do CETIP21 – Títulos e Valores Mobiliários (“CETIP21”), administrado e operacionalizado pela B3, sendo as negociações liquidadas financeiramente e as Debêntures custodiadas eletronicamente na B3.\n",
      "\n",
      "As Debêntures somente poderão ser negociadas entre Investidores Qualificados (conforme definido abaixo) nos mercados regulamentados de valores mobiliários depois de decorridos 90 (noventa) dias, contados a partir da data de cada subscrição ou aquisição pelos investidores profissionais, conforme disposto nos artigos 13 e 15 da Instrução CVM 476, observado o cumprimento pela Emissora do artigo 17 da Instrução CVM 476, sendo que a negociação das Debêntures deverá sempre respeitar as disposições legais e regulamentares aplicáveis.\n",
      "\n",
      "Enquadramento do Projeto\n",
      "\n",
      "A Emissão será realizada na forma do artigo 2º da Lei nº 12.431, de 24 de junho de 2011, conforme alterada (“Lei 12.431”) e do Decreto nº 8.874, de 11 de outubro de 2016 (“Decreto 8.874”), da Resolução do Conselho Monetário Nacional (“CMN”) n° 3.947, de 27 de janeiro de 2011, conforme alterada(“Resolução CMN 3.947”), ou de normas posteriores que as alterem, substituam ou complementem, tendo em vista o enquadramento do Projeto (conforme definido abaixo) como prioritário pelo Ministério de Minas e Energia (“MME”), por meio da Portaria do MME nº 257, de 11 de setembro de 2017, publicada no Diário Oficial da União em 14 de setembro de 2017(“Portaria de Enquadramento”).\n",
      "\n",
      "\n",
      "\n"
     ]
    }
   ],
   "source": [
    "print(text.split('CLÁUSULA')[2])"
   ]
  },
  {
   "cell_type": "code",
   "execution_count": null,
   "metadata": {},
   "outputs": [],
   "source": [
    "pattern = re.compile('CLÁUSULA\\s.*\\n[\\w\\s]+?\\n\\n')"
   ]
  },
  {
   "cell_type": "code",
   "execution_count": null,
   "metadata": {},
   "outputs": [],
   "source": [
    "\n",
    "matches = re.findall(pattern,text)\n"
   ]
  },
  {
   "cell_type": "code",
   "execution_count": null,
   "metadata": {},
   "outputs": [],
   "source": [
    "matches.insert(0,'titulo')\n"
   ]
  },
  {
   "cell_type": "code",
   "execution_count": null,
   "metadata": {},
   "outputs": [
    {
     "data": {
      "text/plain": [
       "['titulo',\n",
       " 'CLÁUSULA I\\nAUTORIZAÇÕES\\n\\n',\n",
       " 'CLÁUSULA II\\nREQUISITOS\\n\\n',\n",
       " 'CLÁUSULA III\\nOBJETO SOCIAL DA EMISSORA E CARACTERÍSTICAS DA EMISSÃO\\n\\n',\n",
       " 'CLÁUSULA IV\\nCARACTERÍSTICAS DAS DEBÊNTURES\\n\\n',\n",
       " 'CLÁUSULA V\\nVENCIMENTO ANTECIPADO\\n\\n',\n",
       " 'CLÁUSULA VI\\nOBRIGAÇÕES ADICIONAIS DA EMISSORA\\n\\n',\n",
       " 'CLÁUSULA VII\\nAGENTE FIDUCIÁRIO\\n\\n',\n",
       " 'CLÁUSULA VIII\\nASSEMBLEIA GERAL DE DEBENTURISTAS\\n\\n',\n",
       " 'CLÁUSULA IX\\nDECLARAÇÕES E GARANTIAS DA EMISSORA\\n\\n',\n",
       " 'CLÁUSULA X\\nDISPOSIÇÕES GERAIS\\n\\n']"
      ]
     },
     "execution_count": 13,
     "metadata": {},
     "output_type": "execute_result"
    }
   ],
   "source": [
    "matches"
   ]
  },
  {
   "cell_type": "code",
   "execution_count": null,
   "metadata": {},
   "outputs": [
    {
     "name": "stdout",
     "output_type": "stream",
     "text": [
      "titulo\n",
      "CLÁUSULA I AUTORIZAÇÕES  \n",
      "CLÁUSULA II REQUISITOS  \n",
      "CLÁUSULA III OBJETO SOCIAL DA EMISSORA E CARACTERÍSTICAS DA EMISSÃO  \n",
      "CLÁUSULA IV CARACTERÍSTICAS DAS DEBÊNTURES  \n",
      "CLÁUSULA V VENCIMENTO ANTECIPADO  \n",
      "CLÁUSULA VI OBRIGAÇÕES ADICIONAIS DA EMISSORA  \n",
      "CLÁUSULA VII AGENTE FIDUCIÁRIO  \n",
      "CLÁUSULA VIII ASSEMBLEIA GERAL DE DEBENTURISTAS  \n",
      "CLÁUSULA IX DECLARAÇÕES E GARANTIAS DA EMISSORA  \n",
      "CLÁUSULA X DISPOSIÇÕES GERAIS  \n"
     ]
    }
   ],
   "source": [
    "indices = []\n",
    "for texto in matches:\n",
    "    texto = re.sub('\\n', ' ',texto)\n",
    "    indices.append(texto)\n",
    "    print(texto)"
   ]
  },
  {
   "cell_type": "code",
   "execution_count": null,
   "metadata": {},
   "outputs": [],
   "source": [
    "df = pd.DataFrame(text.split('CLÁUSULA'), columns=['texto'],index=indices)"
   ]
  },
  {
   "cell_type": "code",
   "execution_count": null,
   "metadata": {},
   "outputs": [],
   "source": [
    "#text\n"
   ]
  },
  {
   "cell_type": "code",
   "execution_count": null,
   "metadata": {},
   "outputs": [
    {
     "data": {
      "text/html": [
       "<div>\n",
       "<style scoped>\n",
       "    .dataframe tbody tr th:only-of-type {\n",
       "        vertical-align: middle;\n",
       "    }\n",
       "\n",
       "    .dataframe tbody tr th {\n",
       "        vertical-align: top;\n",
       "    }\n",
       "\n",
       "    .dataframe thead th {\n",
       "        text-align: right;\n",
       "    }\n",
       "</style>\n",
       "<table border=\"1\" class=\"dataframe\">\n",
       "  <thead>\n",
       "    <tr style=\"text-align: right;\">\n",
       "      <th></th>\n",
       "      <th>texto</th>\n",
       "    </tr>\n",
       "  </thead>\n",
       "  <tbody>\n",
       "    <tr>\n",
       "      <th>titulo</th>\n",
       "      <td>INSTRUMENTO PARTICULAR DE ESCRITURA DA 1ª (PRI...</td>\n",
       "    </tr>\n",
       "    <tr>\n",
       "      <th>CLÁUSULA I AUTORIZAÇÕES</th>\n",
       "      <td>I\\nAUTORIZAÇÕES\\n\\nAutorização da Emissão e d...</td>\n",
       "    </tr>\n",
       "    <tr>\n",
       "      <th>CLÁUSULA II REQUISITOS</th>\n",
       "      <td>II\\nREQUISITOS\\n\\nA presente 1ª (primeira) em...</td>\n",
       "    </tr>\n",
       "    <tr>\n",
       "      <th>CLÁUSULA III OBJETO SOCIAL DA EMISSORA E CARACTERÍSTICAS DA EMISSÃO</th>\n",
       "      <td>III\\nOBJETO SOCIAL DA EMISSORA E CARACTERÍSTI...</td>\n",
       "    </tr>\n",
       "    <tr>\n",
       "      <th>CLÁUSULA IV CARACTERÍSTICAS DAS DEBÊNTURES</th>\n",
       "      <td>IV\\nCARACTERÍSTICAS DAS DEBÊNTURES\\n\\nCaracte...</td>\n",
       "    </tr>\n",
       "    <tr>\n",
       "      <th>CLÁUSULA V VENCIMENTO ANTECIPADO</th>\n",
       "      <td>V\\nVENCIMENTO ANTECIPADO\\n\\nObservado o dispo...</td>\n",
       "    </tr>\n",
       "    <tr>\n",
       "      <th>CLÁUSULA VI OBRIGAÇÕES ADICIONAIS DA EMISSORA</th>\n",
       "      <td>VI\\nOBRIGAÇÕES ADICIONAIS DA EMISSORA\\n\\nObri...</td>\n",
       "    </tr>\n",
       "    <tr>\n",
       "      <th>CLÁUSULA VII AGENTE FIDUCIÁRIO</th>\n",
       "      <td>VII\\nAGENTE FIDUCIÁRIO\\n\\nNomeação\\n\\nA Emiss...</td>\n",
       "    </tr>\n",
       "    <tr>\n",
       "      <th>CLÁUSULA VIII ASSEMBLEIA GERAL DE DEBENTURISTAS</th>\n",
       "      <td>VIII\\nASSEMBLEIA GERAL DE DEBENTURISTAS\\n\\nDi...</td>\n",
       "    </tr>\n",
       "    <tr>\n",
       "      <th>CLÁUSULA IX DECLARAÇÕES E GARANTIAS DA EMISSORA</th>\n",
       "      <td>IX\\nDECLARAÇÕES E GARANTIAS DA EMISSORA\\n\\nA ...</td>\n",
       "    </tr>\n",
       "    <tr>\n",
       "      <th>CLÁUSULA X DISPOSIÇÕES GERAIS</th>\n",
       "      <td>X\\nDISPOSIÇÕES GERAIS\\n\\nComunicações\\n\\nQuai...</td>\n",
       "    </tr>\n",
       "  </tbody>\n",
       "</table>\n",
       "</div>"
      ],
      "text/plain": [
       "                                                                                                texto\n",
       "titulo                                              INSTRUMENTO PARTICULAR DE ESCRITURA DA 1ª (PRI...\n",
       "CLÁUSULA I AUTORIZAÇÕES                              I\\nAUTORIZAÇÕES\\n\\nAutorização da Emissão e d...\n",
       "CLÁUSULA II REQUISITOS                               II\\nREQUISITOS\\n\\nA presente 1ª (primeira) em...\n",
       "CLÁUSULA III OBJETO SOCIAL DA EMISSORA E CARACT...   III\\nOBJETO SOCIAL DA EMISSORA E CARACTERÍSTI...\n",
       "CLÁUSULA IV CARACTERÍSTICAS DAS DEBÊNTURES           IV\\nCARACTERÍSTICAS DAS DEBÊNTURES\\n\\nCaracte...\n",
       "CLÁUSULA V VENCIMENTO ANTECIPADO                     V\\nVENCIMENTO ANTECIPADO\\n\\nObservado o dispo...\n",
       "CLÁUSULA VI OBRIGAÇÕES ADICIONAIS DA EMISSORA        VI\\nOBRIGAÇÕES ADICIONAIS DA EMISSORA\\n\\nObri...\n",
       "CLÁUSULA VII AGENTE FIDUCIÁRIO                       VII\\nAGENTE FIDUCIÁRIO\\n\\nNomeação\\n\\nA Emiss...\n",
       "CLÁUSULA VIII ASSEMBLEIA GERAL DE DEBENTURISTAS      VIII\\nASSEMBLEIA GERAL DE DEBENTURISTAS\\n\\nDi...\n",
       "CLÁUSULA IX DECLARAÇÕES E GARANTIAS DA EMISSORA      IX\\nDECLARAÇÕES E GARANTIAS DA EMISSORA\\n\\nA ...\n",
       "CLÁUSULA X DISPOSIÇÕES GERAIS                        X\\nDISPOSIÇÕES GERAIS\\n\\nComunicações\\n\\nQuai..."
      ]
     },
     "execution_count": 17,
     "metadata": {},
     "output_type": "execute_result"
    }
   ],
   "source": [
    "df"
   ]
  },
  {
   "cell_type": "code",
   "execution_count": null,
   "metadata": {},
   "outputs": [],
   "source": [
    "matches = re.findall(\"CLÁUSULA\",text)"
   ]
  },
  {
   "cell_type": "code",
   "execution_count": null,
   "metadata": {},
   "outputs": [],
   "source": [
    "import pickle"
   ]
  },
  {
   "cell_type": "code",
   "execution_count": null,
   "metadata": {},
   "outputs": [],
   "source": [
    "all_docs = pd.read_pickle('docs_df.pkl')\n"
   ]
  },
  {
   "cell_type": "code",
   "execution_count": null,
   "metadata": {},
   "outputs": [],
   "source": []
  },
  {
   "cell_type": "code",
   "execution_count": null,
   "metadata": {},
   "outputs": [
    {
     "data": {
      "text/html": [
       "<div>\n",
       "<style scoped>\n",
       "    .dataframe tbody tr th:only-of-type {\n",
       "        vertical-align: middle;\n",
       "    }\n",
       "\n",
       "    .dataframe tbody tr th {\n",
       "        vertical-align: top;\n",
       "    }\n",
       "\n",
       "    .dataframe thead th {\n",
       "        text-align: right;\n",
       "    }\n",
       "</style>\n",
       "<table border=\"1\" class=\"dataframe\">\n",
       "  <thead>\n",
       "    <tr style=\"text-align: right;\">\n",
       "      <th></th>\n",
       "      <th>textos</th>\n",
       "      <th>clausulas</th>\n",
       "    </tr>\n",
       "  </thead>\n",
       "  <tbody>\n",
       "    <tr>\n",
       "      <th>0</th>\n",
       "      <td>INSTRUMENTO PARTICULAR DE ESCRITURA DA 1ª (PRI...</td>\n",
       "      <td>titulo</td>\n",
       "    </tr>\n",
       "    <tr>\n",
       "      <th>1</th>\n",
       "      <td>I\\nAUTORIZAÇÕES\\n\\nAutorização da Emissão e d...</td>\n",
       "      <td>CLÁUSULA I AUTORIZAÇÕES</td>\n",
       "    </tr>\n",
       "    <tr>\n",
       "      <th>2</th>\n",
       "      <td>II\\nREQUISITOS\\n\\nA presente 1ª (primeira) em...</td>\n",
       "      <td>CLÁUSULA II REQUISITOS</td>\n",
       "    </tr>\n",
       "    <tr>\n",
       "      <th>3</th>\n",
       "      <td>III\\nOBJETO SOCIAL DA EMISSORA E CARACTERÍSTI...</td>\n",
       "      <td>CLÁUSULA III OBJETO SOCIAL DA EMISSORA E CARAC...</td>\n",
       "    </tr>\n",
       "    <tr>\n",
       "      <th>4</th>\n",
       "      <td>IV\\nCARACTERÍSTICAS DAS DEBÊNTURES\\n\\nCaracte...</td>\n",
       "      <td>CLÁUSULA IV CARACTERÍSTICAS DAS DEBÊNTURES</td>\n",
       "    </tr>\n",
       "    <tr>\n",
       "      <th>5</th>\n",
       "      <td>V\\nVENCIMENTO ANTECIPADO\\n\\nObservado o dispo...</td>\n",
       "      <td>CLÁUSULA V VENCIMENTO ANTECIPADO</td>\n",
       "    </tr>\n",
       "    <tr>\n",
       "      <th>6</th>\n",
       "      <td>VI\\nOBRIGAÇÕES ADICIONAIS DA EMISSORA\\n\\nObri...</td>\n",
       "      <td>CLÁUSULA VI OBRIGAÇÕES ADICIONAIS DA EMISSORA</td>\n",
       "    </tr>\n",
       "    <tr>\n",
       "      <th>7</th>\n",
       "      <td>VII\\nAGENTE FIDUCIÁRIO\\n\\nNomeação\\n\\nA Emiss...</td>\n",
       "      <td>CLÁUSULA VII AGENTE FIDUCIÁRIO</td>\n",
       "    </tr>\n",
       "    <tr>\n",
       "      <th>8</th>\n",
       "      <td>VIII\\nASSEMBLEIA GERAL DE DEBENTURISTAS\\n\\nDi...</td>\n",
       "      <td>CLÁUSULA VIII ASSEMBLEIA GERAL DE DEBENTURISTAS</td>\n",
       "    </tr>\n",
       "    <tr>\n",
       "      <th>9</th>\n",
       "      <td>IX\\nDECLARAÇÕES E GARANTIAS DA EMISSORA\\n\\nA ...</td>\n",
       "      <td>CLÁUSULA IX DECLARAÇÕES E GARANTIAS DA EMISSORA</td>\n",
       "    </tr>\n",
       "    <tr>\n",
       "      <th>10</th>\n",
       "      <td>X\\nDISPOSIÇÕES GERAIS\\n\\nComunicações\\n\\nQuai...</td>\n",
       "      <td>CLÁUSULA X DISPOSIÇÕES GERAIS</td>\n",
       "    </tr>\n",
       "    <tr>\n",
       "      <th>0</th>\n",
       "      <td>INSTRUMENTO PARTICULAR DE ESCRITURA DA 1ª (PRI...</td>\n",
       "      <td>titulo</td>\n",
       "    </tr>\n",
       "    <tr>\n",
       "      <th>1</th>\n",
       "      <td>I\\nAUTORIZAÇÕES\\n\\nAutorização da Emissão e d...</td>\n",
       "      <td>CLÁUSULA I AUTORIZAÇÕES</td>\n",
       "    </tr>\n",
       "    <tr>\n",
       "      <th>2</th>\n",
       "      <td>II\\nREQUISITOS\\n\\nA presente 1ª (primeira) em...</td>\n",
       "      <td>CLÁUSULA II REQUISITOS</td>\n",
       "    </tr>\n",
       "    <tr>\n",
       "      <th>3</th>\n",
       "      <td>III\\nOBJETO SOCIAL DA EMISSORA E CARACTERÍSTI...</td>\n",
       "      <td>CLÁUSULA III OBJETO SOCIAL DA EMISSORA E CARAC...</td>\n",
       "    </tr>\n",
       "    <tr>\n",
       "      <th>4</th>\n",
       "      <td>IV\\nCARACTERÍSTICAS DAS DEBÊNTURES\\n\\nCaracte...</td>\n",
       "      <td>CLÁUSULA IV CARACTERÍSTICAS DAS DEBÊNTURES</td>\n",
       "    </tr>\n",
       "    <tr>\n",
       "      <th>5</th>\n",
       "      <td>V\\nVENCIMENTO ANTECIPADO\\n\\nObservado o dispo...</td>\n",
       "      <td>CLÁUSULA V VENCIMENTO ANTECIPADO</td>\n",
       "    </tr>\n",
       "    <tr>\n",
       "      <th>6</th>\n",
       "      <td>VI\\nOBRIGAÇÕES ADICIONAIS DA EMISSORA\\n\\nObri...</td>\n",
       "      <td>CLÁUSULA VI OBRIGAÇÕES ADICIONAIS DA EMISSORA</td>\n",
       "    </tr>\n",
       "    <tr>\n",
       "      <th>7</th>\n",
       "      <td>VII\\nAGENTE FIDUCIÁRIO\\n\\nNomeação\\n\\nA Emiss...</td>\n",
       "      <td>CLÁUSULA VII AGENTE FIDUCIÁRIO</td>\n",
       "    </tr>\n",
       "    <tr>\n",
       "      <th>8</th>\n",
       "      <td>VIII\\nASSEMBLEIA GERAL DE DEBENTURISTAS\\n\\nDi...</td>\n",
       "      <td>CLÁUSULA VIII ASSEMBLEIA GERAL DE DEBENTURISTAS</td>\n",
       "    </tr>\n",
       "    <tr>\n",
       "      <th>9</th>\n",
       "      <td>IX\\nDECLARAÇÕES E GARANTIAS DA EMISSORA\\n\\nA ...</td>\n",
       "      <td>CLÁUSULA IX DECLARAÇÕES E GARANTIAS DA EMISSORA</td>\n",
       "    </tr>\n",
       "    <tr>\n",
       "      <th>10</th>\n",
       "      <td>X\\nDISPOSIÇÕES GERAIS\\n\\nComunicações\\n\\nQuai...</td>\n",
       "      <td>CLÁUSULA X DISPOSIÇÕES GERAIS</td>\n",
       "    </tr>\n",
       "  </tbody>\n",
       "</table>\n",
       "</div>"
      ],
      "text/plain": [
       "                                               textos  \\\n",
       "0   INSTRUMENTO PARTICULAR DE ESCRITURA DA 1ª (PRI...   \n",
       "1    I\\nAUTORIZAÇÕES\\n\\nAutorização da Emissão e d...   \n",
       "2    II\\nREQUISITOS\\n\\nA presente 1ª (primeira) em...   \n",
       "3    III\\nOBJETO SOCIAL DA EMISSORA E CARACTERÍSTI...   \n",
       "4    IV\\nCARACTERÍSTICAS DAS DEBÊNTURES\\n\\nCaracte...   \n",
       "5    V\\nVENCIMENTO ANTECIPADO\\n\\nObservado o dispo...   \n",
       "6    VI\\nOBRIGAÇÕES ADICIONAIS DA EMISSORA\\n\\nObri...   \n",
       "7    VII\\nAGENTE FIDUCIÁRIO\\n\\nNomeação\\n\\nA Emiss...   \n",
       "8    VIII\\nASSEMBLEIA GERAL DE DEBENTURISTAS\\n\\nDi...   \n",
       "9    IX\\nDECLARAÇÕES E GARANTIAS DA EMISSORA\\n\\nA ...   \n",
       "10   X\\nDISPOSIÇÕES GERAIS\\n\\nComunicações\\n\\nQuai...   \n",
       "0   INSTRUMENTO PARTICULAR DE ESCRITURA DA 1ª (PRI...   \n",
       "1    I\\nAUTORIZAÇÕES\\n\\nAutorização da Emissão e d...   \n",
       "2    II\\nREQUISITOS\\n\\nA presente 1ª (primeira) em...   \n",
       "3    III\\nOBJETO SOCIAL DA EMISSORA E CARACTERÍSTI...   \n",
       "4    IV\\nCARACTERÍSTICAS DAS DEBÊNTURES\\n\\nCaracte...   \n",
       "5    V\\nVENCIMENTO ANTECIPADO\\n\\nObservado o dispo...   \n",
       "6    VI\\nOBRIGAÇÕES ADICIONAIS DA EMISSORA\\n\\nObri...   \n",
       "7    VII\\nAGENTE FIDUCIÁRIO\\n\\nNomeação\\n\\nA Emiss...   \n",
       "8    VIII\\nASSEMBLEIA GERAL DE DEBENTURISTAS\\n\\nDi...   \n",
       "9    IX\\nDECLARAÇÕES E GARANTIAS DA EMISSORA\\n\\nA ...   \n",
       "10   X\\nDISPOSIÇÕES GERAIS\\n\\nComunicações\\n\\nQuai...   \n",
       "\n",
       "                                            clausulas  \n",
       "0                                              titulo  \n",
       "1                           CLÁUSULA I AUTORIZAÇÕES    \n",
       "2                            CLÁUSULA II REQUISITOS    \n",
       "3   CLÁUSULA III OBJETO SOCIAL DA EMISSORA E CARAC...  \n",
       "4        CLÁUSULA IV CARACTERÍSTICAS DAS DEBÊNTURES    \n",
       "5                  CLÁUSULA V VENCIMENTO ANTECIPADO    \n",
       "6     CLÁUSULA VI OBRIGAÇÕES ADICIONAIS DA EMISSORA    \n",
       "7                    CLÁUSULA VII AGENTE FIDUCIÁRIO    \n",
       "8   CLÁUSULA VIII ASSEMBLEIA GERAL DE DEBENTURISTAS    \n",
       "9   CLÁUSULA IX DECLARAÇÕES E GARANTIAS DA EMISSORA    \n",
       "10                    CLÁUSULA X DISPOSIÇÕES GERAIS    \n",
       "0                                              titulo  \n",
       "1                           CLÁUSULA I AUTORIZAÇÕES    \n",
       "2                            CLÁUSULA II REQUISITOS    \n",
       "3   CLÁUSULA III OBJETO SOCIAL DA EMISSORA E CARAC...  \n",
       "4        CLÁUSULA IV CARACTERÍSTICAS DAS DEBÊNTURES    \n",
       "5                  CLÁUSULA V VENCIMENTO ANTECIPADO    \n",
       "6     CLÁUSULA VI OBRIGAÇÕES ADICIONAIS DA EMISSORA    \n",
       "7                    CLÁUSULA VII AGENTE FIDUCIÁRIO    \n",
       "8   CLÁUSULA VIII ASSEMBLEIA GERAL DE DEBENTURISTAS    \n",
       "9   CLÁUSULA IX DECLARAÇÕES E GARANTIAS DA EMISSORA    \n",
       "10                    CLÁUSULA X DISPOSIÇÕES GERAIS    "
      ]
     },
     "execution_count": 58,
     "metadata": {},
     "output_type": "execute_result"
    }
   ],
   "source": [
    "\n",
    "for t in all_docs['texto']:\n",
    "    pattern = re.compile('CLÁUSULA\\s.*\\n[\\w\\s]+?\\n\\n')\n",
    "    matches = re.findall(pattern,t)\n",
    "    matches.insert(0,'titulo')\n",
    "    indices = []\n",
    "    for texto in matches:\n",
    "        texto = re.sub('\\n', ' ',texto)\n",
    "        indices.append(texto)\n",
    "    #print(texto)\n",
    "    df1 = pd.DataFrame({'textos':t.split('CLÁUSULA'), 'clausulas':indices})\n",
    "    df1 = df1.append(df1)\n",
    "df1"
   ]
  },
  {
   "cell_type": "code",
   "execution_count": null,
   "metadata": {},
   "outputs": [],
   "source": [
    "df1.to_pickle('Clausulas_separadas.pkl')"
   ]
  },
  {
   "cell_type": "code",
   "execution_count": null,
   "metadata": {},
   "outputs": [
    {
     "name": "stdout",
     "output_type": "stream",
     "text": [
      "['titulo', 'CLÁUSULA I AUTORIZAÇÕES  ', 'CLÁUSULA II REQUISITOS  ', 'CLÁUSULA III OBJETO SOCIAL DA EMISSORA E CARACTERÍSTICAS DA EMISSÃO  ', 'CLÁUSULA IV CARACTERÍSTICAS DAS DEBÊNTURES  ', 'CLÁUSULA V VENCIMENTO ANTECIPADO  ', 'CLÁUSULA VI OBRIGAÇÕES ADICIONAIS DA EMISSORA  ', 'CLÁUSULA VII AGENTE FIDUCIÁRIO  ', 'CLÁUSULA VIII ASSEMBLEIA GERAL DE DEBENTURISTAS  ', 'CLÁUSULA IX DECLARAÇÕES E GARANTIAS DA EMISSORA  ', 'CLÁUSULA X DISPOSIÇÕES GERAIS  ']\n"
     ]
    }
   ],
   "source": [
    "print(indices)"
   ]
  },
  {
   "cell_type": "code",
   "execution_count": null,
   "metadata": {},
   "outputs": [],
   "source": []
  }
 ],
 "metadata": {
  "interpreter": {
   "hash": "425f647ebd999de11ed5a88949ddd8eebb20a30391b0c18ab1b1528069f5ce06"
  },
  "kernelspec": {
   "display_name": "Python 3.9.7 64-bit",
   "name": "python3"
  },
  "language_info": {
   "codemirror_mode": {
    "name": "ipython",
    "version": 3
   },
   "file_extension": ".py",
   "mimetype": "text/x-python",
   "name": "python",
   "nbconvert_exporter": "python",
   "pygments_lexer": "ipython3",
   "version": "3.9.7"
  },
  "orig_nbformat": 4
 },
 "nbformat": 4,
 "nbformat_minor": 2
}
