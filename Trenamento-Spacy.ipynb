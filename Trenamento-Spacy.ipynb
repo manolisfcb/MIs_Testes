{
 "cells": [
  {
   "cell_type": "markdown",
   "metadata": {},
   "source": [
    "# Este Caderno é para testar o treinamento de Spacy para termos legais dentro da OT."
   ]
  },
  {
   "cell_type": "markdown",
   "metadata": {},
   "source": []
  },
  {
   "cell_type": "code",
   "execution_count": 1,
   "metadata": {},
   "outputs": [
    {
     "name": "stderr",
     "output_type": "stream",
     "text": [
      "C:\\Users\\manuel.Cabrera\\AppData\\Local\\Programs\\Python\\Python39\\lib\\site-packages\\cupy\\_environment.py:213: UserWarning: CUDA path could not be detected. Set CUDA_PATH environment variable if CuPy fails to load.\n",
      "  warnings.warn(\n",
      "C:\\Users\\manuel.Cabrera\\AppData\\Local\\Programs\\Python\\Python39\\lib\\site-packages\\cupy\\_environment.py:213: UserWarning: CUDA path could not be detected. Set CUDA_PATH environment variable if CuPy fails to load.\n",
      "  warnings.warn(\n"
     ]
    }
   ],
   "source": [
    "import pickle\n",
    "import pandas as pd\n",
    "\n",
    "import spacy\n",
    "from spacy.matcher import Matcher\n",
    "from spacy.tokens import Span\n",
    "nlp = spacy.load(\"pt_core_news_lg\")"
   ]
  },
  {
   "cell_type": "code",
   "execution_count": 2,
   "metadata": {},
   "outputs": [],
   "source": [
    "tabela = pd.read_pickle('MAPSPRICING_CRIC3TIP.pkl')"
   ]
  },
  {
   "cell_type": "code",
   "execution_count": 3,
   "metadata": {},
   "outputs": [
    {
     "data": {
      "text/html": [
       "<div>\n",
       "<style scoped>\n",
       "    .dataframe tbody tr th:only-of-type {\n",
       "        vertical-align: middle;\n",
       "    }\n",
       "\n",
       "    .dataframe tbody tr th {\n",
       "        vertical-align: top;\n",
       "    }\n",
       "\n",
       "    .dataframe thead th {\n",
       "        text-align: right;\n",
       "    }\n",
       "</style>\n",
       "<table border=\"1\" class=\"dataframe\">\n",
       "  <thead>\n",
       "    <tr style=\"text-align: right;\">\n",
       "      <th></th>\n",
       "      <th>Código</th>\n",
       "      <th>Emissor</th>\n",
       "      <th>Agente Fiduciário</th>\n",
       "      <th>N° da Emissão</th>\n",
       "      <th>N° da série</th>\n",
       "      <th>Qtd Emitida</th>\n",
       "      <th>Volume Emissão</th>\n",
       "      <th>Remuneração</th>\n",
       "      <th>Data de Emissão</th>\n",
       "      <th>Data de Vencimento</th>\n",
       "      <th>Data Final de Distribuição</th>\n",
       "      <th>ISIN</th>\n",
       "      <th>Agenda de Eventos</th>\n",
       "    </tr>\n",
       "  </thead>\n",
       "  <tbody>\n",
       "    <tr>\n",
       "      <th>0</th>\n",
       "      <td>11F0034534</td>\n",
       "      <td>BRAZILIAN SECURITIES CIA DE SECURITIZACAO</td>\n",
       "      <td>OLIVEIRA TRUST DTVM S/A</td>\n",
       "      <td>1</td>\n",
       "      <td>240</td>\n",
       "      <td>42</td>\n",
       "      <td>12.834.346,98</td>\n",
       "      <td>IGP-M+8,70000%</td>\n",
       "      <td>13/06/2011</td>\n",
       "      <td>13/05/2031</td>\n",
       "      <td>08/12/2011</td>\n",
       "      <td>BRBSCSCRI5Z5</td>\n",
       "      <td>https://www2.cetip.com.br/AgendaCRI/1a5f3f3f-e...</td>\n",
       "    </tr>\n",
       "    <tr>\n",
       "      <th>1</th>\n",
       "      <td>11F0039975</td>\n",
       "      <td>BRAZILIAN SECURITIES CIA DE SECURITIZACAO</td>\n",
       "      <td>OLIVEIRA TRUST DTVM S/A</td>\n",
       "      <td>1</td>\n",
       "      <td>247</td>\n",
       "      <td>43</td>\n",
       "      <td>13.119.118,11</td>\n",
       "      <td>IGP-M+8,00000%</td>\n",
       "      <td>20/06/2011</td>\n",
       "      <td>20/05/2041</td>\n",
       "      <td>16/12/2011</td>\n",
       "      <td>BRBSCSCRI632</td>\n",
       "      <td>https://www2.cetip.com.br/AgendaCRI/724b39be-1...</td>\n",
       "    </tr>\n",
       "    <tr>\n",
       "      <th>2</th>\n",
       "      <td>12H0028369</td>\n",
       "      <td>BRAZILIAN SECURITIES CIA DE SECURITIZACAO</td>\n",
       "      <td>OLIVEIRA TRUST DTVM SA</td>\n",
       "      <td>1</td>\n",
       "      <td>287</td>\n",
       "      <td>126</td>\n",
       "      <td>42.000.000,84</td>\n",
       "      <td>IPCA+6,50000%</td>\n",
       "      <td>28/08/2012</td>\n",
       "      <td>30/08/2024</td>\n",
       "      <td>25/01/2013</td>\n",
       "      <td>BRBSCSCRI7K3</td>\n",
       "      <td>https://www2.cetip.com.br/AgendaCRI/9d813818-1...</td>\n",
       "    </tr>\n",
       "    <tr>\n",
       "      <th>3</th>\n",
       "      <td>13J0119975</td>\n",
       "      <td>BRAZILIAN SECURITIES CIA DE SECURITIZACAO</td>\n",
       "      <td>PENTAGONO S/A DTVM</td>\n",
       "      <td>1</td>\n",
       "      <td>304</td>\n",
       "      <td>409</td>\n",
       "      <td>122.700.000,00</td>\n",
       "      <td>IPCA+6,69410%</td>\n",
       "      <td>15/10/2013</td>\n",
       "      <td>15/10/2031</td>\n",
       "      <td>10/06/2014</td>\n",
       "      <td>BRBSCSCRI848</td>\n",
       "      <td>https://www2.cetip.com.br/AgendaCRI/34830e68-d...</td>\n",
       "    </tr>\n",
       "    <tr>\n",
       "      <th>4</th>\n",
       "      <td>15I0011480</td>\n",
       "      <td>RB SEC COMPANHIA DE SECURITIZACAO</td>\n",
       "      <td>PENTAGONO DTVM SA</td>\n",
       "      <td>1</td>\n",
       "      <td>108</td>\n",
       "      <td>210.000</td>\n",
       "      <td>210.000.000,00</td>\n",
       "      <td>100%  DI+0,15000%</td>\n",
       "      <td>17/09/2015</td>\n",
       "      <td>17/09/2025</td>\n",
       "      <td>15/03/2016</td>\n",
       "      <td>BRRBRACRI366</td>\n",
       "      <td>https://www2.cetip.com.br/AgendaCRI/6688a62b-e...</td>\n",
       "    </tr>\n",
       "    <tr>\n",
       "      <th>...</th>\n",
       "      <td>...</td>\n",
       "      <td>...</td>\n",
       "      <td>...</td>\n",
       "      <td>...</td>\n",
       "      <td>...</td>\n",
       "      <td>...</td>\n",
       "      <td>...</td>\n",
       "      <td>...</td>\n",
       "      <td>...</td>\n",
       "      <td>...</td>\n",
       "      <td>...</td>\n",
       "      <td>...</td>\n",
       "      <td>...</td>\n",
       "    </tr>\n",
       "    <tr>\n",
       "      <th>73</th>\n",
       "      <td>21H1029266</td>\n",
       "      <td>TRUE  SECURITIZADORA S/A</td>\n",
       "      <td>OLIVEIRA TRUST DTVM S/A</td>\n",
       "      <td>1</td>\n",
       "      <td>415</td>\n",
       "      <td>1.000.000</td>\n",
       "      <td>23.611.433,77</td>\n",
       "      <td>IGP-M+7,75000%</td>\n",
       "      <td>24/08/2021</td>\n",
       "      <td>24/07/2053</td>\n",
       "      <td>25/02/2022</td>\n",
       "      <td>BRAPCSCRIAV6</td>\n",
       "      <td>https://www2.cetip.com.br/AgendaCRI/6e321200-e...</td>\n",
       "    </tr>\n",
       "    <tr>\n",
       "      <th>74</th>\n",
       "      <td>21H1029284</td>\n",
       "      <td>TRUE  SECURITIZADORA S/A</td>\n",
       "      <td>OLIVEIRA TRUST DTVM S/A</td>\n",
       "      <td>1</td>\n",
       "      <td>417</td>\n",
       "      <td>1.000</td>\n",
       "      <td>1.000,00</td>\n",
       "      <td>IPCA+0,00010%</td>\n",
       "      <td>24/08/2021</td>\n",
       "      <td>24/07/2053</td>\n",
       "      <td>25/02/2022</td>\n",
       "      <td>BRAPCSCRIAX2</td>\n",
       "      <td>https://www2.cetip.com.br/AgendaCRI/b7677f6a-2...</td>\n",
       "    </tr>\n",
       "    <tr>\n",
       "      <th>75</th>\n",
       "      <td>21I0566602</td>\n",
       "      <td>TRUE  SECURITIZADORA S/A</td>\n",
       "      <td>OLIVEIRA TRUST DTVM</td>\n",
       "      <td>1</td>\n",
       "      <td>454</td>\n",
       "      <td>160.000</td>\n",
       "      <td>160.000.000,00</td>\n",
       "      <td>IPCA+7,00000%</td>\n",
       "      <td>14/09/2021</td>\n",
       "      <td>15/09/2025</td>\n",
       "      <td>10/02/2022</td>\n",
       "      <td>BRAPCSCRIAZ7</td>\n",
       "      <td>https://www2.cetip.com.br/AgendaCRI/6e410bbf-e...</td>\n",
       "    </tr>\n",
       "    <tr>\n",
       "      <th>76</th>\n",
       "      <td>21I0683349</td>\n",
       "      <td>TRUE  SECURITIZADORA S/A</td>\n",
       "      <td>VORTX DTVM S.A.</td>\n",
       "      <td>1</td>\n",
       "      <td>435</td>\n",
       "      <td>110.000</td>\n",
       "      <td>110.000.000,00</td>\n",
       "      <td>IPCA+7,50000%</td>\n",
       "      <td>15/09/2021</td>\n",
       "      <td>15/09/2028</td>\n",
       "      <td>25/02/2022</td>\n",
       "      <td>BRAPCSCRIB19</td>\n",
       "      <td>https://www2.cetip.com.br/AgendaCRI/3783da03-4...</td>\n",
       "    </tr>\n",
       "    <tr>\n",
       "      <th>77</th>\n",
       "      <td>21I0776612</td>\n",
       "      <td>BSI CAPITAL SECURITIZADORA S.A.</td>\n",
       "      <td>VORTX DTVM S.A.</td>\n",
       "      <td>1</td>\n",
       "      <td>15</td>\n",
       "      <td>8.000</td>\n",
       "      <td>8.000.000,00</td>\n",
       "      <td>IPCA+10,50000%</td>\n",
       "      <td>23/09/2021</td>\n",
       "      <td>23/08/2025</td>\n",
       "      <td>23/03/2022</td>\n",
       "      <td>BRBSIPCRI0D0</td>\n",
       "      <td>https://www2.cetip.com.br/AgendaCRI/20a0cb8d-2...</td>\n",
       "    </tr>\n",
       "  </tbody>\n",
       "</table>\n",
       "<p>78 rows × 13 columns</p>\n",
       "</div>"
      ],
      "text/plain": [
       "        Código                                    Emissor  \\\n",
       "0   11F0034534  BRAZILIAN SECURITIES CIA DE SECURITIZACAO   \n",
       "1   11F0039975  BRAZILIAN SECURITIES CIA DE SECURITIZACAO   \n",
       "2   12H0028369  BRAZILIAN SECURITIES CIA DE SECURITIZACAO   \n",
       "3   13J0119975  BRAZILIAN SECURITIES CIA DE SECURITIZACAO   \n",
       "4   15I0011480          RB SEC COMPANHIA DE SECURITIZACAO   \n",
       "..         ...                                        ...   \n",
       "73  21H1029266                   TRUE  SECURITIZADORA S/A   \n",
       "74  21H1029284                   TRUE  SECURITIZADORA S/A   \n",
       "75  21I0566602                   TRUE  SECURITIZADORA S/A   \n",
       "76  21I0683349                   TRUE  SECURITIZADORA S/A   \n",
       "77  21I0776612            BSI CAPITAL SECURITIZADORA S.A.   \n",
       "\n",
       "          Agente Fiduciário  N° da Emissão  N° da série Qtd Emitida  \\\n",
       "0   OLIVEIRA TRUST DTVM S/A              1          240          42   \n",
       "1   OLIVEIRA TRUST DTVM S/A              1          247          43   \n",
       "2    OLIVEIRA TRUST DTVM SA              1          287         126   \n",
       "3        PENTAGONO S/A DTVM              1          304         409   \n",
       "4         PENTAGONO DTVM SA              1          108     210.000   \n",
       "..                      ...            ...          ...         ...   \n",
       "73  OLIVEIRA TRUST DTVM S/A              1          415   1.000.000   \n",
       "74  OLIVEIRA TRUST DTVM S/A              1          417       1.000   \n",
       "75      OLIVEIRA TRUST DTVM              1          454     160.000   \n",
       "76          VORTX DTVM S.A.              1          435     110.000   \n",
       "77          VORTX DTVM S.A.              1           15       8.000   \n",
       "\n",
       "    Volume Emissão        Remuneração Data de Emissão Data de Vencimento  \\\n",
       "0    12.834.346,98     IGP-M+8,70000%      13/06/2011         13/05/2031   \n",
       "1    13.119.118,11     IGP-M+8,00000%      20/06/2011         20/05/2041   \n",
       "2    42.000.000,84      IPCA+6,50000%      28/08/2012         30/08/2024   \n",
       "3   122.700.000,00      IPCA+6,69410%      15/10/2013         15/10/2031   \n",
       "4   210.000.000,00  100%  DI+0,15000%      17/09/2015         17/09/2025   \n",
       "..             ...                ...             ...                ...   \n",
       "73   23.611.433,77     IGP-M+7,75000%      24/08/2021         24/07/2053   \n",
       "74        1.000,00      IPCA+0,00010%      24/08/2021         24/07/2053   \n",
       "75  160.000.000,00      IPCA+7,00000%      14/09/2021         15/09/2025   \n",
       "76  110.000.000,00      IPCA+7,50000%      15/09/2021         15/09/2028   \n",
       "77    8.000.000,00     IPCA+10,50000%      23/09/2021         23/08/2025   \n",
       "\n",
       "   Data Final de Distribuição          ISIN  \\\n",
       "0                  08/12/2011  BRBSCSCRI5Z5   \n",
       "1                  16/12/2011  BRBSCSCRI632   \n",
       "2                  25/01/2013  BRBSCSCRI7K3   \n",
       "3                  10/06/2014  BRBSCSCRI848   \n",
       "4                  15/03/2016  BRRBRACRI366   \n",
       "..                        ...           ...   \n",
       "73                 25/02/2022  BRAPCSCRIAV6   \n",
       "74                 25/02/2022  BRAPCSCRIAX2   \n",
       "75                 10/02/2022  BRAPCSCRIAZ7   \n",
       "76                 25/02/2022  BRAPCSCRIB19   \n",
       "77                 23/03/2022  BRBSIPCRI0D0   \n",
       "\n",
       "                                    Agenda de Eventos  \n",
       "0   https://www2.cetip.com.br/AgendaCRI/1a5f3f3f-e...  \n",
       "1   https://www2.cetip.com.br/AgendaCRI/724b39be-1...  \n",
       "2   https://www2.cetip.com.br/AgendaCRI/9d813818-1...  \n",
       "3   https://www2.cetip.com.br/AgendaCRI/34830e68-d...  \n",
       "4   https://www2.cetip.com.br/AgendaCRI/6688a62b-e...  \n",
       "..                                                ...  \n",
       "73  https://www2.cetip.com.br/AgendaCRI/6e321200-e...  \n",
       "74  https://www2.cetip.com.br/AgendaCRI/b7677f6a-2...  \n",
       "75  https://www2.cetip.com.br/AgendaCRI/6e410bbf-e...  \n",
       "76  https://www2.cetip.com.br/AgendaCRI/3783da03-4...  \n",
       "77  https://www2.cetip.com.br/AgendaCRI/20a0cb8d-2...  \n",
       "\n",
       "[78 rows x 13 columns]"
      ]
     },
     "execution_count": 3,
     "metadata": {},
     "output_type": "execute_result"
    }
   ],
   "source": [
    "tabela"
   ]
  },
  {
   "cell_type": "code",
   "execution_count": 4,
   "metadata": {},
   "outputs": [],
   "source": [
    "agentes_fiduciarios = set()\n",
    "agentes_fiduciarios = tabela['Agente Fiduciário'].unique().tolist()"
   ]
  },
  {
   "cell_type": "code",
   "execution_count": 5,
   "metadata": {},
   "outputs": [],
   "source": [
    "text = '''OLIVEIRA TRUST DISTRIBUIDORA DE TÍTULOS E VALORES MOBILIÁRIOS S.A., \n",
    "instituição financeira autorizada a exercer as funções de agente fiduciário, com sede na Cidade e Estado do Rio de Janeiro, na Avenida das Américas, nº 3.434, Bloco 7, Sala 201,\n",
    "inscrita no CNPJ sob o nº 36.113.876/0001-91, neste ato representada por seu(s) representante(s) legal(is) devidamente autorizado(s) e identificado(s) nas páginas de assinaturas do presente instrumento\n",
    "(“Agente Fiduciário”), representando a comunhão dos titulares das debêntures desta emissão (“Debenturistas” e, individualmente, “Debenturista”),'''"
   ]
  },
  {
   "cell_type": "code",
   "execution_count": 6,
   "metadata": {},
   "outputs": [],
   "source": [
    "AF = 'OLIVEIRA TRUST DISTRIBUIDORA DE TÍTULOS E VALORES MOBILIÁRIOS S.A.'\n",
    "if AF in agentes_fiduciarios:\n",
    "    pass\n",
    "else:\n",
    "    agentes_fiduciarios.append(AF)"
   ]
  },
  {
   "cell_type": "code",
   "execution_count": 7,
   "metadata": {},
   "outputs": [
    {
     "data": {
      "text/plain": [
       "['OLIVEIRA TRUST DTVM S/A',\n",
       " 'OLIVEIRA TRUST DTVM SA',\n",
       " 'PENTAGONO S/A DTVM',\n",
       " 'PENTAGONO DTVM SA',\n",
       " 'VORTX DTVM S.A.',\n",
       " 'OLIVEIRA TRUST DTVM',\n",
       " 'PLANNER CORRETORA DE VALORES S.A.',\n",
       " 'PAVARINI DTVM LTDA',\n",
       " 'H. COMMCOR DTVM LTDA',\n",
       " 'GDC PARTNERS DTVM LTDA',\n",
       " 'PLANNER C V S/A',\n",
       " 'OLIVEIRA TRUST DISTRIBUIDORA DE TÍTULOS E VALORES MOBILIÁRIOS S.A.']"
      ]
     },
     "execution_count": 7,
     "metadata": {},
     "output_type": "execute_result"
    }
   ],
   "source": [
    "agentes_fiduciarios"
   ]
  },
  {
   "cell_type": "code",
   "execution_count": 8,
   "metadata": {},
   "outputs": [],
   "source": [
    "doc = nlp(text)"
   ]
  },
  {
   "cell_type": "code",
   "execution_count": 9,
   "metadata": {},
   "outputs": [],
   "source": [
    "ORG = doc.vocab.strings[\"ORG\"]"
   ]
  },
  {
   "cell_type": "code",
   "execution_count": 10,
   "metadata": {},
   "outputs": [
    {
     "data": {
      "text/plain": [
       "383"
      ]
     },
     "execution_count": 10,
     "metadata": {},
     "output_type": "execute_result"
    }
   ],
   "source": [
    "ORG"
   ]
  },
  {
   "cell_type": "code",
   "execution_count": 11,
   "metadata": {},
   "outputs": [],
   "source": [
    "new_ent = Span(doc,1,9,label = ORG)"
   ]
  },
  {
   "cell_type": "code",
   "execution_count": 12,
   "metadata": {},
   "outputs": [],
   "source": [
    "doc.ents = list(doc.ents)+ [new_ent]\n",
    "def show_ents(doc):\n",
    "    if doc.ents:\n",
    "        for ent in doc.ents:\n",
    "            print(ent.text + '-' + ent.label_ + '--' + str(spacy.explain(ent.label_)))\n",
    "    else:\n",
    "        print('No entities found')"
   ]
  },
  {
   "cell_type": "code",
   "execution_count": 13,
   "metadata": {},
   "outputs": [
    {
     "name": "stdout",
     "output_type": "stream",
     "text": [
      "OLIVEIRA-LOC--Non-GPE locations, mountain ranges, bodies of water\n",
      "TRUST DISTRIBUIDORA DE TÍTULOS E VALORES MOBILIÁRIOS S.A.-ORG--Companies, agencies, institutions, etc.\n",
      "Cidade-LOC--Non-GPE locations, mountain ranges, bodies of water\n",
      "Estado do Rio de Janeiro-LOC--Non-GPE locations, mountain ranges, bodies of water\n",
      "Avenida das Américas-LOC--Non-GPE locations, mountain ranges, bodies of water\n",
      "Bloco 7-MISC--Miscellaneous entities, e.g. events, nationalities, products or works of art\n",
      "Sala 201-MISC--Miscellaneous entities, e.g. events, nationalities, products or works of art\n",
      "CNPJ-ORG--Companies, agencies, institutions, etc.\n",
      "Agente Fiduciário-MISC--Miscellaneous entities, e.g. events, nationalities, products or works of art\n",
      "Debenturistas-MISC--Miscellaneous entities, e.g. events, nationalities, products or works of art\n",
      "Debenturista-LOC--Non-GPE locations, mountain ranges, bodies of water\n"
     ]
    }
   ],
   "source": [
    "show_ents(doc)"
   ]
  },
  {
   "cell_type": "code",
   "execution_count": 14,
   "metadata": {},
   "outputs": [],
   "source": [
    "text1 = nlp('Manuel naceu o 27 de novembro do 2021 em Fortaleza e o CPF dele é 445.225.854-56')\n",
    "import re\n",
    "#re.search('Fortaleza', text1)"
   ]
  },
  {
   "cell_type": "code",
   "execution_count": 15,
   "metadata": {},
   "outputs": [
    {
     "data": {
      "text/html": [
       "<span class=\"tex2jax_ignore\"><div class=\"entities\" style=\"line-height: 2.5; direction: ltr\">\n",
       "<mark class=\"entity\" style=\"background: #ddd; padding: 0.45em 0.6em; margin: 0 0.25em; line-height: 1; border-radius: 0.35em;\">\n",
       "    Manuel\n",
       "    <span style=\"font-size: 0.8em; font-weight: bold; line-height: 1; border-radius: 0.35em; vertical-align: middle; margin-left: 0.5rem\">PER</span>\n",
       "</mark>\n",
       " naceu o 27 de novembro do 2021 em \n",
       "<mark class=\"entity\" style=\"background: #ff9561; padding: 0.45em 0.6em; margin: 0 0.25em; line-height: 1; border-radius: 0.35em;\">\n",
       "    Fortaleza\n",
       "    <span style=\"font-size: 0.8em; font-weight: bold; line-height: 1; border-radius: 0.35em; vertical-align: middle; margin-left: 0.5rem\">LOC</span>\n",
       "</mark>\n",
       " e o \n",
       "<mark class=\"entity\" style=\"background: #ddd; padding: 0.45em 0.6em; margin: 0 0.25em; line-height: 1; border-radius: 0.35em;\">\n",
       "    CPF\n",
       "    <span style=\"font-size: 0.8em; font-weight: bold; line-height: 1; border-radius: 0.35em; vertical-align: middle; margin-left: 0.5rem\">MISC</span>\n",
       "</mark>\n",
       " dele é 445.225.854-56</div></span>"
      ],
      "text/plain": [
       "<IPython.core.display.HTML object>"
      ]
     },
     "metadata": {},
     "output_type": "display_data"
    }
   ],
   "source": [
    "spacy.displacy.render(text1,style='ent', jupyter=True)"
   ]
  },
  {
   "cell_type": "code",
   "execution_count": 16,
   "metadata": {},
   "outputs": [],
   "source": [
    "TRAIN_DATA = [\n",
    "(\"neste ato representada por REDER GLAUBER GADWEYERS RG o' 3562284 e CPF o' 530.722.356-00\", {'entities':[(64,78,\"CPF\")]}),\n",
    "(\"HENRIQUE LUIZ HELEODORO DA SILVA, RG 8686 CREA-DF e CPF nO 391.352.504-10, resolvem celebrar o presente contrato.\",{'entities':[(59,73,\"CPF\")]}),\n",
    "(\"Manuel naceu o 27 de novembro do 2021 em Fortaleza e o CPF dele é 445.225.854-56\",{'entities':[(66,80,\"CPF\")]}),\n",
    "(\"O sonho dela é ir para Australia visitar seu irmão\", {'entities':[(25,34,\"LOC\")]}),\n",
    "(\"Açmira é uma otima pessoa, eu gosto muito dela\",{'entities':[(0,6,\"LPER\")]})\n",
    "\n",
    "]"
   ]
  },
  {
   "cell_type": "code",
   "execution_count": 17,
   "metadata": {},
   "outputs": [
    {
     "data": {
      "text/plain": [
       "\"A UNIÃO, por intermédio do SENADO FEDERAL, CNPJ nO 00.530.279/0001-15.doravante denominado SENADO oU CONTRATANTE. com sede na Praça dos Três Poderes, em Brasilia-DF - CEP 70.165-900, neste ato representado pela seu diretor HAROLDO FEITOSA\\nTAJRA, e BRASIL TELECOM S.A, CNPJ nO 76.535.76410001-43, com sede no SIA SUL ASP. Conjunto D, Bloco B. Brasília - DF, CEP 71.215-000, telefone n° (61) 3131-3154 e fax nO 3415- 1726, doravanle denominada CONTRATADA. neste ato representada por REDER GLAUBER GAD\\nWEYERS RG o' 3562284 e CPF o' 530.722.356-00 e HENRIQUE LUIZ HELEODORO DA SILVA, RG 8686 CREA-DF e CPF nO 391.352.504-10, resolvem celebrar o presente contrato. decorrente do Pregão nO 09412009. com a manifestação favorável do E:xmo.\""
      ]
     },
     "execution_count": 17,
     "metadata": {},
     "output_type": "execute_result"
    }
   ],
   "source": [
    "'''A UNIÃO, por intermédio do SENADO FEDERAL, CNPJ nO 00.530.279/0001-15.doravante denominado SENADO oU CONTRATANTE. com sede na Praça dos Três Poderes, em Brasilia-DF - CEP 70.165-900, neste ato representado pela seu diretor HAROLDO FEITOSA\n",
    "TAJRA, e BRASIL TELECOM S.A, CNPJ nO 76.535.76410001-43, com sede no SIA SUL ASP. Conjunto D, Bloco B. Brasília - DF, CEP 71.215-000, telefone n° (61) 3131-3154 e fax nO 3415- 1726, doravanle denominada CONTRATADA. neste ato representada por REDER GLAUBER GAD\n",
    "WEYERS RG o' 3562284 e CPF o' 530.722.356-00 e HENRIQUE LUIZ HELEODORO DA SILVA, RG 8686 CREA-DF e CPF nO 391.352.504-10, resolvem celebrar o presente contrato. decorrente do Pregão nO 09412009. com a manifestação favorável do E:xmo.'''"
   ]
  },
  {
   "cell_type": "code",
   "execution_count": 18,
   "metadata": {},
   "outputs": [],
   "source": [
    "import pt_core_news_lg\n",
    "import random"
   ]
  },
  {
   "cell_type": "code",
   "execution_count": 19,
   "metadata": {},
   "outputs": [],
   "source": [
    "# def train_spacy(data,n_iter):\n",
    "#     TRAIN_DATA = data\n",
    "#     \"\"\"carrega o modelo, configura o pipeline e treina o reconhecedor da entidade.\"\"\"\n",
    "#     nlp = pt_core_news_lg.load()\n",
    "#     print (' Modelo Carregado Corretamente')\n",
    "\n",
    "#     if 'ner' not in nlp.pipe_names:\n",
    "#         ner = nlp.create_pipe('ner')\n",
    "#         nlp.add_pipe(ner,last=True)\n",
    "#     else:\n",
    "#         ner = nlp.get_pipe('ner')\n",
    "    \n",
    "#     for _,annotations in TRAIN_DATA:\n",
    "#         for ent in annotations.get('entities'):\n",
    "#             ner.add_label(ent[2])\n",
    "    \n",
    "#     disabled_pipes = []\n",
    "#     for pipe_name in nlp.pipe_names:\n",
    "#         if pipe_name != 'ner':\n",
    "#             nlp.disable_pipes(pipe_name)\n",
    "#             disabled_pipes.append(pipe_name)\n",
    "#     spacy.util.fix_random_seed()\n",
    "#     optimizer = nlp.begin_training()\n",
    "\n",
    "#     for itn in range(m_iter):\n",
    "#         random.seed(10)\n",
    "#         random.shuffle(TRAIN_DATA)\n",
    "#         losses = {}\n",
    "\n",
    "#         for text, annotations in TRAIN_DATA:\n",
    "#             nlp.update(\n",
    "#                 [texts],\n",
    "#                 [annotations],\n",
    "#                 drop = 0.2,\n",
    "#                 sgd = optimizer,\n",
    "#                 losses = losses,\n",
    "#             )\n",
    "#         print(\"losses\", losses)\n",
    "\n",
    "#     for text, _ in TRAIN_DATA:\n",
    "#         doc = nlp(text)\n",
    "#         print('Entities', [(ent.text, ent.label_) for ent in doc.ents])\n",
    "#         print('Tokens',[(t.text. t.ent_type_) for t in doc])\n",
    "#         print('\\n')\n",
    "#     return nlp"
   ]
  },
  {
   "cell_type": "code",
   "execution_count": 20,
   "metadata": {},
   "outputs": [],
   "source": [
    "import spacy\n",
    "import random\n",
    "from spacy import util\n",
    "from spacy.tokens import Doc\n",
    "from spacy.training import Example\n",
    "from spacy.language import Language\n",
    "\n",
    "def print_doc_entities(_doc: Doc):\n",
    "    if _doc.ents:\n",
    "        for _ent in _doc.ents:\n",
    "            print(f\"     {_ent.text} {_ent.label_}\")\n",
    "    else:\n",
    "        print(\"     NONE\")\n",
    "\n",
    "def customizing_pipeline_component(nlp: Language):\n",
    "    # NOTE: Starting from Spacy 3.0, training via Python API was changed. For information see - https://spacy.io/usage/v3#migrating-training-python\n",
    "    TRAIN_DATA = [\n",
    "    (\"neste ato representada por Thais GLAUBER GADWEYERS RG o' 3562284 e CPF o' 257.752.156-02\", [(27,50,'PER'),(74,88,\"CPF\")]),\n",
    "    (\"HENRIQUE LUIZ HELEODORO DA SILVA, RG 8686 CREA-DF e CPF nO 391.352.504-10, resolvem celebrar o presente contrato.\",[(2,34,'PER'),(59,73,\"CPF\")]),\n",
    "    (\"Manuel naceu o 27 de novembro do 2021 em Fortaleza e o CPF dele é 445.225.854-56\",[(0,6,\"PER\"),(41,50,'LOC'),(66,80,\"CPF\")]),\n",
    "    (\"O sonho dela é ir para Australia visitar seu irmão\", [(25,34,\"LOC\")]),\n",
    "    (\"Açmira é uma otima pessoa, eu gosto muito dela\",[(0,6,\"PER\")]),\n",
    "    ('Luis naceu o 27/14/1993 em Fortaleza',[(0,4,'PER'), (13,23,'DATE'),(27,36,'LOC')]),\n",
    "    ('Roberta De Sousa Ramos portadora do documento de identificação RG nº 5.397.740-3 SSP/SP e CPF/MF sob nº 012.608.578-16',[(0,22,'PER'),(81,87,'LOC'),(104,118,'CPF')]),\n",
    "    ('Conselho de Administração da Emissora, (i) em reunião realizada em 21 de julho de 2017 (“RCA 21.07.2017”), aprovou a emissão das Debêntures ',[(67,86,'DATA'),(93,103,'DATA') ]),\n",
    "    ('''automaticamente dispensada do registro de distribuição de que trata o artigo 19 da Lei nº 6.385, de 7 de dezembro de 1976''',[(83,95,'Lei'),(100,121,'DATA')]),\n",
    "    ('Nos termos do artigo 59, caput, e 122, IV, da Lei nº 6.404, de 15 de dezembro de 1976, conforme em vigor',[(47,59,'Lei'),(64,86,'DATA')]),\n",
    "    ('Oliveira Trust Ditribuidora de Títulos e Valores Mobiliários S.A., instituição financeira autorizada a exercer as funções de agente fiduciário, com sede na Cidade e Estado do Rio de Janeiro, na',[(175,189,\"LOC\")])\n",
    "    \n",
    "    \n",
    "    \n",
    "    \n",
    "    ]\n",
    "\n",
    "    # Result before training\n",
    "    print(f\"\\nResult BEFORE training:\")\n",
    "    doc = nlp(u'Luis naceu o 27 de novembro do 2021 em Fortaleza e o CPF dele é 241.718.958-55.')\n",
    "    print_doc_entities(doc)\n",
    "\n",
    "    # Disable all pipe components except 'ner'\n",
    "    disabled_pipes = []\n",
    "    for pipe_name in nlp.pipe_names:\n",
    "        if pipe_name != 'ner':\n",
    "            nlp.disable_pipes(pipe_name)\n",
    "            disabled_pipes.append(pipe_name)\n",
    "\n",
    "    print(\"   Training ...\")\n",
    "    optimizer = nlp.create_optimizer()\n",
    "    for _ in range(25):\n",
    "        random.shuffle(TRAIN_DATA)\n",
    "        for raw_text, entity_offsets in TRAIN_DATA:\n",
    "            doc = nlp.make_doc(raw_text)\n",
    "            example = Example.from_dict(doc, {\"entities\": entity_offsets})\n",
    "            nlp.update([example], sgd=optimizer)\n",
    "\n",
    "    # Enable all previously disabled pipe components\n",
    "    for pipe_name in disabled_pipes:\n",
    "        nlp.enable_pipe(pipe_name)\n",
    "\n",
    "    # Result after training\n",
    "    print(f\"Result AFTER training:\")\n",
    "    doc = nlp(u'Luis naceu o 27 de novembro do 2021 em Fortaleza e o CPF dele é 241.718.958-55.')\n",
    "    print_doc_entities(doc)\n",
    "\n",
    "def main():\n",
    "    nlp = spacy.load(\"pt_core_news_lg\")\n",
    "    customizing_pipeline_component(nlp)\n",
    "\n"
   ]
  },
  {
   "cell_type": "code",
   "execution_count": 21,
   "metadata": {},
   "outputs": [
    {
     "name": "stdout",
     "output_type": "stream",
     "text": [
      "\n",
      "Result BEFORE training:\n",
      "     Luis naceu PER\n",
      "     Fortaleza LOC\n",
      "     CPF MISC\n",
      "   Training ...\n"
     ]
    },
    {
     "name": "stderr",
     "output_type": "stream",
     "text": [
      "C:\\Users\\manuel.Cabrera\\AppData\\Local\\Programs\\Python\\Python39\\lib\\site-packages\\spacy\\training\\iob_utils.py:141: UserWarning: [W030] Some entities could not be aligned in the text \"HENRIQUE LUIZ HELEODORO DA SILVA, RG 8686 CREA-DF ...\" with entities \"[(2, 34, 'PER'), (59, 73, 'CPF')]\". Use `spacy.training.offsets_to_biluo_tags(nlp.make_doc(text), entities)` to check the alignment. Misaligned entities ('-') will be ignored during training.\n",
      "  warnings.warn(\n",
      "C:\\Users\\manuel.Cabrera\\AppData\\Local\\Programs\\Python\\Python39\\lib\\site-packages\\spacy\\training\\iob_utils.py:141: UserWarning: [W030] Some entities could not be aligned in the text \"O sonho dela é ir para Australia visitar seu irmão\" with entities \"[(25, 34, 'LOC')]\". Use `spacy.training.offsets_to_biluo_tags(nlp.make_doc(text), entities)` to check the alignment. Misaligned entities ('-') will be ignored during training.\n",
      "  warnings.warn(\n",
      "C:\\Users\\manuel.Cabrera\\AppData\\Local\\Programs\\Python\\Python39\\lib\\site-packages\\spacy\\training\\iob_utils.py:141: UserWarning: [W030] Some entities could not be aligned in the text \"Nos termos do artigo 59, caput, e 122, IV, da Lei ...\" with entities \"[(47, 59, 'Lei'), (64, 86, 'DATA')]\". Use `spacy.training.offsets_to_biluo_tags(nlp.make_doc(text), entities)` to check the alignment. Misaligned entities ('-') will be ignored during training.\n",
      "  warnings.warn(\n"
     ]
    },
    {
     "name": "stdout",
     "output_type": "stream",
     "text": [
      "Result AFTER training:\n",
      "     Luis PER\n",
      "     Fortaleza LOC\n",
      "     241.718.958-55 CPF\n"
     ]
    }
   ],
   "source": [
    "customizing_pipeline_component(nlp)"
   ]
  },
  {
   "cell_type": "code",
   "execution_count": 22,
   "metadata": {},
   "outputs": [
    {
     "data": {
      "text/html": [
       "<span class=\"tex2jax_ignore\"><div class=\"entities\" style=\"line-height: 2.5; direction: ltr\">\n",
       "<mark class=\"entity\" style=\"background: #ddd; padding: 0.45em 0.6em; margin: 0 0.25em; line-height: 1; border-radius: 0.35em;\">\n",
       "    Roberta\n",
       "    <span style=\"font-size: 0.8em; font-weight: bold; line-height: 1; border-radius: 0.35em; vertical-align: middle; margin-left: 0.5rem\">PER</span>\n",
       "</mark>\n",
       " portador do documento de identificação RG nº 5.397.740-3 \n",
       "<mark class=\"entity\" style=\"background: #ff9561; padding: 0.45em 0.6em; margin: 0 0.25em; line-height: 1; border-radius: 0.35em;\">\n",
       "    SSP/SP\n",
       "    <span style=\"font-size: 0.8em; font-weight: bold; line-height: 1; border-radius: 0.35em; vertical-align: middle; margin-left: 0.5rem\">LOC</span>\n",
       "</mark>\n",
       " e CPF/MF sob nº \n",
       "<mark class=\"entity\" style=\"background: #ddd; padding: 0.45em 0.6em; margin: 0 0.25em; line-height: 1; border-radius: 0.35em;\">\n",
       "    012.665.948-16\n",
       "    <span style=\"font-size: 0.8em; font-weight: bold; line-height: 1; border-radius: 0.35em; vertical-align: middle; margin-left: 0.5rem\">CPF</span>\n",
       "</mark>\n",
       "</div></span>"
      ],
      "text/plain": [
       "<IPython.core.display.HTML object>"
      ]
     },
     "metadata": {},
     "output_type": "display_data"
    }
   ],
   "source": [
    "spacy.displacy.render(nlp(u'Roberta portador do documento de identificação RG nº 5.397.740-3 SSP/SP e CPF/MF sob nº 012.665.948-16'),style = 'ent', jupyter = True)"
   ]
  },
  {
   "cell_type": "code",
   "execution_count": 23,
   "metadata": {},
   "outputs": [
    {
     "data": {
      "text/html": [
       "<span class=\"tex2jax_ignore\"><div class=\"entities\" style=\"line-height: 2.5; direction: ltr\">\n",
       "<mark class=\"entity\" style=\"background: #ddd; padding: 0.45em 0.6em; margin: 0 0.25em; line-height: 1; border-radius: 0.35em;\">\n",
       "    Fernando Machado Terni\n",
       "    <span style=\"font-size: 0.8em; font-weight: bold; line-height: 1; border-radius: 0.35em; vertical-align: middle; margin-left: 0.5rem\">PER</span>\n",
       "</mark>\n",
       ", brasileiro, divorciado, engenheiro eletricista, portador do</br>documento de identificação RG nº 5.397.740-3 \n",
       "<mark class=\"entity\" style=\"background: #ff9561; padding: 0.45em 0.6em; margin: 0 0.25em; line-height: 1; border-radius: 0.35em;\">\n",
       "    SSP/SP\n",
       "    <span style=\"font-size: 0.8em; font-weight: bold; line-height: 1; border-radius: 0.35em; vertical-align: middle; margin-left: 0.5rem\">LOC</span>\n",
       "</mark>\n",
       " e CPF/MF sob nº \n",
       "<mark class=\"entity\" style=\"background: #ddd; padding: 0.45em 0.6em; margin: 0 0.25em; line-height: 1; border-radius: 0.35em;\">\n",
       "    012.608.578-16\n",
       "    <span style=\"font-size: 0.8em; font-weight: bold; line-height: 1; border-radius: 0.35em; vertical-align: middle; margin-left: 0.5rem\">CPF</span>\n",
       "</mark>\n",
       "</div></span>"
      ],
      "text/plain": [
       "<IPython.core.display.HTML object>"
      ]
     },
     "metadata": {},
     "output_type": "display_data"
    }
   ],
   "source": [
    "spacy.displacy.render(nlp(u'''Fernando Machado Terni, brasileiro, divorciado, engenheiro eletricista, portador do\n",
    "documento de identificação RG nº 5.397.740-3 SSP/SP e CPF/MF sob nº 012.608.578-16'''),style = 'ent', jupyter = True)"
   ]
  },
  {
   "cell_type": "code",
   "execution_count": 24,
   "metadata": {},
   "outputs": [
    {
     "data": {
      "text/html": [
       "<span class=\"tex2jax_ignore\"><div class=\"entities\" style=\"line-height: 2.5; direction: ltr\">sob regime de garantia firme de colocação, nos termos da \n",
       "<mark class=\"entity\" style=\"background: #ddd; padding: 0.45em 0.6em; margin: 0 0.25em; line-height: 1; border-radius: 0.35em;\">\n",
       "    Instrução da CVM\n",
       "    <span style=\"font-size: 0.8em; font-weight: bold; line-height: 1; border-radius: 0.35em; vertical-align: middle; margin-left: 0.5rem\">Lei</span>\n",
       "</mark>\n",
       " nº 476, de \n",
       "<mark class=\"entity\" style=\"background: #ddd; padding: 0.45em 0.6em; margin: 0 0.25em; line-height: 1; border-radius: 0.35em;\">\n",
       "    16 de janeiro de 2009\n",
       "    <span style=\"font-size: 0.8em; font-weight: bold; line-height: 1; border-radius: 0.35em; vertical-align: middle; margin-left: 0.5rem\">DATA</span>\n",
       "</mark>\n",
       "</div></span>"
      ],
      "text/plain": [
       "<IPython.core.display.HTML object>"
      ]
     },
     "metadata": {},
     "output_type": "display_data"
    }
   ],
   "source": [
    "spacy.displacy.render(nlp(u'''sob regime de garantia firme de colocação, nos termos da Instrução da CVM nº 476, de 16 de janeiro de 2009'''),style = 'ent', jupyter = True)"
   ]
  },
  {
   "cell_type": "code",
   "execution_count": 25,
   "metadata": {},
   "outputs": [
    {
     "data": {
      "text/html": [
       "<span class=\"tex2jax_ignore\"><div class=\"entities\" style=\"line-height: 2.5; direction: ltr\">OLIVEIRA TRUST DISTRIBUIDORA DE TÍTULOS E VALORES MOBILIÁRIOS S.A., instituição financeira autorizada a exercer as funções de agente fiduciário, com sede na Cidade e Estado do \n",
       "<mark class=\"entity\" style=\"background: #ff9561; padding: 0.45em 0.6em; margin: 0 0.25em; line-height: 1; border-radius: 0.35em;\">\n",
       "    Rio de Janeiro\n",
       "    <span style=\"font-size: 0.8em; font-weight: bold; line-height: 1; border-radius: 0.35em; vertical-align: middle; margin-left: 0.5rem\">LOC</span>\n",
       "</mark>\n",
       ", na \n",
       "<mark class=\"entity\" style=\"background: #ff9561; padding: 0.45em 0.6em; margin: 0 0.25em; line-height: 1; border-radius: 0.35em;\">\n",
       "    Avenida das Américas\n",
       "    <span style=\"font-size: 0.8em; font-weight: bold; line-height: 1; border-radius: 0.35em; vertical-align: middle; margin-left: 0.5rem\">LOC</span>\n",
       "</mark>\n",
       ", nº 3.434, Bloco 7, \n",
       "<mark class=\"entity\" style=\"background: #ddd; padding: 0.45em 0.6em; margin: 0 0.25em; line-height: 1; border-radius: 0.35em;\">\n",
       "    Sala 201\n",
       "    <span style=\"font-size: 0.8em; font-weight: bold; line-height: 1; border-radius: 0.35em; vertical-align: middle; margin-left: 0.5rem\">CPF</span>\n",
       "</mark>\n",
       ", inscrita no CNPJ sob o nº 36.113.876/0001-91, neste ato representada por seu(s) representante(s) legal(is) devidamente autorizado(s) e identificado(s) nas páginas de assinaturas do presente instrumento</div></span>"
      ],
      "text/plain": [
       "<IPython.core.display.HTML object>"
      ]
     },
     "metadata": {},
     "output_type": "display_data"
    }
   ],
   "source": [
    "spacy.displacy.render(nlp(u'''OLIVEIRA TRUST DISTRIBUIDORA DE TÍTULOS E VALORES MOBILIÁRIOS S.A., instituição financeira autorizada a exercer as funções de agente fiduciário, com sede na Cidade e Estado do Rio de Janeiro, na Avenida das Américas, nº 3.434, Bloco 7, Sala 201, inscrita no CNPJ sob o nº 36.113.876/0001-91, neste ato representada por seu(s) representante(s) legal(is) devidamente autorizado(s) e identificado(s) nas páginas de assinaturas do presente instrumento'''),style = 'ent', jupyter = True)"
   ]
  },
  {
   "cell_type": "code",
   "execution_count": 26,
   "metadata": {},
   "outputs": [
    {
     "data": {
      "text/plain": [
       "['OLIVEIRA TRUST DTVM S/A',\n",
       " 'OLIVEIRA TRUST DTVM SA',\n",
       " 'PENTAGONO S/A DTVM',\n",
       " 'PENTAGONO DTVM SA',\n",
       " 'VORTX DTVM S.A.',\n",
       " 'OLIVEIRA TRUST DTVM',\n",
       " 'PLANNER CORRETORA DE VALORES S.A.',\n",
       " 'PAVARINI DTVM LTDA',\n",
       " 'H. COMMCOR DTVM LTDA',\n",
       " 'GDC PARTNERS DTVM LTDA',\n",
       " 'PLANNER C V S/A',\n",
       " 'OLIVEIRA TRUST DISTRIBUIDORA DE TÍTULOS E VALORES MOBILIÁRIOS S.A.']"
      ]
     },
     "execution_count": 26,
     "metadata": {},
     "output_type": "execute_result"
    }
   ],
   "source": [
    "agentes_fiduciarios\n"
   ]
  },
  {
   "cell_type": "code",
   "execution_count": 41,
   "metadata": {},
   "outputs": [],
   "source": [
    "from spacy.matcher import PhraseMatcher\n",
    "doc2 = nlp(u'''\n",
    "Oliveira Trust Ditribuidora de Títulos e Valores Mobiliários S.A., instituição financeira autorizada a exercer as funções de agente fiduciário, com sede na Cidade e Estado do Rio de Janeiro, na Avenida das Américas, nº 3.434, Bloco 7, Sala 201, inscrita no CNPJ sob o nº 36.113.876/0001-91, neste ato representada por seu(s) representante(s) legal(is) devidamente autorizado(s) e identificado(s) nas páginas de assinaturas do presente instrumento''')"
   ]
  },
  {
   "cell_type": "code",
   "execution_count": 42,
   "metadata": {},
   "outputs": [],
   "source": [
    "matcher = PhraseMatcher(nlp.vocab)"
   ]
  },
  {
   "cell_type": "code",
   "execution_count": 43,
   "metadata": {},
   "outputs": [],
   "source": [
    "phrase_list = ['OLIVEIRA TRUST DTVM S/A',\n",
    " 'OLIVEIRA TRUST DTVM SA','OLIVEIRA TRUST DTVM','OLIVEIRA TRUST DTVM S.A.',\n",
    " 'OLIVEIRA TRUST DISTRIBUIDORA DE TÍTULOS E VALORES MOBILIÁRIOS S.A.',\n",
    " 'Oliveira Trust DTVM S.A.','Oliveira Trust Ditribuidora de Títulos e Valores Mobiliários S.A.']"
   ]
  },
  {
   "cell_type": "code",
   "execution_count": 44,
   "metadata": {},
   "outputs": [],
   "source": [
    "phrase_patterns = [nlp(text) for text in phrase_list]"
   ]
  },
  {
   "cell_type": "code",
   "execution_count": 45,
   "metadata": {},
   "outputs": [],
   "source": [
    "matcher.add('NewORG',None,*phrase_patterns)"
   ]
  },
  {
   "cell_type": "code",
   "execution_count": 46,
   "metadata": {},
   "outputs": [],
   "source": [
    "found_matches = matcher(doc2)"
   ]
  },
  {
   "cell_type": "code",
   "execution_count": 47,
   "metadata": {},
   "outputs": [
    {
     "data": {
      "text/plain": [
       "[(11524195712045037970, 1, 10)]"
      ]
     },
     "execution_count": 47,
     "metadata": {},
     "output_type": "execute_result"
    }
   ],
   "source": [
    "found_matches"
   ]
  },
  {
   "cell_type": "code",
   "execution_count": 48,
   "metadata": {},
   "outputs": [],
   "source": [
    "from spacy.tokens import Span"
   ]
  },
  {
   "cell_type": "code",
   "execution_count": 49,
   "metadata": {},
   "outputs": [],
   "source": [
    "ORG = doc2.vocab.strings[u'ORG']"
   ]
  },
  {
   "cell_type": "code",
   "execution_count": 50,
   "metadata": {},
   "outputs": [],
   "source": [
    "new_ents = [Span(doc2,match[1],match[2],label = ORG) for match in found_matches]"
   ]
  },
  {
   "cell_type": "code",
   "execution_count": 51,
   "metadata": {},
   "outputs": [],
   "source": [
    "doc2.ents = list(doc2.ents) + new_ents"
   ]
  },
  {
   "cell_type": "code",
   "execution_count": 52,
   "metadata": {},
   "outputs": [
    {
     "name": "stdout",
     "output_type": "stream",
     "text": [
      "Oliveira Trust Ditribuidora de Títulos e Valores Mobiliários S.A.-ORG--Companies, agencies, institutions, etc.\n",
      "Rio de Janeiro-LOC--Non-GPE locations, mountain ranges, bodies of water\n",
      "Avenida das Américas-LOC--Non-GPE locations, mountain ranges, bodies of water\n",
      "Sala 201-CPF--None\n"
     ]
    }
   ],
   "source": [
    "show_ents(doc2)"
   ]
  },
  {
   "cell_type": "code",
   "execution_count": 53,
   "metadata": {},
   "outputs": [
    {
     "data": {
      "text/html": [
       "<span class=\"tex2jax_ignore\"><div class=\"entities\" style=\"line-height: 2.5; direction: ltr\"></br>\n",
       "<mark class=\"entity\" style=\"background: #7aecec; padding: 0.45em 0.6em; margin: 0 0.25em; line-height: 1; border-radius: 0.35em;\">\n",
       "    Oliveira Trust Ditribuidora de Títulos e Valores Mobiliários S.A.\n",
       "    <span style=\"font-size: 0.8em; font-weight: bold; line-height: 1; border-radius: 0.35em; vertical-align: middle; margin-left: 0.5rem\">ORG</span>\n",
       "</mark>\n",
       ", instituição financeira autorizada a exercer as funções de agente fiduciário, com sede na Cidade e Estado do \n",
       "<mark class=\"entity\" style=\"background: #ff9561; padding: 0.45em 0.6em; margin: 0 0.25em; line-height: 1; border-radius: 0.35em;\">\n",
       "    Rio de Janeiro\n",
       "    <span style=\"font-size: 0.8em; font-weight: bold; line-height: 1; border-radius: 0.35em; vertical-align: middle; margin-left: 0.5rem\">LOC</span>\n",
       "</mark>\n",
       ", na \n",
       "<mark class=\"entity\" style=\"background: #ff9561; padding: 0.45em 0.6em; margin: 0 0.25em; line-height: 1; border-radius: 0.35em;\">\n",
       "    Avenida das Américas\n",
       "    <span style=\"font-size: 0.8em; font-weight: bold; line-height: 1; border-radius: 0.35em; vertical-align: middle; margin-left: 0.5rem\">LOC</span>\n",
       "</mark>\n",
       ", nº 3.434, Bloco 7, \n",
       "<mark class=\"entity\" style=\"background: #ddd; padding: 0.45em 0.6em; margin: 0 0.25em; line-height: 1; border-radius: 0.35em;\">\n",
       "    Sala 201\n",
       "    <span style=\"font-size: 0.8em; font-weight: bold; line-height: 1; border-radius: 0.35em; vertical-align: middle; margin-left: 0.5rem\">CPF</span>\n",
       "</mark>\n",
       ", inscrita no CNPJ sob o nº 36.113.876/0001-91, neste ato representada por seu(s) representante(s) legal(is) devidamente autorizado(s) e identificado(s) nas páginas de assinaturas do presente instrumento</div></span>"
      ],
      "text/plain": [
       "<IPython.core.display.HTML object>"
      ]
     },
     "metadata": {},
     "output_type": "display_data"
    }
   ],
   "source": [
    "spacy.displacy.render(doc2,style = 'ent', jupyter = True)"
   ]
  },
  {
   "cell_type": "code",
   "execution_count": null,
   "metadata": {},
   "outputs": [],
   "source": []
  }
 ],
 "metadata": {
  "interpreter": {
   "hash": "425f647ebd999de11ed5a88949ddd8eebb20a30391b0c18ab1b1528069f5ce06"
  },
  "kernelspec": {
   "display_name": "Python 3.9.7 64-bit",
   "name": "python3"
  },
  "language_info": {
   "codemirror_mode": {
    "name": "ipython",
    "version": 3
   },
   "file_extension": ".py",
   "mimetype": "text/x-python",
   "name": "python",
   "nbconvert_exporter": "python",
   "pygments_lexer": "ipython3",
   "version": "3.9.7"
  },
  "orig_nbformat": 4
 },
 "nbformat": 4,
 "nbformat_minor": 2
}
