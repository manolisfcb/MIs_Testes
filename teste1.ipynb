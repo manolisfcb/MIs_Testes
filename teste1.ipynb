{
 "cells": [
  {
   "cell_type": "code",
   "execution_count": 1,
   "metadata": {},
   "outputs": [],
   "source": [
    "import sys\n",
    "if sys.version_info[0] == 2:\n",
    "    from Tkinter import *\n",
    "else:\n",
    "    from tkinter import *\n",
    "from TkinterDnD2 import *\n",
    "\n",
    "def drop(event):\n",
    "    entry_sv.set(event.data)\n",
    "\n",
    "root = TkinterDnD.Tk()\n",
    "entry_sv = StringVar()\n",
    "entry_sv.set('Drop Here...')\n",
    "entry = Entry(root, textvar=entry_sv, width=80)\n",
    "entry.pack(fill=X, padx=10, pady=10)\n",
    "entry.drop_target_register(DND_FILES)\n",
    "entry.dnd_bind('<<Drop>>', drop)\n",
    "root.mainloop()"
   ]
  },
  {
   "cell_type": "code",
   "execution_count": 2,
   "metadata": {},
   "outputs": [],
   "source": [
    "p = 'Hola mundo Hoy vamos a Hacer algo Hermoso'\n"
   ]
  },
  {
   "cell_type": "code",
   "execution_count": 3,
   "metadata": {},
   "outputs": [],
   "source": [
    "p = p.replace('H','h')"
   ]
  },
  {
   "cell_type": "code",
   "execution_count": 4,
   "metadata": {},
   "outputs": [
    {
     "data": {
      "text/plain": [
       "'hola mundo hoy vamos a hacer algo hermoso'"
      ]
     },
     "execution_count": 4,
     "metadata": {},
     "output_type": "execute_result"
    }
   ],
   "source": [
    "p"
   ]
  },
  {
   "cell_type": "code",
   "execution_count": null,
   "metadata": {},
   "outputs": [],
   "source": []
  }
 ],
 "metadata": {
  "interpreter": {
   "hash": "425f647ebd999de11ed5a88949ddd8eebb20a30391b0c18ab1b1528069f5ce06"
  },
  "kernelspec": {
   "display_name": "Python 3.9.7 64-bit",
   "language": "python",
   "name": "python3"
  },
  "language_info": {
   "codemirror_mode": {
    "name": "ipython",
    "version": 3
   },
   "file_extension": ".py",
   "mimetype": "text/x-python",
   "name": "python",
   "nbconvert_exporter": "python",
   "pygments_lexer": "ipython3",
   "version": "3.9.7"
  },
  "orig_nbformat": 4
 },
 "nbformat": 4,
 "nbformat_minor": 2
}
