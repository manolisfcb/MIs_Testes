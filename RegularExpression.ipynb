{
 "cells": [
  {
   "cell_type": "markdown",
   "metadata": {
    "collapsed": false
   },
   "source": []
  },
  {
   "cell_type": "code",
   "execution_count": 1,
   "metadata": {
    "collapsed": false,
    "pycharm": {
     "name": "#%%\n"
    }
   },
   "outputs": [],
   "source": [
    "# Lo primero es adicionar la biblioteca 're'\n",
    "import re"
   ]
  },
  {
   "cell_type": "code",
   "execution_count": 2,
   "metadata": {
    "collapsed": false,
    "pycharm": {
     "name": "#%%\n"
    }
   },
   "outputs": [
    {
     "data": {
      "text/plain": [
       "['',\n",
       " ' works diligently. ',\n",
       " ' gets good grades. Our student ',\n",
       " ' is succesful.']"
      ]
     },
     "execution_count": 2,
     "metadata": {},
     "output_type": "execute_result"
    }
   ],
   "source": [
    "text = 'Amy works diligently. Amy gets good grades. Our student Amy is succesful.'\n",
    "re.split(\"Amy\",text) # para saber de lo que se habla de Amy"
   ]
  },
  {
   "cell_type": "code",
   "execution_count": 3,
   "metadata": {
    "collapsed": false,
    "pycharm": {
     "name": "#%%\n"
    }
   },
   "outputs": [
    {
     "data": {
      "text/plain": [
       "['Amy', 'Amy', 'Amy']"
      ]
     },
     "execution_count": 3,
     "metadata": {},
     "output_type": "execute_result"
    }
   ],
   "source": [
    "re.findall(\"Amy\", text) # para saber cuantas veces se habla de Amy en el texto"
   ]
  },
  {
   "cell_type": "code",
   "execution_count": 4,
   "metadata": {
    "collapsed": false,
    "pycharm": {
     "name": "#%%\n"
    }
   },
   "outputs": [
    {
     "data": {
      "text/plain": [
       "<re.Match object; span=(0, 3), match='Amy'>"
      ]
     },
     "execution_count": 4,
     "metadata": {},
     "output_type": "execute_result"
    }
   ],
   "source": [
    "# veamos si el siguiente texto comienza con Amy\n",
    "text = 'Amy works diligently. Amy gets good grades. Our student Amy is succesful.'\n",
    "re.search('^Amy',text)"
   ]
  },
  {
   "cell_type": "code",
   "execution_count": 5,
   "metadata": {
    "collapsed": false,
    "pycharm": {
     "name": "#%%\n"
    }
   },
   "outputs": [
    {
     "data": {
      "text/plain": [
       "<re.Match object; span=(63, 73), match='succesful.'>"
      ]
     },
     "execution_count": 5,
     "metadata": {},
     "output_type": "execute_result"
    }
   ],
   "source": [
    "# veamos si el texto termina en 'succesful.'\n",
    "re.search('succesful.$',text)"
   ]
  },
  {
   "cell_type": "markdown",
   "metadata": {
    "collapsed": false
   },
   "source": [
    "Patrones y clases de caracteres"
   ]
  },
  {
   "cell_type": "code",
   "execution_count": 6,
   "metadata": {
    "collapsed": false,
    "pycharm": {
     "name": "#%%\n"
    }
   },
   "outputs": [],
   "source": [
    "# creando una lista de notas de estudiantes inidviduales\n",
    "grades = 'ACAAAABCBCBAA'"
   ]
  },
  {
   "cell_type": "code",
   "execution_count": 7,
   "metadata": {
    "collapsed": false,
    "pycharm": {
     "name": "#%%\n"
    }
   },
   "outputs": [
    {
     "data": {
      "text/plain": [
       "['B', 'B', 'B']"
      ]
     },
     "execution_count": 7,
     "metadata": {},
     "output_type": "execute_result"
    }
   ],
   "source": [
    "# cuantas notas B hay en la lista\n",
    "re.findall('B', grades)"
   ]
  },
  {
   "cell_type": "code",
   "execution_count": 8,
   "metadata": {
    "collapsed": false,
    "pycharm": {
     "name": "#%%\n"
    }
   },
   "outputs": [
    {
     "name": "stdout",
     "output_type": "stream",
     "text": [
      "3\n"
     ]
    }
   ],
   "source": [
    "print(len(re.findall('B',grades)))"
   ]
  },
  {
   "cell_type": "code",
   "execution_count": 9,
   "metadata": {
    "collapsed": false,
    "pycharm": {
     "name": "#%%\n"
    }
   },
   "outputs": [
    {
     "data": {
      "text/plain": [
       "['A', 'A', 'A', 'A', 'A', 'B', 'B', 'B', 'A', 'A']"
      ]
     },
     "execution_count": 9,
     "metadata": {},
     "output_type": "execute_result"
    }
   ],
   "source": [
    "# queremos contar el numero de notas A y B en la lista, no se puede usar como patron de busqueda 'AB' porque solo habra coincidencia cuando haya una nota A seguida por una nota B.\n",
    "# en esta caso hay que poner nuestro patron entre [] para que encuentre todas las notas A y todas las notas B\n",
    "\n",
    "re.findall('[AB]',grades)"
   ]
  },
  {
   "cell_type": "code",
   "execution_count": 10,
   "metadata": {
    "collapsed": false,
    "pycharm": {
     "name": "#%%\n"
    }
   },
   "outputs": [
    {
     "data": {
      "text/plain": [
       "['AC', 'AB']"
      ]
     },
     "execution_count": 10,
     "metadata": {},
     "output_type": "execute_result"
    }
   ],
   "source": [
    "# [] es el operador conjutno. Se puede usar para incluir un rango de caracteres alfanumerico\n",
    "# ej.: encontrar todas las notas A seguidas por notas B o C\n",
    "\n",
    "re.findall('[A][B-C]',grades)\n"
   ]
  },
  {
   "cell_type": "code",
   "execution_count": 11,
   "metadata": {
    "collapsed": false,
    "pycharm": {
     "name": "#%%\n"
    }
   },
   "outputs": [
    {
     "data": {
      "text/plain": [
       "['AC', 'AB']"
      ]
     },
     "execution_count": 11,
     "metadata": {},
     "output_type": "execute_result"
    }
   ],
   "source": [
    "# tambien pudiera usarse el operador | que significa OR\n",
    "re.findall('AB|AC',grades)"
   ]
  },
  {
   "cell_type": "code",
   "execution_count": 12,
   "metadata": {
    "collapsed": false,
    "pycharm": {
     "name": "#%%\n"
    }
   },
   "outputs": [
    {
     "data": {
      "text/plain": [
       "['C', 'B', 'C', 'B', 'C', 'B']"
      ]
     },
     "execution_count": 12,
     "metadata": {},
     "output_type": "execute_result"
    }
   ],
   "source": [
    "# se puede usar la intercalacion con el operador conjunto negando nuestros resultados.\n",
    "# ej.: si queremos saber las notas que no fueron A\n",
    "\n",
    "re.findall('[^A]',grades)"
   ]
  },
  {
   "cell_type": "code",
   "execution_count": 13,
   "metadata": {
    "collapsed": false,
    "pycharm": {
     "name": "#%%\n"
    }
   },
   "outputs": [
    {
     "data": {
      "text/plain": [
       "[]"
      ]
     },
     "execution_count": 13,
     "metadata": {},
     "output_type": "execute_result"
    }
   ],
   "source": [
    "# en caso que tuvieramos varias listas de notas, y queremos encontrar todas las listas de notas que NO comiencen con la nota A\n",
    "\n",
    "re.findall('^[^A]',grades)\n"
   ]
  },
  {
   "cell_type": "markdown",
   "metadata": {
    "collapsed": false,
    "pycharm": {
     "name": "#%% md\n"
    }
   },
   "source": [
    "Cuantificadores\n",
    "Los cuantificadores expresan el numero de veces que queremos el patron haga coincidencias.\n",
    "Una expresionde cuantificador como: e{m,n}, donde:\n",
    "e -> expresion o caracter que estamos haciendo coincidir\n",
    "m -> numero minimo de veces que se quiere que el patron haga coincidencia\n",
    "n -> numero maximo que la expresion pudiera coincidir"
   ]
  },
  {
   "cell_type": "code",
   "execution_count": 14,
   "metadata": {
    "collapsed": false,
    "pycharm": {
     "name": "#%%\n"
    }
   },
   "outputs": [
    {
     "data": {
      "text/plain": [
       "['AAAA', 'AA']"
      ]
     },
     "execution_count": 14,
     "metadata": {},
     "output_type": "execute_result"
    }
   ],
   "source": [
    "# ej.: cuantas veces este estudiante estuvo en una racha consecutivas de notas A\n",
    "re.findall('A{2,10}',grades)"
   ]
  },
  {
   "cell_type": "code",
   "execution_count": 15,
   "metadata": {
    "collapsed": false,
    "pycharm": {
     "name": "#%%\n"
    }
   },
   "outputs": [
    {
     "data": {
      "text/plain": [
       "['AA', 'AA', 'AA']"
      ]
     },
     "execution_count": 15,
     "metadata": {},
     "output_type": "execute_result"
    }
   ],
   "source": [
    "# Si dentro de las llaves solamente se declara un #, entonces este sera tanto el valor minimo como el valor maximo de veces\n",
    "re.findall('A{2}',grades)"
   ]
  },
  {
   "cell_type": "code",
   "execution_count": 23,
   "metadata": {
    "collapsed": false,
    "pycharm": {
     "name": "#%%\n"
    }
   },
   "outputs": [
    {
     "data": {
      "text/plain": [
       "'Buddhist universities and colleges in the United States\\nFrom Wikipedia, the free encyclopedia\\nJump to navigationJump to search\\n\\nThis article needs additional citations for verification. Please help improve this article by adding citations to reliable sources. Unsourced material may be challenged and removed.\\nFind sources: \"Buddhist universities and colleges in the United States\" – news · newspapers · books · scholar · JSTOR (December 2009) (Learn how and when to remove this template message)\\nThere are several Buddhist universities in the United States. Some of these have existed for decades and are accredited. Others are relatively new and are either in the process of being accredited or else have no formal accreditation. The list includes:\\n\\nDhammakaya Open University – located in Azusa, California, part of the Thai Wat Phra Dhammakaya[1]\\nDharmakirti College – located in Tucson, Arizona Now called Awam Tibetan Buddhist Institute (http://awaminstitute.org/)\\nDharma Realm Buddhist University – located in Ukiah, California\\nEwam Buddhist Institute – located in Arlee, Montana\\nNaropa University is located in Boulder, Colorado (Accredited by the Higher Learning Commission)\\nInstitute of Buddhist Studies – located in Berkeley, California\\nMaitripa College – located in Portland, Oregon\\nSoka University of America – located in Aliso Viejo, California\\nUniversity of the West – located in Rosemead, California\\nWon Institute of Graduate Studies – located in Glenside, Pennsylvania\\nReferences[edit]\\n^ Banchanon, Phongphiphat (3 February 2015). รู้จัก \"เครือข่ายธรรมกาย\" [Getting to know the Dhammakaya network]. Forbes Thailand (in Thai). Retrieved 11 November 2016.\\nExternal links[edit]\\nList of Buddhist Universities and Colleges in the world\\n'"
      ]
     },
     "execution_count": 23,
     "metadata": {},
     "output_type": "execute_result"
    }
   ],
   "source": [
    "# En el caso que no se sepa un numero definido de veces en los que se quiera una coinicidencia, se puede usar el caracter *.\n",
    "# * se utiliza para hacer coincidir 0 o mas veces\n",
    "# ? se utiliza para hacer coincidir 1 o mas veces\n",
    "# + se utiliza para hacer coincidir 1 o mas veces\n",
    "\n",
    "# ej.:\n",
    "\n",
    "with open(\"buddhist.txt\",\"r\", encoding = 'utf8') as file:\n",
    "    # leeremos esto en una variable llamada wiki\n",
    "    wiki = file.read()\n",
    "wiki"
   ]
  },
  {
   "cell_type": "code",
   "execution_count": 24,
   "metadata": {
    "collapsed": false,
    "pycharm": {
     "name": "#%%\n"
    }
   },
   "outputs": [
    {
     "data": {
      "text/plain": [
       "['References[edit]', 'links[edit]']"
      ]
     },
     "execution_count": 24,
     "metadata": {},
     "output_type": "execute_result"
    }
   ],
   "source": [
    "# Escaneando el documento se percibe que todos los encabezados tienen la palabra [edit] seguido de un salto de linea.\n",
    "# Si queremos obtener una lista  de todos los encabezados en este articulo ...\n",
    "\n",
    "re.findall('[a-zA-Z]{1,100}\\[edit\\]',wiki) # estamos interesados en encontrar todos los caracteres que son minusculas entre la a y la z, o en las mayusculas entra la A y la Z, estamos interesados en algun lugar entre 1 y 100 siempre y cuando por la palabra editar"
   ]
  },
  {
   "cell_type": "code",
   "execution_count": 25,
   "metadata": {
    "collapsed": false,
    "pycharm": {
     "name": "#%%\n"
    }
   },
   "outputs": [
    {
     "data": {
      "text/plain": [
       "['References[edit]', 'links[edit]']"
      ]
     },
     "execution_count": 25,
     "metadata": {},
     "output_type": "execute_result"
    }
   ],
   "source": [
    "# El resultado obtenido es la extraccion de la ultima palabra del encabezado segudio por la palabra editar, asi que vamos a mejorarlo.\n",
    "\n",
    "# Podemos usar \\w para hacer coincidir cualquier letra (inluyendo digitos y numeros)\n",
    "re.findall('[\\w]{1,100}\\[edit\\]',wiki)"
   ]
  },
  {
   "cell_type": "code",
   "execution_count": 26,
   "metadata": {
    "collapsed": false,
    "pycharm": {
     "name": "#%%\n"
    }
   },
   "outputs": [
    {
     "data": {
      "text/plain": [
       "['References[edit]', 'links[edit]']"
      ]
     },
     "execution_count": 26,
     "metadata": {},
     "output_type": "execute_result"
    }
   ],
   "source": [
    "# usando el caracter * eliminamos el limite superiro de 100 y lo dejamos \"abierto\", o sea, no hay limite superior\n",
    "re.findall('[\\w]*\\[edit\\]',wiki)"
   ]
  },
  {
   "cell_type": "code",
   "execution_count": 27,
   "metadata": {
    "collapsed": false,
    "pycharm": {
     "name": "#%%\n"
    }
   },
   "outputs": [
    {
     "data": {
      "text/plain": [
       "['References[edit]', 'External links[edit]']"
      ]
     },
     "execution_count": 27,
     "metadata": {},
     "output_type": "execute_result"
    }
   ],
   "source": [
    "# Mejorando la expresion, vamos a incluir en el reconocimiento los espacios en blanco usando el caracter espacio ( ) despues de \\w\n",
    "re.findall('[\\w ]*\\[edit\\]',wiki)"
   ]
  },
  {
   "cell_type": "code",
   "execution_count": 28,
   "metadata": {
    "collapsed": false,
    "pycharm": {
     "name": "#%%\n"
    }
   },
   "outputs": [
    {
     "name": "stdout",
     "output_type": "stream",
     "text": [
      "References\n",
      "External links\n"
     ]
    }
   ],
   "source": [
    "# ya tenemos la lista con los encabezados. Pero para quitar el 'edit' ...\n",
    "\n",
    "for title in re.findall('[\\w ]*\\[edit\\]',wiki):\n",
    "    print(re.split('[\\[]',title)[0]) # divide cada encabezado en 2 partes a partir del caracter [ , la primera la almazena en re.split('[\\[]',title)[0] y la segunda la almacena en re.split('[\\[]',title)[1]\n"
   ]
  },
  {
   "cell_type": "markdown",
   "metadata": {
    "collapsed": false,
    "pycharm": {
     "name": "#%% md\n"
    }
   },
   "source": [
    "GRUPOS\n",
    "Los GRUPOS se usan para separa diferentes patrones en una misma instruccion. Para ello se usan los caracteres () y se define dentro de ellos los patrones deseados.\n",
    "ej.: retomando el ejemplo anterios, separemos el titulo de la palabra edit"
   ]
  },
  {
   "cell_type": "code",
   "execution_count": 29,
   "metadata": {
    "collapsed": false,
    "pycharm": {
     "name": "#%%\n"
    }
   },
   "outputs": [
    {
     "data": {
      "text/plain": [
       "[('References', '[edit]'), ('External links', '[edit]')]"
      ]
     },
     "execution_count": 29,
     "metadata": {},
     "output_type": "execute_result"
    }
   ],
   "source": [
    "re.findall('([\\w ]*)(\\[edit\\])',wiki)"
   ]
  },
  {
   "cell_type": "code",
   "execution_count": 30,
   "metadata": {
    "collapsed": false,
    "pycharm": {
     "name": "#%%\n"
    }
   },
   "outputs": [
    {
     "name": "stdout",
     "output_type": "stream",
     "text": [
      "('References', '[edit]')\n",
      "('External links', '[edit]')\n"
     ]
    }
   ],
   "source": [
    "# Para obtener una lisa de objetos que coinciden se usa el metodo .finditer()\n",
    "\n",
    "for item in re.finditer('([\\w ]*)(\\[edit\\])',wiki):\n",
    "    print(item.groups())"
   ]
  },
  {
   "cell_type": "code",
   "execution_count": 31,
   "metadata": {
    "collapsed": false,
    "pycharm": {
     "name": "#%%\n"
    }
   },
   "outputs": [
    {
     "name": "stdout",
     "output_type": "stream",
     "text": [
      "References\n",
      "External links\n"
     ]
    }
   ],
   "source": [
    "# Este metodo devuleve una tupla de GRUPOS. Podemos obtener un grupo individual usando el index del grupo que queremos:\n",
    "# .groups(0) es toda la coincidencia, y todas las demas intencias [.group(1), .gruop(2) ... ] son las instancias que nos interesan\n",
    "# como en este caso queremos el titulo, lo que nos interesa es el elemento .gruops(1)\n",
    "\n",
    "for item in re.finditer('([\\w ]*)(\\[edit\\])',wiki):\n",
    "    print(item.group(1))"
   ]
  },
  {
   "cell_type": "code",
   "execution_count": 32,
   "metadata": {
    "collapsed": false,
    "pycharm": {
     "name": "#%%\n"
    }
   },
   "outputs": [
    {
     "name": "stdout",
     "output_type": "stream",
     "text": [
      "References\n",
      "External links\n"
     ]
    }
   ],
   "source": [
    "# Un recurso muy util puede ser las ETIQUETAS DE GRUPOS con las siguiente sintaxis:\n",
    "# (?P<name>) donde el ( indica que comienza el gruop ... ?P indica que es una extension de expresiones regulares basicas ... y la nombre entre <> son la clave del diccionnario que usamos\n",
    "\n",
    "for item in re.finditer('(?P<title>[\\w ]*)(?P<edit_link>\\[edit\\])',wiki):\n",
    "    print(item.groupdict()['title']) # obtener un diccionario de 'item' usando el metodo .groupdict()"
   ]
  },
  {
   "cell_type": "code",
   "execution_count": 33,
   "metadata": {
    "collapsed": false,
    "pycharm": {
     "name": "#%%\n"
    }
   },
   "outputs": [
    {
     "data": {
      "text/plain": [
       "{'title': 'External links', 'edit_link': '[edit]'}"
      ]
     },
     "execution_count": 33,
     "metadata": {},
     "output_type": "execute_result"
    }
   ],
   "source": [
    "item.groupdict() # diccionario para el ultimo elemento de la coincidencia"
   ]
  },
  {
   "cell_type": "markdown",
   "metadata": {
    "collapsed": false,
    "pycharm": {
     "name": "#%% md\n"
    }
   },
   "source": [
    "LOOK-AHEAD & LOOK-BEHING\n",
    "Se usa para buscar elementos que se encuentran ANTES o DESPUES del patron de busqueda"
   ]
  },
  {
   "cell_type": "code",
   "execution_count": 34,
   "metadata": {
    "collapsed": false,
    "pycharm": {
     "name": "#%%\n"
    }
   },
   "outputs": [
    {
     "name": "stdout",
     "output_type": "stream",
     "text": [
      "<re.Match object; span=(1486, 1496), match='References'>\n",
      "<re.Match object; span=(1671, 1685), match='External links'>\n"
     ]
    }
   ],
   "source": [
    "# Ej.: si quisieramos aislar el titulo del ejemplo anterior que se encuentra antes de la palabra 'edit', sin que nos importe almacener el propio patron 'edit', podemos hacerlo usando \"look ahead\" con la sintaxis ?=\n",
    "\n",
    "for item in re.finditer('(?P<title>[\\w ]+)(?=\\[edit\\])',wiki):\n",
    "    print(item)"
   ]
  },
  {
   "cell_type": "markdown",
   "metadata": {
    "collapsed": false,
    "pycharm": {
     "name": "#%% md\n"
    }
   },
   "source": [
    "OTRO EJEMPLO DE WIKIPEDIA"
   ]
  },
  {
   "cell_type": "code",
   "execution_count": 39,
   "metadata": {
    "collapsed": false,
    "pycharm": {
     "name": "#%%\n"
    }
   },
   "outputs": [
    {
     "data": {
      "text/plain": [
       "'Buddhist universities and colleges in the United States\\nFrom Wikipedia, the free encyclopedia\\nJump to navigationJump to search\\n\\nThis article needs additional citations for verification. Please help improve this article by adding citations to reliable sources. Unsourced material may be challenged and removed.\\nFind sources: \"Buddhist universities and colleges in the United States\" – news · newspapers · books · scholar · JSTOR (December 2009) (Learn how and when to remove this template message)\\nThere are several Buddhist universities in the United States. Some of these have existed for decades and are accredited. Others are relatively new and are either in the process of being accredited or else have no formal accreditation. The list includes:\\n\\nDhammakaya Open University – located in Azusa, California, part of the Thai Wat Phra Dhammakaya[1]\\nDharmakirti College – located in Tucson, Arizona Now called Awam Tibetan Buddhist Institute (http://awaminstitute.org/)\\nDharma Realm Buddhist University – located in Ukiah, California\\nEwam Buddhist Institute – located in Arlee, Montana\\nNaropa University is located in Boulder, Colorado (Accredited by the Higher Learning Commission)\\nInstitute of Buddhist Studies – located in Berkeley, California\\nMaitripa College – located in Portland, Oregon\\nSoka University of America – located in Aliso Viejo, California\\nUniversity of the West – located in Rosemead, California\\nWon Institute of Graduate Studies – located in Glenside, Pennsylvania\\nReferences[edit]\\n^ Banchanon, Phongphiphat (3 February 2015). รู้จัก \"เครือข่ายธรรมกาย\" [Getting to know the Dhammakaya network]. Forbes Thailand (in Thai). Retrieved 11 November 2016.\\nExternal links[edit]\\nList of Buddhist Universities and Colleges in the world\\n'"
      ]
     },
     "execution_count": 39,
     "metadata": {},
     "output_type": "execute_result"
    }
   ],
   "source": [
    "# Aqui tuve que hacer un invento porque el programa no queria decodifica el archivo .txt\n",
    "\n",
    "with open(\"buddhist.txt\",\"r\", encoding='utf8') as file:\n",
    "    wiki = file.read()\n",
    "wiki"
   ]
  },
  {
   "cell_type": "code",
   "execution_count": 41,
   "metadata": {
    "collapsed": false,
    "pycharm": {
     "name": "#%%\n"
    }
   },
   "outputs": [],
   "source": [
    "# Se puede observar en el texto que hay un patron determinado: el nombre seguido de un guion - . Las palabras 'located in' seguido de la ciudad y el estado.\n",
    "# Este ejemplo sirve para ver el modo detallado (verbose mode)  de las expresiones regulares en Python. Este modo permite escribir expresiones regulares multilineas y aumentar la legibilidad.\n",
    "# Para este modo tenemos que indicar explicitamente todos los caracteres de espacio en blanco, ya sea anteponiendole el\n",
    "# caracter \\ o usando el valor especial \\s\n",
    "# Esto significa que podemos escribir nuestra expresion regular como codigo e incluso podemos incluir comentarios\n",
    "\n",
    "pattern=\"\"\"\n",
    "(?P<title>.*)       \n",
    "(-\\ located \\ in\\ )   \n",
    "(?P<city>\\w*)       \n",
    "(,\\ )               \n",
    "(?P<state>\\w*)\"\"\"\n",
    "\n",
    "for item in re.finditer(pattern, wiki, re.VERBOSE):\n",
    "    print(\"Hola\")"
   ]
  },
  {
   "cell_type": "code",
   "execution_count": null,
   "metadata": {
    "collapsed": false,
    "pycharm": {
     "name": "#%%\n"
    }
   },
   "outputs": [],
   "source": []
  }
 ],
 "metadata": {
  "kernelspec": {
   "display_name": "Python 3",
   "language": "python",
   "name": "python3"
  },
  "language_info": {
   "codemirror_mode": {
    "name": "ipython",
    "version": 3
   },
   "file_extension": ".py",
   "mimetype": "text/x-python",
   "name": "python",
   "nbconvert_exporter": "python",
   "pygments_lexer": "ipython3",
   "version": "3.9.7"
  }
 },
 "nbformat": 4,
 "nbformat_minor": 0
}
