{
 "cells": [
  {
   "cell_type": "markdown",
   "metadata": {},
   "source": [
    "# Neste Notebook a ideia é a siguinte:\n",
    "    1-Dividir textos por Cláusulas\n",
    "    2-Treinar um Clasificador de textos SVC\n",
    "    3-Verificar matriz de confução."
   ]
  },
  {
   "cell_type": "code",
   "execution_count": 85,
   "metadata": {},
   "outputs": [],
   "source": [
    "import pickle\n",
    "import pandas as pd\n",
    "import re\n",
    "from utils import *"
   ]
  },
  {
   "cell_type": "code",
   "execution_count": 86,
   "metadata": {},
   "outputs": [
    {
     "data": {
      "text/html": [
       "<div>\n",
       "<style scoped>\n",
       "    .dataframe tbody tr th:only-of-type {\n",
       "        vertical-align: middle;\n",
       "    }\n",
       "\n",
       "    .dataframe tbody tr th {\n",
       "        vertical-align: top;\n",
       "    }\n",
       "\n",
       "    .dataframe thead th {\n",
       "        text-align: right;\n",
       "    }\n",
       "</style>\n",
       "<table border=\"1\" class=\"dataframe\">\n",
       "  <thead>\n",
       "    <tr style=\"text-align: right;\">\n",
       "      <th></th>\n",
       "      <th>textos</th>\n",
       "      <th>clausulas</th>\n",
       "    </tr>\n",
       "  </thead>\n",
       "  <tbody>\n",
       "    <tr>\n",
       "      <th>0</th>\n",
       "      <td>INSTRUMENTO PARTICULAR DE ESCRITURA DA 1ª (PRI...</td>\n",
       "      <td>titulo</td>\n",
       "    </tr>\n",
       "    <tr>\n",
       "      <th>1</th>\n",
       "      <td>I\\nAUTORIZAÇÕES\\n\\nAutorização da Emissão e d...</td>\n",
       "      <td>CLÁUSULA I AUTORIZAÇÕES</td>\n",
       "    </tr>\n",
       "    <tr>\n",
       "      <th>2</th>\n",
       "      <td>II\\nREQUISITOS\\n\\nA presente 1ª (primeira) em...</td>\n",
       "      <td>CLÁUSULA II REQUISITOS</td>\n",
       "    </tr>\n",
       "    <tr>\n",
       "      <th>3</th>\n",
       "      <td>III\\nOBJETO SOCIAL DA EMISSORA E CARACTERÍSTI...</td>\n",
       "      <td>CLÁUSULA III OBJETO SOCIAL DA EMISSORA E CARAC...</td>\n",
       "    </tr>\n",
       "    <tr>\n",
       "      <th>4</th>\n",
       "      <td>IV\\nCARACTERÍSTICAS DAS DEBÊNTURES\\n\\nCaracte...</td>\n",
       "      <td>CLÁUSULA IV CARACTERÍSTICAS DAS DEBÊNTURES</td>\n",
       "    </tr>\n",
       "  </tbody>\n",
       "</table>\n",
       "</div>"
      ],
      "text/plain": [
       "                                              textos  \\\n",
       "0  INSTRUMENTO PARTICULAR DE ESCRITURA DA 1ª (PRI...   \n",
       "1   I\\nAUTORIZAÇÕES\\n\\nAutorização da Emissão e d...   \n",
       "2   II\\nREQUISITOS\\n\\nA presente 1ª (primeira) em...   \n",
       "3   III\\nOBJETO SOCIAL DA EMISSORA E CARACTERÍSTI...   \n",
       "4   IV\\nCARACTERÍSTICAS DAS DEBÊNTURES\\n\\nCaracte...   \n",
       "\n",
       "                                           clausulas  \n",
       "0                                             titulo  \n",
       "1                          CLÁUSULA I AUTORIZAÇÕES    \n",
       "2                           CLÁUSULA II REQUISITOS    \n",
       "3  CLÁUSULA III OBJETO SOCIAL DA EMISSORA E CARAC...  \n",
       "4       CLÁUSULA IV CARACTERÍSTICAS DAS DEBÊNTURES    "
      ]
     },
     "execution_count": 86,
     "metadata": {},
     "output_type": "execute_result"
    }
   ],
   "source": [
    "'''carrega o arquivo pickle que contém todos os textos de cada documento,\n",
    " divide-os por cláusulas e coloca cada seção do documento com sua respectiva \n",
    " cláusula dentro de um dataframe.'''\n",
    "\n",
    "all_docs = pd.read_pickle('docs_df.pkl')\n",
    "df2=pd.DataFrame({'textos':0,'clausulas':0},index=[])\n",
    "for t in all_docs['texto']:\n",
    "    pattern = re.compile('CLÁUSULA\\s.*\\n[\\w\\s]+?\\n\\n')\n",
    "    matches = re.findall(pattern,t)\n",
    "    matches.insert(0,'titulo')\n",
    "    indices = []\n",
    "    for texto in matches:\n",
    "        texto = re.sub('\\n', ' ',texto)\n",
    "        indices.append(texto)\n",
    "    #print(texto)\n",
    "    df1 = pd.DataFrame({'textos':t.split('CLÁUSULA'), 'clausulas':indices})\n",
    "    df2 = df2.append(df1,ignore_index=True)\n",
    "df2.head(5)"
   ]
  },
  {
   "cell_type": "code",
   "execution_count": 87,
   "metadata": {},
   "outputs": [
    {
     "data": {
      "text/plain": [
       "'CLÁUSULA III OBJETO SOCIAL DA EMISSORA E CARACTERÍSTICAS DA EMISSÃO  '"
      ]
     },
     "execution_count": 87,
     "metadata": {},
     "output_type": "execute_result"
    }
   ],
   "source": [
    "df2.iloc[3]['clausulas']"
   ]
  },
  {
   "cell_type": "code",
   "execution_count": 88,
   "metadata": {},
   "outputs": [],
   "source": [
    "#par_clausula_1"
   ]
  },
  {
   "cell_type": "code",
   "execution_count": 89,
   "metadata": {},
   "outputs": [],
   "source": [
    "# para_texts = []\n",
    "# for texts in par_clausula_1['textos']:\n",
    "    \n",
    "#     para = texts.split('\\n')\n",
    "#     #print(para)\n",
    "#     for p in para:\n",
    "#         #print(p)\n",
    "#         if len(p) == 0:\n",
    "#             continue\n",
    "#         para_texts.append(p)"
   ]
  },
  {
   "cell_type": "markdown",
   "metadata": {},
   "source": [
    "df2"
   ]
  },
  {
   "cell_type": "code",
   "execution_count": 90,
   "metadata": {},
   "outputs": [],
   "source": [
    "#len(para_text)"
   ]
  },
  {
   "cell_type": "code",
   "execution_count": 91,
   "metadata": {},
   "outputs": [],
   "source": [
    "# df_cla1 = pd.DataFrame(para_texts,columns=['Paragrafos'])\n",
    "# df_cla1\n",
    "# df_cla1['CLÁUSULA'] = 'CLÁUSULA I AUTORIZAÇÕES'\n",
    "# df_cla1"
   ]
  },
  {
   "cell_type": "code",
   "execution_count": 92,
   "metadata": {},
   "outputs": [],
   "source": [
    "# par_clausula_2 = df2[df2['clausulas']=='''CLÁUSULA II REQUISITOS  ''']\n",
    "# for texts in par_clausula_2['textos']:\n",
    "#     para_texts = []\n",
    "#     para = texts.split('\\n')\n",
    "#     #print(para)\n",
    "#     for p in para:\n",
    "#         #print(p)\n",
    "#         if len(p) == 0:\n",
    "#             continue\n",
    "#         para_texts.append(p)\n",
    "# df_cla2 = pd.DataFrame(para_texts,columns=['Paragrafos'])\n",
    "# df_cla2\n",
    "# df_cla2['CLÁUSULA'] = 'CLÁUSULA II REQUISITOS'\n",
    "# df_cla2"
   ]
  },
  {
   "cell_type": "code",
   "execution_count": 93,
   "metadata": {},
   "outputs": [],
   "source": [
    "# par_clausula_3 = df2[df2['clausulas']=='''CLÁUSULA III OBJETO SOCIAL DA EMISSORA E CARACTERÍSTICAS DA EMISSÃO  ''']\n",
    "# for texts in par_clausula_3['textos']:\n",
    "#     para_texts = []\n",
    "#     para = texts.split('\\n')\n",
    "#     #print(para)\n",
    "#     for p in para:\n",
    "#         #print(p)\n",
    "#         if len(p) == 0:\n",
    "#             continue\n",
    "#         para_texts.append(p)\n",
    "# df_cla3 = pd.DataFrame(para_texts,columns=['Paragrafos'])\n",
    "# df_cla3['CLÁUSULA'] = 'CLÁUSULA III OBJETO SOCIAL DA EMISSORA E CARACTERÍSTICAS DA EMISSÃO'\n",
    "# df_cla3"
   ]
  },
  {
   "cell_type": "code",
   "execution_count": 94,
   "metadata": {},
   "outputs": [],
   "source": [
    "# par_clausula_4 = df2[df2['clausulas']=='''CLÁUSULA IV CARACTERÍSTICAS DAS DEBÊNTURES  ''']\n",
    "# para_texts = []\n",
    "# for texts in par_clausula_4['textos']:\n",
    "    \n",
    "#     para = texts.split('\\n')\n",
    "#     #print(para)\n",
    "#     for p in para:\n",
    "#         #print(p)\n",
    "#         if len(p) == 0:\n",
    "#             continue\n",
    "#         para_texts.append(p)\n",
    "# df_cla4 = pd.DataFrame(para_texts,columns=['Paragrafos'])\n",
    "# df_cla4['CLÁUSULA'] = 'CLÁUSULA IV CARACTERÍSTICAS DAS DEBÊNTURES'\n",
    "# df_cla4"
   ]
  },
  {
   "cell_type": "code",
   "execution_count": 95,
   "metadata": {},
   "outputs": [],
   "source": [
    "def separar_parrafos_de_clausulas(df2):\n",
    "    Data_Clausulas = pd.DataFrame({'PARAGRAFOS':0,'CLÁUSULA':0},index=[])\n",
    "    for index in df2.index:\n",
    "        para_texts = []\n",
    "        df = pd.DataFrame(df2.iloc[index]).transpose()\n",
    "        for texts in df['textos']:\n",
    "            para = texts.split('\\n')\n",
    "            #print(para)\n",
    "            for p in para:\n",
    "                #print(p)\n",
    "                if len(p) == 0:\n",
    "                    continue\n",
    "                para_texts.append(p)\n",
    "        df_cla = pd.DataFrame(para_texts,columns=['PARAGRAFOS'])\n",
    "        df_cla\n",
    "        #print(df.clausulas.to_list()[0])\n",
    "        df_cla['CLÁUSULA'] = df.clausulas.to_list()[0]\n",
    "        Data_Clausulas = Data_Clausulas.append(df_cla)\n",
    "    return Data_Clausulas\n",
    "\n"
   ]
  },
  {
   "cell_type": "code",
   "execution_count": 96,
   "metadata": {},
   "outputs": [
    {
     "data": {
      "text/html": [
       "<div>\n",
       "<style scoped>\n",
       "    .dataframe tbody tr th:only-of-type {\n",
       "        vertical-align: middle;\n",
       "    }\n",
       "\n",
       "    .dataframe tbody tr th {\n",
       "        vertical-align: top;\n",
       "    }\n",
       "\n",
       "    .dataframe thead th {\n",
       "        text-align: right;\n",
       "    }\n",
       "</style>\n",
       "<table border=\"1\" class=\"dataframe\">\n",
       "  <thead>\n",
       "    <tr style=\"text-align: right;\">\n",
       "      <th></th>\n",
       "      <th>PARAGRAFOS</th>\n",
       "      <th>CLÁUSULA</th>\n",
       "    </tr>\n",
       "  </thead>\n",
       "  <tbody>\n",
       "    <tr>\n",
       "      <th>0</th>\n",
       "      <td>INSTRUMENTO PARTICULAR DE ESCRITURA DA 1ª (PRI...</td>\n",
       "      <td>titulo</td>\n",
       "    </tr>\n",
       "    <tr>\n",
       "      <th>1</th>\n",
       "      <td>Pelo presente instrumento,</td>\n",
       "      <td>titulo</td>\n",
       "    </tr>\n",
       "    <tr>\n",
       "      <th>2</th>\n",
       "      <td>TIBAGI ENERGIA SPE S.A., sociedade por ações d...</td>\n",
       "      <td>titulo</td>\n",
       "    </tr>\n",
       "    <tr>\n",
       "      <th>3</th>\n",
       "      <td>OLIVEIRA TRUST DISTRIBUIDORA DE TÍTULOS E VALO...</td>\n",
       "      <td>titulo</td>\n",
       "    </tr>\n",
       "    <tr>\n",
       "      <th>4</th>\n",
       "      <td>sendo a Emissora e o Agente Fiduciário designa...</td>\n",
       "      <td>titulo</td>\n",
       "    </tr>\n",
       "    <tr>\n",
       "      <th>...</th>\n",
       "      <td>...</td>\n",
       "      <td>...</td>\n",
       "    </tr>\n",
       "    <tr>\n",
       "      <th>117</th>\n",
       "      <td>[Condições de Conclusão do Projeto previstas n...</td>\n",
       "      <td>CLÁUSULA X DISPOSIÇÕES GERAIS</td>\n",
       "    </tr>\n",
       "    <tr>\n",
       "      <th>118</th>\n",
       "      <td>(iii) a ciência dos devedores dos direitos ced...</td>\n",
       "      <td>CLÁUSULA X DISPOSIÇÕES GERAIS</td>\n",
       "    </tr>\n",
       "    <tr>\n",
       "      <th>119</th>\n",
       "      <td>A Emissora vem, assim, por meio da presente, s...</td>\n",
       "      <td>CLÁUSULA X DISPOSIÇÕES GERAIS</td>\n",
       "    </tr>\n",
       "    <tr>\n",
       "      <th>120</th>\n",
       "      <td>Atenciosamente,</td>\n",
       "      <td>CLÁUSULA X DISPOSIÇÕES GERAIS</td>\n",
       "    </tr>\n",
       "    <tr>\n",
       "      <th>121</th>\n",
       "      <td>TIBAGI ENERGIA SPE S.A.</td>\n",
       "      <td>CLÁUSULA X DISPOSIÇÕES GERAIS</td>\n",
       "    </tr>\n",
       "  </tbody>\n",
       "</table>\n",
       "<p>2947 rows × 2 columns</p>\n",
       "</div>"
      ],
      "text/plain": [
       "                                            PARAGRAFOS  \\\n",
       "0    INSTRUMENTO PARTICULAR DE ESCRITURA DA 1ª (PRI...   \n",
       "1                           Pelo presente instrumento,   \n",
       "2    TIBAGI ENERGIA SPE S.A., sociedade por ações d...   \n",
       "3    OLIVEIRA TRUST DISTRIBUIDORA DE TÍTULOS E VALO...   \n",
       "4    sendo a Emissora e o Agente Fiduciário designa...   \n",
       "..                                                 ...   \n",
       "117  [Condições de Conclusão do Projeto previstas n...   \n",
       "118  (iii) a ciência dos devedores dos direitos ced...   \n",
       "119  A Emissora vem, assim, por meio da presente, s...   \n",
       "120                                    Atenciosamente,   \n",
       "121                            TIBAGI ENERGIA SPE S.A.   \n",
       "\n",
       "                            CLÁUSULA  \n",
       "0                             titulo  \n",
       "1                             titulo  \n",
       "2                             titulo  \n",
       "3                             titulo  \n",
       "4                             titulo  \n",
       "..                               ...  \n",
       "117  CLÁUSULA X DISPOSIÇÕES GERAIS    \n",
       "118  CLÁUSULA X DISPOSIÇÕES GERAIS    \n",
       "119  CLÁUSULA X DISPOSIÇÕES GERAIS    \n",
       "120  CLÁUSULA X DISPOSIÇÕES GERAIS    \n",
       "121  CLÁUSULA X DISPOSIÇÕES GERAIS    \n",
       "\n",
       "[2947 rows x 2 columns]"
      ]
     },
     "execution_count": 96,
     "metadata": {},
     "output_type": "execute_result"
    }
   ],
   "source": [
    "Data_Clausulas = pd.DataFrame({'PARAGRAFOS':0,'CLÁUSULA':0},index=[])\n",
    "for index in df2.index:\n",
    "    para_texts = []\n",
    "    df = pd.DataFrame(df2.iloc[index]).transpose()\n",
    "    for texts in df['textos']:\n",
    "        para = texts.split('\\n')\n",
    "        #print(para)\n",
    "        for p in para:\n",
    "            #print(p)\n",
    "            if len(p) == 0:\n",
    "                continue\n",
    "            para_texts.append(p)\n",
    "    df_cla = pd.DataFrame(para_texts,columns=['PARAGRAFOS'])\n",
    "    df_cla\n",
    "    #print(df.clausulas.to_list()[0])\n",
    "    df_cla['CLÁUSULA'] = df.clausulas.to_list()[0]\n",
    "    Data_Clausulas = Data_Clausulas.append(df_cla)\n",
    "\n",
    "Data_Clausulas.to_pickle('Data_Clausulas_por_paragrafos.pkl')\n",
    "Data_Clausulas"
   ]
  },
  {
   "cell_type": "code",
   "execution_count": 97,
   "metadata": {},
   "outputs": [
    {
     "data": {
      "text/html": [
       "<div>\n",
       "<style scoped>\n",
       "    .dataframe tbody tr th:only-of-type {\n",
       "        vertical-align: middle;\n",
       "    }\n",
       "\n",
       "    .dataframe tbody tr th {\n",
       "        vertical-align: top;\n",
       "    }\n",
       "\n",
       "    .dataframe thead th {\n",
       "        text-align: right;\n",
       "    }\n",
       "</style>\n",
       "<table border=\"1\" class=\"dataframe\">\n",
       "  <thead>\n",
       "    <tr style=\"text-align: right;\">\n",
       "      <th></th>\n",
       "      <th>textos</th>\n",
       "      <th>clausulas</th>\n",
       "    </tr>\n",
       "  </thead>\n",
       "  <tbody>\n",
       "    <tr>\n",
       "      <th>54</th>\n",
       "      <td>X\\nDISPOSIÇÕES GERAIS\\n\\nComunicações\\n\\nQuai...</td>\n",
       "      <td>CLÁUSULA X DISPOSIÇÕES GERAIS</td>\n",
       "    </tr>\n",
       "  </tbody>\n",
       "</table>\n",
       "</div>"
      ],
      "text/plain": [
       "                                               textos  \\\n",
       "54   X\\nDISPOSIÇÕES GERAIS\\n\\nComunicações\\n\\nQuai...   \n",
       "\n",
       "                          clausulas  \n",
       "54  CLÁUSULA X DISPOSIÇÕES GERAIS    "
      ]
     },
     "execution_count": 97,
     "metadata": {},
     "output_type": "execute_result"
    }
   ],
   "source": [
    "df"
   ]
  },
  {
   "cell_type": "code",
   "execution_count": null,
   "metadata": {},
   "outputs": [],
   "source": []
  },
  {
   "cell_type": "code",
   "execution_count": null,
   "metadata": {},
   "outputs": [],
   "source": []
  },
  {
   "cell_type": "code",
   "execution_count": null,
   "metadata": {},
   "outputs": [],
   "source": []
  },
  {
   "cell_type": "code",
   "execution_count": null,
   "metadata": {},
   "outputs": [],
   "source": []
  },
  {
   "cell_type": "code",
   "execution_count": null,
   "metadata": {},
   "outputs": [],
   "source": []
  },
  {
   "cell_type": "code",
   "execution_count": null,
   "metadata": {},
   "outputs": [],
   "source": []
  },
  {
   "cell_type": "markdown",
   "metadata": {},
   "source": [
    "# Criação de modelo"
   ]
  },
  {
   "cell_type": "code",
   "execution_count": 98,
   "metadata": {},
   "outputs": [],
   "source": [
    "\n",
    "from sklearn.model_selection import train_test_split"
   ]
  },
  {
   "cell_type": "code",
   "execution_count": 99,
   "metadata": {},
   "outputs": [],
   "source": [
    "# Carregando os dados para treinar o modelo\n",
    "X = Data_Clausulas['PARAGRAFOS']\n",
    "y = Data_Clausulas['CLÁUSULA']"
   ]
  },
  {
   "cell_type": "code",
   "execution_count": null,
   "metadata": {},
   "outputs": [],
   "source": []
  },
  {
   "cell_type": "code",
   "execution_count": null,
   "metadata": {},
   "outputs": [],
   "source": []
  },
  {
   "cell_type": "code",
   "execution_count": 100,
   "metadata": {},
   "outputs": [
    {
     "data": {
      "text/plain": [
       "3      Quaisquer notificações, instruções ou comunica...\n",
       "5      nesta data os representantes legais que assina...\n",
       "48     Na Assembleia Geral de Debenturistas mencionad...\n",
       "86                                                 CNPJ:\n",
       "80     METODOLOGIA PARA CÁLCULO DO ÍNDICE DE COBERTUR...\n",
       "                             ...                        \n",
       "6      As Assembleias Gerais de Debenturistas podem s...\n",
       "8      As Assembleias Gerais de Debenturistas deverão...\n",
       "134    Observados os termos da Cláusula 4.16.2 acima,...\n",
       "41     fiscalizar o cumprimento das cláusulas e itens...\n",
       "3      Observadas as demais obrigações previstas nest...\n",
       "Name: PARAGRAFOS, Length: 1179, dtype: object"
      ]
     },
     "execution_count": 100,
     "metadata": {},
     "output_type": "execute_result"
    }
   ],
   "source": [
    "# eparação dos datos de trinamento e predição\n",
    "X_train, X_test, y_train, y_test= train_test_split(X,y,test_size=0.4,random_state=55)\n",
    "X_test"
   ]
  },
  {
   "cell_type": "code",
   "execution_count": 101,
   "metadata": {},
   "outputs": [],
   "source": [
    "from sklearn.pipeline import Pipeline\n",
    "from sklearn.feature_extraction.text import TfidfVectorizer\n",
    "from sklearn.svm import LinearSVC"
   ]
  },
  {
   "cell_type": "code",
   "execution_count": 102,
   "metadata": {},
   "outputs": [],
   "source": [
    "# Criando Pipline para ajustar modelo\n",
    "text_clf = Pipeline([('tfidf',TfidfVectorizer()),('clf',LinearSVC())])"
   ]
  },
  {
   "cell_type": "code",
   "execution_count": 103,
   "metadata": {},
   "outputs": [
    {
     "data": {
      "text/plain": [
       "Pipeline(steps=[('tfidf', TfidfVectorizer()), ('clf', LinearSVC())])"
      ]
     },
     "execution_count": 103,
     "metadata": {},
     "output_type": "execute_result"
    }
   ],
   "source": [
    "#ajuste/fit do modelo\n",
    "text_clf.fit(X_train,y_train)"
   ]
  },
  {
   "cell_type": "code",
   "execution_count": 104,
   "metadata": {},
   "outputs": [],
   "source": [
    "# realizando predições\n",
    "predictions = text_clf.predict(X_test)\n"
   ]
  },
  {
   "cell_type": "code",
   "execution_count": 105,
   "metadata": {},
   "outputs": [],
   "source": [
    "#Confusion Matrix...\n",
    "from sklearn.metrics import confusion_matrix,classification_report,accuracy_score"
   ]
  },
  {
   "cell_type": "code",
   "execution_count": 106,
   "metadata": {},
   "outputs": [
    {
     "name": "stdout",
     "output_type": "stream",
     "text": [
      "[[ 12   0   0   0   0   0   0   0   0   2   0]\n",
      " [  0  52   0   5   0   0   0   0   0   0   0]\n",
      " [  0   0  50   0   0   0   0   0   0   0   0]\n",
      " [  0   0   0 284   0   1   0   0   0   5   0]\n",
      " [  0   0   0   0  73   0   0   0   0   0   0]\n",
      " [  0   0   0   0   0  96   0   0   0   3   0]\n",
      " [  0   0   0   0   0   0 117   0   0   0   0]\n",
      " [  0   0   0   0   4   0   0 158   0   5   0]\n",
      " [  0   0   0   0   0   0   0   0  36   0   0]\n",
      " [  0   1   4   1   0   1   0   3   2 252   0]\n",
      " [  0   0   0   0   0   0   0   0   0   1  11]]\n"
     ]
    }
   ],
   "source": [
    "print(confusion_matrix(y_test,predictions))"
   ]
  },
  {
   "cell_type": "code",
   "execution_count": 107,
   "metadata": {},
   "outputs": [
    {
     "name": "stdout",
     "output_type": "stream",
     "text": [
      "                                                                       precision    recall  f1-score   support\n",
      "\n",
      "                                            CLÁUSULA I AUTORIZAÇÕES         1.00      0.86      0.92        14\n",
      "                                             CLÁUSULA II REQUISITOS         0.98      0.91      0.95        57\n",
      "CLÁUSULA III OBJETO SOCIAL DA EMISSORA E CARACTERÍSTICAS DA EMISSÃO         0.93      1.00      0.96        50\n",
      "                         CLÁUSULA IV CARACTERÍSTICAS DAS DEBÊNTURES         0.98      0.98      0.98       290\n",
      "                    CLÁUSULA IX DECLARAÇÕES E GARANTIAS DA EMISSORA         0.95      1.00      0.97        73\n",
      "                                   CLÁUSULA V VENCIMENTO ANTECIPADO         0.98      0.97      0.97        99\n",
      "                      CLÁUSULA VI OBRIGAÇÕES ADICIONAIS DA EMISSORA         1.00      1.00      1.00       117\n",
      "                                     CLÁUSULA VII AGENTE FIDUCIÁRIO         0.98      0.95      0.96       167\n",
      "                    CLÁUSULA VIII ASSEMBLEIA GERAL DE DEBENTURISTAS         0.95      1.00      0.97        36\n",
      "                                      CLÁUSULA X DISPOSIÇÕES GERAIS         0.94      0.95      0.95       264\n",
      "                                                               titulo       1.00      0.92      0.96        12\n",
      "\n",
      "                                                             accuracy                           0.97      1179\n",
      "                                                            macro avg       0.97      0.96      0.96      1179\n",
      "                                                         weighted avg       0.97      0.97      0.97      1179\n",
      "\n"
     ]
    }
   ],
   "source": [
    "print(classification_report(y_test,predictions))"
   ]
  },
  {
   "cell_type": "code",
   "execution_count": 108,
   "metadata": {},
   "outputs": [
    {
     "data": {
      "text/plain": [
       "array(['titulo'], dtype=object)"
      ]
     },
     "execution_count": 108,
     "metadata": {},
     "output_type": "execute_result"
    }
   ],
   "source": [
    "text_clf.predict(['INSTRUMENTO PARTICULAR DE ESCRITURA DA 1ª (PRIMEIRA) EMISSÃO DE DEBÊNTURES SIMPLES, NÃO CONVERSÍVEIS EM AÇÕES, DA ESPÉCIE COM GARANTIA REAL, COM GARANTIA ADICIONAL FIDEJUSSÓRIA, EM SÉRIE ÚNICA, PARA DISTRIBUIÇÃO PÚBLICA COM ESFORÇOS RESTRITOS, DA TIBAGI ENERGIA SPE S.A. \\n\\nPelo presente instrumento,\\n\\nTIBAGI ENERGIA SPE S.A., sociedade por ações de capital fechado, com sede na Cidade de Belo Horizonte, Estado de Minas Gerais, na Avenida Getúlio Vargas, nº 874, 10º andar, Sala 1006, inscrita no Cadastro Nacional de Pessoa Jurídica do Ministério da Economia (“CNPJ”) sob o nº 23.080.281/0001-35 e na Junta Comercial do Estado de Minas Gerais (“JUCEMG”) sob o NIRE nº [•], neste ato representada por seu(s) representante(s) legal(is) devidamente autorizado(s) e identificado(s) nas páginas de assinaturas do presente instrumento (“Emissora” ou “Companhia”); e\\n\\nOLIVEIRA TRUST DTVM S.A., instituição financeira autorizada a exercer as funções de agente fiduciário, com sede na Cidade e Estado do Rio de Janeiro, na Avenida das Américas, nº 3434, Bloco 7 - , inscrita no CNPJ sob o nº 36.113.876/0001-91, neste ato representada por seu(s) representante(s) legal(is) devidamente autorizado(s) e identificado(s) nas páginas de assinaturas do presente instrumento (“Agente Fiduciário”), representando a comunhão dos titulares das debêntures desta emissão\\xa0(“Debenturistas” e, individua'])"
   ]
  },
  {
   "cell_type": "code",
   "execution_count": 120,
   "metadata": {},
   "outputs": [
    {
     "data": {
      "text/plain": [
       "array(['CLÁUSULA I AUTORIZAÇÕES  '], dtype=object)"
      ]
     },
     "execution_count": 120,
     "metadata": {},
     "output_type": "execute_result"
    }
   ],
   "source": [
    "text_clf.predict(['''na qual foram deliberadas: (a) a aprovação da Emissão e da\n",
    "Oferta Restrita (conforme definido abaixo), bem como de seus termos e condições; (b) a\n",
    "outorga da Cessão Fiduciária do CDB, da Alienação Fiduciária de Ações, do Penhor de\n",
    "Ações e da Cessão Fiduciária de Conta em favor dos Debenturistas, conforme, Cláusula\n",
    "3.6.1 abaixo; e (c) a autorização à Diretoria e demais representantes legais da Companhia\n",
    "para adotar todas e quaisquer medidas e celebrar todos os documentos necessários à\n",
    "Emissão, podendo, inclusive, celebrar aditament\n",
    "  '''])"
   ]
  },
  {
   "cell_type": "code",
   "execution_count": 110,
   "metadata": {},
   "outputs": [
    {
     "data": {
      "text/plain": [
       "array(['CLÁUSULA IV CARACTERÍSTICAS DAS DEBÊNTURES  '], dtype=object)"
      ]
     },
     "execution_count": 110,
     "metadata": {},
     "output_type": "execute_result"
    }
   ],
   "source": [
    "text_clf.predict(['''alienação fiduciária, pelas Acionistas da totalidade das ações representativas do capital social da Emissora, que venham a ser subscritas ou de qualquer forma adquiridas por qualquer das Acionistas, seja na forma dos artigos 166, 167, 169 e 170 da Lei das Sociedades por Ações, seja por força de desmembramentos ou grupamentos das ações, seja por consolidação, fusão, permuta de ações, divisão de ações, reorganização societária ou sob qualquer outra forma, quer substituam ou não as ações originalmente alienadas, abrangendo também (a) todos os frutos, lucros, rendimentos, bonificações, distribuições e demais direitos, inclusive dividendos, reduções de capital e juros sobre o capital próprio, em dinheiro ou mediante distribuição de novas ações que venham a ser apurados, declarados e ainda não pagos, creditados ou pagos pela Emissora, bem como debêntures conversíveis, partes beneficiárias ou outros valores mobiliários conversíveis em ações, além de direitos de preferência e opções, que venham a ser por elas subscritos ou adquiridos até a liquidação das obrigações garantidas; (b) todos os valores e bens recebidos ou, de qualquer outra forma, distribuídos à Emissora a título de qualquer cobrança, permuta, venda ou qualquer outra forma de disposição de qualquer das ações, de quaisquer bens ou títulos nos quais as ações tenham sido convertidas e de quaisquer outros bens ou títulos sujeitos à alienação fiduciária ora referida, incluindo qualquer depósito, valor mobiliário ou título negociável; e (c) todos os títulos, valores mobiliários, respectivos rendimentos e quaisquer outros bens ou direitos eventualmente adquiridos pela Emissora com o produto da realização dos bens objeto da garantia mencionada nos itens (a) e (b) acima, tudo nos termos previstos em contrato de alienação fiduciária de ações a'''])"
   ]
  },
  {
   "cell_type": "code",
   "execution_count": 111,
   "metadata": {},
   "outputs": [],
   "source": [
    "import matplotlib.pyplot as plt\n",
    "from sklearn.metrics import plot_confusion_matrix\n"
   ]
  },
  {
   "cell_type": "code",
   "execution_count": 112,
   "metadata": {},
   "outputs": [
    {
     "name": "stderr",
     "output_type": "stream",
     "text": [
      "FutureWarning: Function plot_confusion_matrix is deprecated; Function `plot_confusion_matrix` is deprecated in 1.0 and will be removed in 1.2. Use one of the class methods: ConfusionMatrixDisplay.from_predictions or ConfusionMatrixDisplay.from_estimator. [deprecation.py:87]\n"
     ]
    },
    {
     "data": {
      "image/png": "[encoded data removed]",
      "text/plain": [
       "<Figure size 432x288 with 2 Axes>"
      ]
     },
     "metadata": {
      "needs_background": "light"
     },
     "output_type": "display_data"
    }
   ],
   "source": [
    "plot_confusion_matrix(text_clf, X_test, y_test)  \n",
    "plt.xticks(rotation=90)\n",
    "plt.show()"
   ]
  },
  {
   "cell_type": "code",
   "execution_count": 113,
   "metadata": {},
   "outputs": [],
   "source": [
    "import PyPDF2"
   ]
  },
  {
   "cell_type": "code",
   "execution_count": 121,
   "metadata": {},
   "outputs": [],
   "source": [
    "pdfFileObj = open('AEGE_5_Escritura - Escritura_20210602_000.pdf', 'rb')"
   ]
  },
  {
   "cell_type": "code",
   "execution_count": 122,
   "metadata": {},
   "outputs": [],
   "source": [
    "pdfReader = PyPDF2.PdfFileReader(pdfFileObj)"
   ]
  },
  {
   "cell_type": "code",
   "execution_count": 123,
   "metadata": {},
   "outputs": [
    {
     "name": "stdout",
     "output_type": "stream",
     "text": [
      "70\n"
     ]
    }
   ],
   "source": [
    "print(pdfReader.numPages)"
   ]
  },
  {
   "cell_type": "code",
   "execution_count": 124,
   "metadata": {},
   "outputs": [
    {
     "name": "stdout",
     "output_type": "stream",
     "text": [
      "Este documento foi assinado digitalmente por Roberta De Sousa Ramos Vettorazzo Marcondes, ANDREIA DE SOUSA RAMOS VETTORAZZO, Felipe Versiani Gandolfo, Jose Carlos Botelho De Moraes Toledo, LUIS VITAL DE SOUZA RAMOS VETTORAZZO, Dalila Cleopath Camargo Botelho De Moraes Toledo, Sergio Luis Botelho De Moraes Toledo, Sergio Luis Botelho De Moraes Toledo, Ricardo Eugenio De Sousa Ramos Vettorazzo, Carlos Cardoso Távora Neto, Rholf Alvarenga Badine, Marcelle Motta Santoro e Leandro Antonio Grisi. Para verificar as assinaturas vá ao site https://www.portaldeassinaturas.com.br:443 e utilize o código 1B0B-F3A5-96C7-17F7.Este documento foi assinado digitalmente por Roberta De Sousa Ramos Vettorazzo Marcondes, ANDREIA DE SOUSA RAMOS VETTORAZZO, Felipe Versiani Gandolfo, Jose Carlos Botelho De Moraes Toledo, LUIS VITAL DE SOUZA RAMOS VETTORAZZO, Dalila Cleopath Camargo Botelho De Moraes Toledo, Sergio Luis Botelho De Moraes Toledo, Sergio Luis Botelho De Moraes Toledo, Ricardo Eugenio De Sousa Ramos Vettorazzo, Carlos Cardoso Távora Neto, Rholf Alvarenga Badine, Marcelle Motta Santoro e Leandro Antonio Grisi. Para verificar as assinaturas vá ao site https://www.portaldeassinaturas.com.br:443 e utilize o código 1B0B-F3A5-96C7-17F7.\n",
      "Este documento foi assinado digitalmente por Roberta De Sousa Ramos Vettorazzo Marcondes, ANDREIA DE SOUSA RAMOS VETTORAZZO, Felipe Versiani Gandolfo, Jose Carlos Botelho De Moraes Toledo, LUIS VITAL DE SOUZA RAMOS VETTORAZZO, Dalila Cleopath Camargo Botelho De Moraes Toledo, Sergio Luis Botelho De Moraes Toledo, Sergio Luis Botelho De Moraes Toledo, Ricardo Eugenio De Sousa Ramos Vettorazzo, Carlos Cardoso Távora Neto, Rholf Alvarenga Badine, Marcelle Motta Santoro e Leandro Antonio Grisi. Para verificar as assinaturas vá ao site https://www.portaldeassinaturas.com.br:443 e utilize o código 1B0B-F3A5-96C7-17F7.Este documento foi assinado digitalmente por Roberta De Sousa Ramos Vettorazzo Marcondes, ANDREIA DE SOUSA RAMOS VETTORAZZO, Felipe Versiani Gandolfo, Jose Carlos Botelho De Moraes Toledo, LUIS VITAL DE SOUZA RAMOS VETTORAZZO, Dalila Cleopath Camargo Botelho De Moraes Toledo, Sergio Luis Botelho De Moraes Toledo, Sergio Luis Botelho De Moraes Toledo, Ricardo Eugenio De Sousa Ramos Vettorazzo, Carlos Cardoso Távora Neto, Rholf Alvarenga Badine, Marcelle Motta Santoro e Leandro Antonio Grisi. Para verificar as assinaturas vá ao site https://www.portaldeassinaturas.com.br:443 e utilize o código 1B0B-F3A5-96C7-17F7.\n",
      "Este documento foi assinado digitalmente por Roberta De Sousa Ramos Vettorazzo Marcondes, ANDREIA DE SOUSA RAMOS VETTORAZZO, Felipe Versiani Gandolfo, Jose Carlos Botelho De Moraes Toledo, LUIS VITAL DE SOUZA RAMOS VETTORAZZO, Dalila Cleopath Camargo Botelho De Moraes Toledo, Sergio Luis Botelho De Moraes Toledo, Sergio Luis Botelho De Moraes Toledo, Ricardo Eugenio De Sousa Ramos Vettorazzo, Carlos Cardoso Távora Neto, Rholf Alvarenga Badine, Marcelle Motta Santoro e Leandro Antonio Grisi. Para verificar as assinaturas vá ao site https://www.portaldeassinaturas.com.br:443 e utilize o código 1B0B-F3A5-96C7-17F7.Este documento foi assinado digitalmente por Roberta De Sousa Ramos Vettorazzo Marcondes, ANDREIA DE SOUSA RAMOS VETTORAZZO, Felipe Versiani Gandolfo, Jose Carlos Botelho De Moraes Toledo, LUIS VITAL DE SOUZA RAMOS VETTORAZZO, Dalila Cleopath Camargo Botelho De Moraes Toledo, Sergio Luis Botelho De Moraes Toledo, Sergio Luis Botelho De Moraes Toledo, Ricardo Eugenio De Sousa Ramos Vettorazzo, Carlos Cardoso Távora Neto, Rholf Alvarenga Badine, Marcelle Motta Santoro e Leandro Antonio Grisi. Para verificar as assinaturas vá ao site https://www.portaldeassinaturas.com.br:443 e utilize o código 1B0B-F3A5-96C7-17F7.\n",
      "Este documento foi assinado digitalmente por Roberta De Sousa Ramos Vettorazzo Marcondes, ANDREIA DE SOUSA RAMOS VETTORAZZO, Felipe Versiani Gandolfo, Jose Carlos Botelho De Moraes Toledo, LUIS VITAL DE SOUZA RAMOS VETTORAZZO, Dalila Cleopath Camargo Botelho De Moraes Toledo, Sergio Luis Botelho De Moraes Toledo, Sergio Luis Botelho De Moraes Toledo, Ricardo Eugenio De Sousa Ramos Vettorazzo, Carlos Cardoso Távora Neto, Rholf Alvarenga Badine, Marcelle Motta Santoro e Leandro Antonio Grisi. Para verificar as assinaturas vá ao site https://www.portaldeassinaturas.com.br:443 e utilize o código 1B0B-F3A5-96C7-17F7.Este documento foi assinado digitalmente por Roberta De Sousa Ramos Vettorazzo Marcondes, ANDREIA DE SOUSA RAMOS VETTORAZZO, Felipe Versiani Gandolfo, Jose Carlos Botelho De Moraes Toledo, LUIS VITAL DE SOUZA RAMOS VETTORAZZO, Dalila Cleopath Camargo Botelho De Moraes Toledo, Sergio Luis Botelho De Moraes Toledo, Sergio Luis Botelho De Moraes Toledo, Ricardo Eugenio De Sousa Ramos Vettorazzo, Carlos Cardoso Távora Neto, Rholf Alvarenga Badine, Marcelle Motta Santoro e Leandro Antonio Grisi. Para verificar as assinaturas vá ao site https://www.portaldeassinaturas.com.br:443 e utilize o código 1B0B-F3A5-96C7-17F7.\n",
      "Este documento foi assinado digitalmente por Roberta De Sousa Ramos Vettorazzo Marcondes, ANDREIA DE SOUSA RAMOS VETTORAZZO, Felipe Versiani Gandolfo, Jose Carlos Botelho De Moraes Toledo, LUIS VITAL DE SOUZA RAMOS VETTORAZZO, Dalila Cleopath Camargo Botelho De Moraes Toledo, Sergio Luis Botelho De Moraes Toledo, Sergio Luis Botelho De Moraes Toledo, Ricardo Eugenio De Sousa Ramos Vettorazzo, Carlos Cardoso Távora Neto, Rholf Alvarenga Badine, Marcelle Motta Santoro e Leandro Antonio Grisi. Para verificar as assinaturas vá ao site https://www.portaldeassinaturas.com.br:443 e utilize o código 1B0B-F3A5-96C7-17F7.Este documento foi assinado digitalmente por Roberta De Sousa Ramos Vettorazzo Marcondes, ANDREIA DE SOUSA RAMOS VETTORAZZO, Felipe Versiani Gandolfo, Jose Carlos Botelho De Moraes Toledo, LUIS VITAL DE SOUZA RAMOS VETTORAZZO, Dalila Cleopath Camargo Botelho De Moraes Toledo, Sergio Luis Botelho De Moraes Toledo, Sergio Luis Botelho De Moraes Toledo, Ricardo Eugenio De Sousa Ramos Vettorazzo, Carlos Cardoso Távora Neto, Rholf Alvarenga Badine, Marcelle Motta Santoro e Leandro Antonio Grisi. Para verificar as assinaturas vá ao site https://www.portaldeassinaturas.com.br:443 e utilize o código 1B0B-F3A5-96C7-17F7.\n",
      "Este documento foi assinado digitalmente por Roberta De Sousa Ramos Vettorazzo Marcondes, ANDREIA DE SOUSA RAMOS VETTORAZZO, Felipe Versiani Gandolfo, Jose Carlos Botelho De Moraes Toledo, LUIS VITAL DE SOUZA RAMOS VETTORAZZO, Dalila Cleopath Camargo Botelho De Moraes Toledo, Sergio Luis Botelho De Moraes Toledo, Sergio Luis Botelho De Moraes Toledo, Ricardo Eugenio De Sousa Ramos Vettorazzo, Carlos Cardoso Távora Neto, Rholf Alvarenga Badine, Marcelle Motta Santoro e Leandro Antonio Grisi. Para verificar as assinaturas vá ao site https://www.portaldeassinaturas.com.br:443 e utilize o código 1B0B-F3A5-96C7-17F7.Este documento foi assinado digitalmente por Roberta De Sousa Ramos Vettorazzo Marcondes, ANDREIA DE SOUSA RAMOS VETTORAZZO, Felipe Versiani Gandolfo, Jose Carlos Botelho De Moraes Toledo, LUIS VITAL DE SOUZA RAMOS VETTORAZZO, Dalila Cleopath Camargo Botelho De Moraes Toledo, Sergio Luis Botelho De Moraes Toledo, Sergio Luis Botelho De Moraes Toledo, Ricardo Eugenio De Sousa Ramos Vettorazzo, Carlos Cardoso Távora Neto, Rholf Alvarenga Badine, Marcelle Motta Santoro e Leandro Antonio Grisi. Para verificar as assinaturas vá ao site https://www.portaldeassinaturas.com.br:443 e utilize o código 1B0B-F3A5-96C7-17F7.\n",
      "Este documento foi assinado digitalmente por Roberta De Sousa Ramos Vettorazzo Marcondes, ANDREIA DE SOUSA RAMOS VETTORAZZO, Felipe Versiani Gandolfo, Jose Carlos Botelho De Moraes Toledo, LUIS VITAL DE SOUZA RAMOS VETTORAZZO, Dalila Cleopath Camargo Botelho De Moraes Toledo, Sergio Luis Botelho De Moraes Toledo, Sergio Luis Botelho De Moraes Toledo, Ricardo Eugenio De Sousa Ramos Vettorazzo, Carlos Cardoso Távora Neto, Rholf Alvarenga Badine, Marcelle Motta Santoro e Leandro Antonio Grisi. Para verificar as assinaturas vá ao site https://www.portaldeassinaturas.com.br:443 e utilize o código 1B0B-F3A5-96C7-17F7.Este documento foi assinado digitalmente por Roberta De Sousa Ramos Vettorazzo Marcondes, ANDREIA DE SOUSA RAMOS VETTORAZZO, Felipe Versiani Gandolfo, Jose Carlos Botelho De Moraes Toledo, LUIS VITAL DE SOUZA RAMOS VETTORAZZO, Dalila Cleopath Camargo Botelho De Moraes Toledo, Sergio Luis Botelho De Moraes Toledo, Sergio Luis Botelho De Moraes Toledo, Ricardo Eugenio De Sousa Ramos Vettorazzo, Carlos Cardoso Távora Neto, Rholf Alvarenga Badine, Marcelle Motta Santoro e Leandro Antonio Grisi. Para verificar as assinaturas vá ao site https://www.portaldeassinaturas.com.br:443 e utilize o código 1B0B-F3A5-96C7-17F7.\n",
      "Este documento foi assinado digitalmente por Roberta De Sousa Ramos Vettorazzo Marcondes, ANDREIA DE SOUSA RAMOS VETTORAZZO, Felipe Versiani Gandolfo, Jose Carlos Botelho De Moraes Toledo, LUIS VITAL DE SOUZA RAMOS VETTORAZZO, Dalila Cleopath Camargo Botelho De Moraes Toledo, Sergio Luis Botelho De Moraes Toledo, Sergio Luis Botelho De Moraes Toledo, Ricardo Eugenio De Sousa Ramos Vettorazzo, Carlos Cardoso Távora Neto, Rholf Alvarenga Badine, Marcelle Motta Santoro e Leandro Antonio Grisi. Para verificar as assinaturas vá ao site https://www.portaldeassinaturas.com.br:443 e utilize o código 1B0B-F3A5-96C7-17F7.Este documento foi assinado digitalmente por Roberta De Sousa Ramos Vettorazzo Marcondes, ANDREIA DE SOUSA RAMOS VETTORAZZO, Felipe Versiani Gandolfo, Jose Carlos Botelho De Moraes Toledo, LUIS VITAL DE SOUZA RAMOS VETTORAZZO, Dalila Cleopath Camargo Botelho De Moraes Toledo, Sergio Luis Botelho De Moraes Toledo, Sergio Luis Botelho De Moraes Toledo, Ricardo Eugenio De Sousa Ramos Vettorazzo, Carlos Cardoso Távora Neto, Rholf Alvarenga Badine, Marcelle Motta Santoro e Leandro Antonio Grisi. Para verificar as assinaturas vá ao site https://www.portaldeassinaturas.com.br:443 e utilize o código 1B0B-F3A5-96C7-17F7.\n",
      "Este documento foi assinado digitalmente por Roberta De Sousa Ramos Vettorazzo Marcondes, ANDREIA DE SOUSA RAMOS VETTORAZZO, Felipe Versiani Gandolfo, Jose Carlos Botelho De Moraes Toledo, LUIS VITAL DE SOUZA RAMOS VETTORAZZO, Dalila Cleopath Camargo Botelho De Moraes Toledo, Sergio Luis Botelho De Moraes Toledo, Sergio Luis Botelho De Moraes Toledo, Ricardo Eugenio De Sousa Ramos Vettorazzo, Carlos Cardoso Távora Neto, Rholf Alvarenga Badine, Marcelle Motta Santoro e Leandro Antonio Grisi. Para verificar as assinaturas vá ao site https://www.portaldeassinaturas.com.br:443 e utilize o código 1B0B-F3A5-96C7-17F7.Este documento foi assinado digitalmente por Roberta De Sousa Ramos Vettorazzo Marcondes, ANDREIA DE SOUSA RAMOS VETTORAZZO, Felipe Versiani Gandolfo, Jose Carlos Botelho De Moraes Toledo, LUIS VITAL DE SOUZA RAMOS VETTORAZZO, Dalila Cleopath Camargo Botelho De Moraes Toledo, Sergio Luis Botelho De Moraes Toledo, Sergio Luis Botelho De Moraes Toledo, Ricardo Eugenio De Sousa Ramos Vettorazzo, Carlos Cardoso Távora Neto, Rholf Alvarenga Badine, Marcelle Motta Santoro e Leandro Antonio Grisi. Para verificar as assinaturas vá ao site https://www.portaldeassinaturas.com.br:443 e utilize o código 1B0B-F3A5-96C7-17F7.\n",
      "Este documento foi assinado digitalmente por Roberta De Sousa Ramos Vettorazzo Marcondes, ANDREIA DE SOUSA RAMOS VETTORAZZO, Felipe Versiani Gandolfo, Jose Carlos Botelho De Moraes Toledo, LUIS VITAL DE SOUZA RAMOS VETTORAZZO, Dalila Cleopath Camargo Botelho De Moraes Toledo, Sergio Luis Botelho De Moraes Toledo, Sergio Luis Botelho De Moraes Toledo, Ricardo Eugenio De Sousa Ramos Vettorazzo, Carlos Cardoso Távora Neto, Rholf Alvarenga Badine, Marcelle Motta Santoro e Leandro Antonio Grisi. Para verificar as assinaturas vá ao site https://www.portaldeassinaturas.com.br:443 e utilize o código 1B0B-F3A5-96C7-17F7.Este documento foi assinado digitalmente por Roberta De Sousa Ramos Vettorazzo Marcondes, ANDREIA DE SOUSA RAMOS VETTORAZZO, Felipe Versiani Gandolfo, Jose Carlos Botelho De Moraes Toledo, LUIS VITAL DE SOUZA RAMOS VETTORAZZO, Dalila Cleopath Camargo Botelho De Moraes Toledo, Sergio Luis Botelho De Moraes Toledo, Sergio Luis Botelho De Moraes Toledo, Ricardo Eugenio De Sousa Ramos Vettorazzo, Carlos Cardoso Távora Neto, Rholf Alvarenga Badine, Marcelle Motta Santoro e Leandro Antonio Grisi. Para verificar as assinaturas vá ao site https://www.portaldeassinaturas.com.br:443 e utilize o código 1B0B-F3A5-96C7-17F7.\n",
      "Este documento foi assinado digitalmente por Roberta De Sousa Ramos Vettorazzo Marcondes, ANDREIA DE SOUSA RAMOS VETTORAZZO, Felipe Versiani Gandolfo, Jose Carlos Botelho De Moraes Toledo, LUIS VITAL DE SOUZA RAMOS VETTORAZZO, Dalila Cleopath Camargo Botelho De Moraes Toledo, Sergio Luis Botelho De Moraes Toledo, Sergio Luis Botelho De Moraes Toledo, Ricardo Eugenio De Sousa Ramos Vettorazzo, Carlos Cardoso Távora Neto, Rholf Alvarenga Badine, Marcelle Motta Santoro e Leandro Antonio Grisi. Para verificar as assinaturas vá ao site https://www.portaldeassinaturas.com.br:443 e utilize o código 1B0B-F3A5-96C7-17F7.Este documento foi assinado digitalmente por Roberta De Sousa Ramos Vettorazzo Marcondes, ANDREIA DE SOUSA RAMOS VETTORAZZO, Felipe Versiani Gandolfo, Jose Carlos Botelho De Moraes Toledo, LUIS VITAL DE SOUZA RAMOS VETTORAZZO, Dalila Cleopath Camargo Botelho De Moraes Toledo, Sergio Luis Botelho De Moraes Toledo, Sergio Luis Botelho De Moraes Toledo, Ricardo Eugenio De Sousa Ramos Vettorazzo, Carlos Cardoso Távora Neto, Rholf Alvarenga Badine, Marcelle Motta Santoro e Leandro Antonio Grisi. Para verificar as assinaturas vá ao site https://www.portaldeassinaturas.com.br:443 e utilize o código 1B0B-F3A5-96C7-17F7.\n",
      "Este documento foi assinado digitalmente por Roberta De Sousa Ramos Vettorazzo Marcondes, ANDREIA DE SOUSA RAMOS VETTORAZZO, Felipe Versiani Gandolfo, Jose Carlos Botelho De Moraes Toledo, LUIS VITAL DE SOUZA RAMOS VETTORAZZO, Dalila Cleopath Camargo Botelho De Moraes Toledo, Sergio Luis Botelho De Moraes Toledo, Sergio Luis Botelho De Moraes Toledo, Ricardo Eugenio De Sousa Ramos Vettorazzo, Carlos Cardoso Távora Neto, Rholf Alvarenga Badine, Marcelle Motta Santoro e Leandro Antonio Grisi. Para verificar as assinaturas vá ao site https://www.portaldeassinaturas.com.br:443 e utilize o código 1B0B-F3A5-96C7-17F7.Este documento foi assinado digitalmente por Roberta De Sousa Ramos Vettorazzo Marcondes, ANDREIA DE SOUSA RAMOS VETTORAZZO, Felipe Versiani Gandolfo, Jose Carlos Botelho De Moraes Toledo, LUIS VITAL DE SOUZA RAMOS VETTORAZZO, Dalila Cleopath Camargo Botelho De Moraes Toledo, Sergio Luis Botelho De Moraes Toledo, Sergio Luis Botelho De Moraes Toledo, Ricardo Eugenio De Sousa Ramos Vettorazzo, Carlos Cardoso Távora Neto, Rholf Alvarenga Badine, Marcelle Motta Santoro e Leandro Antonio Grisi. Para verificar as assinaturas vá ao site https://www.portaldeassinaturas.com.br:443 e utilize o código 1B0B-F3A5-96C7-17F7.\n",
      "Este documento foi assinado digitalmente por Roberta De Sousa Ramos Vettorazzo Marcondes, ANDREIA DE SOUSA RAMOS VETTORAZZO, Felipe Versiani Gandolfo, Jose Carlos Botelho De Moraes Toledo, LUIS VITAL DE SOUZA RAMOS VETTORAZZO, Dalila Cleopath Camargo Botelho De Moraes Toledo, Sergio Luis Botelho De Moraes Toledo, Sergio Luis Botelho De Moraes Toledo, Ricardo Eugenio De Sousa Ramos Vettorazzo, Carlos Cardoso Távora Neto, Rholf Alvarenga Badine, Marcelle Motta Santoro e Leandro Antonio Grisi. Para verificar as assinaturas vá ao site https://www.portaldeassinaturas.com.br:443 e utilize o código 1B0B-F3A5-96C7-17F7.Este documento foi assinado digitalmente por Roberta De Sousa Ramos Vettorazzo Marcondes, ANDREIA DE SOUSA RAMOS VETTORAZZO, Felipe Versiani Gandolfo, Jose Carlos Botelho De Moraes Toledo, LUIS VITAL DE SOUZA RAMOS VETTORAZZO, Dalila Cleopath Camargo Botelho De Moraes Toledo, Sergio Luis Botelho De Moraes Toledo, Sergio Luis Botelho De Moraes Toledo, Ricardo Eugenio De Sousa Ramos Vettorazzo, Carlos Cardoso Távora Neto, Rholf Alvarenga Badine, Marcelle Motta Santoro e Leandro Antonio Grisi. Para verificar as assinaturas vá ao site https://www.portaldeassinaturas.com.br:443 e utilize o código 1B0B-F3A5-96C7-17F7.\n",
      "Este documento foi assinado digitalmente por Roberta De Sousa Ramos Vettorazzo Marcondes, ANDREIA DE SOUSA RAMOS VETTORAZZO, Felipe Versiani Gandolfo, Jose Carlos Botelho De Moraes Toledo, LUIS VITAL DE SOUZA RAMOS VETTORAZZO, Dalila Cleopath Camargo Botelho De Moraes Toledo, Sergio Luis Botelho De Moraes Toledo, Sergio Luis Botelho De Moraes Toledo, Ricardo Eugenio De Sousa Ramos Vettorazzo, Carlos Cardoso Távora Neto, Rholf Alvarenga Badine, Marcelle Motta Santoro e Leandro Antonio Grisi. Para verificar as assinaturas vá ao site https://www.portaldeassinaturas.com.br:443 e utilize o código 1B0B-F3A5-96C7-17F7.Este documento foi assinado digitalmente por Roberta De Sousa Ramos Vettorazzo Marcondes, ANDREIA DE SOUSA RAMOS VETTORAZZO, Felipe Versiani Gandolfo, Jose Carlos Botelho De Moraes Toledo, LUIS VITAL DE SOUZA RAMOS VETTORAZZO, Dalila Cleopath Camargo Botelho De Moraes Toledo, Sergio Luis Botelho De Moraes Toledo, Sergio Luis Botelho De Moraes Toledo, Ricardo Eugenio De Sousa Ramos Vettorazzo, Carlos Cardoso Távora Neto, Rholf Alvarenga Badine, Marcelle Motta Santoro e Leandro Antonio Grisi. Para verificar as assinaturas vá ao site https://www.portaldeassinaturas.com.br:443 e utilize o código 1B0B-F3A5-96C7-17F7.\n",
      "Este documento foi assinado digitalmente por Roberta De Sousa Ramos Vettorazzo Marcondes, ANDREIA DE SOUSA RAMOS VETTORAZZO, Felipe Versiani Gandolfo, Jose Carlos Botelho De Moraes Toledo, LUIS VITAL DE SOUZA RAMOS VETTORAZZO, Dalila Cleopath Camargo Botelho De Moraes Toledo, Sergio Luis Botelho De Moraes Toledo, Sergio Luis Botelho De Moraes Toledo, Ricardo Eugenio De Sousa Ramos Vettorazzo, Carlos Cardoso Távora Neto, Rholf Alvarenga Badine, Marcelle Motta Santoro e Leandro Antonio Grisi. Para verificar as assinaturas vá ao site https://www.portaldeassinaturas.com.br:443 e utilize o código 1B0B-F3A5-96C7-17F7.Este documento foi assinado digitalmente por Roberta De Sousa Ramos Vettorazzo Marcondes, ANDREIA DE SOUSA RAMOS VETTORAZZO, Felipe Versiani Gandolfo, Jose Carlos Botelho De Moraes Toledo, LUIS VITAL DE SOUZA RAMOS VETTORAZZO, Dalila Cleopath Camargo Botelho De Moraes Toledo, Sergio Luis Botelho De Moraes Toledo, Sergio Luis Botelho De Moraes Toledo, Ricardo Eugenio De Sousa Ramos Vettorazzo, Carlos Cardoso Távora Neto, Rholf Alvarenga Badine, Marcelle Motta Santoro e Leandro Antonio Grisi. Para verificar as assinaturas vá ao site https://www.portaldeassinaturas.com.br:443 e utilize o código 1B0B-F3A5-96C7-17F7.\n",
      "Este documento foi assinado digitalmente por Roberta De Sousa Ramos Vettorazzo Marcondes, ANDREIA DE SOUSA RAMOS VETTORAZZO, Felipe Versiani Gandolfo, Jose Carlos Botelho De Moraes Toledo, LUIS VITAL DE SOUZA RAMOS VETTORAZZO, Dalila Cleopath Camargo Botelho De Moraes Toledo, Sergio Luis Botelho De Moraes Toledo, Sergio Luis Botelho De Moraes Toledo, Ricardo Eugenio De Sousa Ramos Vettorazzo, Carlos Cardoso Távora Neto, Rholf Alvarenga Badine, Marcelle Motta Santoro e Leandro Antonio Grisi. Para verificar as assinaturas vá ao site https://www.portaldeassinaturas.com.br:443 e utilize o código 1B0B-F3A5-96C7-17F7.Este documento foi assinado digitalmente por Roberta De Sousa Ramos Vettorazzo Marcondes, ANDREIA DE SOUSA RAMOS VETTORAZZO, Felipe Versiani Gandolfo, Jose Carlos Botelho De Moraes Toledo, LUIS VITAL DE SOUZA RAMOS VETTORAZZO, Dalila Cleopath Camargo Botelho De Moraes Toledo, Sergio Luis Botelho De Moraes Toledo, Sergio Luis Botelho De Moraes Toledo, Ricardo Eugenio De Sousa Ramos Vettorazzo, Carlos Cardoso Távora Neto, Rholf Alvarenga Badine, Marcelle Motta Santoro e Leandro Antonio Grisi. Para verificar as assinaturas vá ao site https://www.portaldeassinaturas.com.br:443 e utilize o código 1B0B-F3A5-96C7-17F7.\n",
      "Este documento foi assinado digitalmente por Roberta De Sousa Ramos Vettorazzo Marcondes, ANDREIA DE SOUSA RAMOS VETTORAZZO, Felipe Versiani Gandolfo, Jose Carlos Botelho De Moraes Toledo, LUIS VITAL DE SOUZA RAMOS VETTORAZZO, Dalila Cleopath Camargo Botelho De Moraes Toledo, Sergio Luis Botelho De Moraes Toledo, Sergio Luis Botelho De Moraes Toledo, Ricardo Eugenio De Sousa Ramos Vettorazzo, Carlos Cardoso Távora Neto, Rholf Alvarenga Badine, Marcelle Motta Santoro e Leandro Antonio Grisi. Para verificar as assinaturas vá ao site https://www.portaldeassinaturas.com.br:443 e utilize o código 1B0B-F3A5-96C7-17F7.Este documento foi assinado digitalmente por Roberta De Sousa Ramos Vettorazzo Marcondes, ANDREIA DE SOUSA RAMOS VETTORAZZO, Felipe Versiani Gandolfo, Jose Carlos Botelho De Moraes Toledo, LUIS VITAL DE SOUZA RAMOS VETTORAZZO, Dalila Cleopath Camargo Botelho De Moraes Toledo, Sergio Luis Botelho De Moraes Toledo, Sergio Luis Botelho De Moraes Toledo, Ricardo Eugenio De Sousa Ramos Vettorazzo, Carlos Cardoso Távora Neto, Rholf Alvarenga Badine, Marcelle Motta Santoro e Leandro Antonio Grisi. Para verificar as assinaturas vá ao site https://www.portaldeassinaturas.com.br:443 e utilize o código 1B0B-F3A5-96C7-17F7.\n",
      "Este documento foi assinado digitalmente por Roberta De Sousa Ramos Vettorazzo Marcondes, ANDREIA DE SOUSA RAMOS VETTORAZZO, Felipe Versiani Gandolfo, Jose Carlos Botelho De Moraes Toledo, LUIS VITAL DE SOUZA RAMOS VETTORAZZO, Dalila Cleopath Camargo Botelho De Moraes Toledo, Sergio Luis Botelho De Moraes Toledo, Sergio Luis Botelho De Moraes Toledo, Ricardo Eugenio De Sousa Ramos Vettorazzo, Carlos Cardoso Távora Neto, Rholf Alvarenga Badine, Marcelle Motta Santoro e Leandro Antonio Grisi. Para verificar as assinaturas vá ao site https://www.portaldeassinaturas.com.br:443 e utilize o código 1B0B-F3A5-96C7-17F7.Este documento foi assinado digitalmente por Roberta De Sousa Ramos Vettorazzo Marcondes, ANDREIA DE SOUSA RAMOS VETTORAZZO, Felipe Versiani Gandolfo, Jose Carlos Botelho De Moraes Toledo, LUIS VITAL DE SOUZA RAMOS VETTORAZZO, Dalila Cleopath Camargo Botelho De Moraes Toledo, Sergio Luis Botelho De Moraes Toledo, Sergio Luis Botelho De Moraes Toledo, Ricardo Eugenio De Sousa Ramos Vettorazzo, Carlos Cardoso Távora Neto, Rholf Alvarenga Badine, Marcelle Motta Santoro e Leandro Antonio Grisi. Para verificar as assinaturas vá ao site https://www.portaldeassinaturas.com.br:443 e utilize o código 1B0B-F3A5-96C7-17F7.\n",
      "Este documento foi assinado digitalmente por Roberta De Sousa Ramos Vettorazzo Marcondes, ANDREIA DE SOUSA RAMOS VETTORAZZO, Felipe Versiani Gandolfo, Jose Carlos Botelho De Moraes Toledo, LUIS VITAL DE SOUZA RAMOS VETTORAZZO, Dalila Cleopath Camargo Botelho De Moraes Toledo, Sergio Luis Botelho De Moraes Toledo, Sergio Luis Botelho De Moraes Toledo, Ricardo Eugenio De Sousa Ramos Vettorazzo, Carlos Cardoso Távora Neto, Rholf Alvarenga Badine, Marcelle Motta Santoro e Leandro Antonio Grisi. Para verificar as assinaturas vá ao site https://www.portaldeassinaturas.com.br:443 e utilize o código 1B0B-F3A5-96C7-17F7.Este documento foi assinado digitalmente por Roberta De Sousa Ramos Vettorazzo Marcondes, ANDREIA DE SOUSA RAMOS VETTORAZZO, Felipe Versiani Gandolfo, Jose Carlos Botelho De Moraes Toledo, LUIS VITAL DE SOUZA RAMOS VETTORAZZO, Dalila Cleopath Camargo Botelho De Moraes Toledo, Sergio Luis Botelho De Moraes Toledo, Sergio Luis Botelho De Moraes Toledo, Ricardo Eugenio De Sousa Ramos Vettorazzo, Carlos Cardoso Távora Neto, Rholf Alvarenga Badine, Marcelle Motta Santoro e Leandro Antonio Grisi. Para verificar as assinaturas vá ao site https://www.portaldeassinaturas.com.br:443 e utilize o código 1B0B-F3A5-96C7-17F7.\n",
      "Este documento foi assinado digitalmente por Roberta De Sousa Ramos Vettorazzo Marcondes, ANDREIA DE SOUSA RAMOS VETTORAZZO, Felipe Versiani Gandolfo, Jose Carlos Botelho De Moraes Toledo, LUIS VITAL DE SOUZA RAMOS VETTORAZZO, Dalila Cleopath Camargo Botelho De Moraes Toledo, Sergio Luis Botelho De Moraes Toledo, Sergio Luis Botelho De Moraes Toledo, Ricardo Eugenio De Sousa Ramos Vettorazzo, Carlos Cardoso Távora Neto, Rholf Alvarenga Badine, Marcelle Motta Santoro e Leandro Antonio Grisi. Para verificar as assinaturas vá ao site https://www.portaldeassinaturas.com.br:443 e utilize o código 1B0B-F3A5-96C7-17F7.Este documento foi assinado digitalmente por Roberta De Sousa Ramos Vettorazzo Marcondes, ANDREIA DE SOUSA RAMOS VETTORAZZO, Felipe Versiani Gandolfo, Jose Carlos Botelho De Moraes Toledo, LUIS VITAL DE SOUZA RAMOS VETTORAZZO, Dalila Cleopath Camargo Botelho De Moraes Toledo, Sergio Luis Botelho De Moraes Toledo, Sergio Luis Botelho De Moraes Toledo, Ricardo Eugenio De Sousa Ramos Vettorazzo, Carlos Cardoso Távora Neto, Rholf Alvarenga Badine, Marcelle Motta Santoro e Leandro Antonio Grisi. Para verificar as assinaturas vá ao site https://www.portaldeassinaturas.com.br:443 e utilize o código 1B0B-F3A5-96C7-17F7.\n",
      "Este documento foi assinado digitalmente por Roberta De Sousa Ramos Vettorazzo Marcondes, ANDREIA DE SOUSA RAMOS VETTORAZZO, Felipe Versiani Gandolfo, Jose Carlos Botelho De Moraes Toledo, LUIS VITAL DE SOUZA RAMOS VETTORAZZO, Dalila Cleopath Camargo Botelho De Moraes Toledo, Sergio Luis Botelho De Moraes Toledo, Sergio Luis Botelho De Moraes Toledo, Ricardo Eugenio De Sousa Ramos Vettorazzo, Carlos Cardoso Távora Neto, Rholf Alvarenga Badine, Marcelle Motta Santoro e Leandro Antonio Grisi. Para verificar as assinaturas vá ao site https://www.portaldeassinaturas.com.br:443 e utilize o código 1B0B-F3A5-96C7-17F7.Este documento foi assinado digitalmente por Roberta De Sousa Ramos Vettorazzo Marcondes, ANDREIA DE SOUSA RAMOS VETTORAZZO, Felipe Versiani Gandolfo, Jose Carlos Botelho De Moraes Toledo, LUIS VITAL DE SOUZA RAMOS VETTORAZZO, Dalila Cleopath Camargo Botelho De Moraes Toledo, Sergio Luis Botelho De Moraes Toledo, Sergio Luis Botelho De Moraes Toledo, Ricardo Eugenio De Sousa Ramos Vettorazzo, Carlos Cardoso Távora Neto, Rholf Alvarenga Badine, Marcelle Motta Santoro e Leandro Antonio Grisi. Para verificar as assinaturas vá ao site https://www.portaldeassinaturas.com.br:443 e utilize o código 1B0B-F3A5-96C7-17F7.\n",
      "Este documento foi assinado digitalmente por Roberta De Sousa Ramos Vettorazzo Marcondes, ANDREIA DE SOUSA RAMOS VETTORAZZO, Felipe Versiani Gandolfo, Jose Carlos Botelho De Moraes Toledo, LUIS VITAL DE SOUZA RAMOS VETTORAZZO, Dalila Cleopath Camargo Botelho De Moraes Toledo, Sergio Luis Botelho De Moraes Toledo, Sergio Luis Botelho De Moraes Toledo, Ricardo Eugenio De Sousa Ramos Vettorazzo, Carlos Cardoso Távora Neto, Rholf Alvarenga Badine, Marcelle Motta Santoro e Leandro Antonio Grisi. Para verificar as assinaturas vá ao site https://www.portaldeassinaturas.com.br:443 e utilize o código 1B0B-F3A5-96C7-17F7.Este documento foi assinado digitalmente por Roberta De Sousa Ramos Vettorazzo Marcondes, ANDREIA DE SOUSA RAMOS VETTORAZZO, Felipe Versiani Gandolfo, Jose Carlos Botelho De Moraes Toledo, LUIS VITAL DE SOUZA RAMOS VETTORAZZO, Dalila Cleopath Camargo Botelho De Moraes Toledo, Sergio Luis Botelho De Moraes Toledo, Sergio Luis Botelho De Moraes Toledo, Ricardo Eugenio De Sousa Ramos Vettorazzo, Carlos Cardoso Távora Neto, Rholf Alvarenga Badine, Marcelle Motta Santoro e Leandro Antonio Grisi. Para verificar as assinaturas vá ao site https://www.portaldeassinaturas.com.br:443 e utilize o código 1B0B-F3A5-96C7-17F7.\n",
      "Este documento foi assinado digitalmente por Roberta De Sousa Ramos Vettorazzo Marcondes, ANDREIA DE SOUSA RAMOS VETTORAZZO, Felipe Versiani Gandolfo, Jose Carlos Botelho De Moraes Toledo, LUIS VITAL DE SOUZA RAMOS VETTORAZZO, Dalila Cleopath Camargo Botelho De Moraes Toledo, Sergio Luis Botelho De Moraes Toledo, Sergio Luis Botelho De Moraes Toledo, Ricardo Eugenio De Sousa Ramos Vettorazzo, Carlos Cardoso Távora Neto, Rholf Alvarenga Badine, Marcelle Motta Santoro e Leandro Antonio Grisi. Para verificar as assinaturas vá ao site https://www.portaldeassinaturas.com.br:443 e utilize o código 1B0B-F3A5-96C7-17F7.Este documento foi assinado digitalmente por Roberta De Sousa Ramos Vettorazzo Marcondes, ANDREIA DE SOUSA RAMOS VETTORAZZO, Felipe Versiani Gandolfo, Jose Carlos Botelho De Moraes Toledo, LUIS VITAL DE SOUZA RAMOS VETTORAZZO, Dalila Cleopath Camargo Botelho De Moraes Toledo, Sergio Luis Botelho De Moraes Toledo, Sergio Luis Botelho De Moraes Toledo, Ricardo Eugenio De Sousa Ramos Vettorazzo, Carlos Cardoso Távora Neto, Rholf Alvarenga Badine, Marcelle Motta Santoro e Leandro Antonio Grisi. Para verificar as assinaturas vá ao site https://www.portaldeassinaturas.com.br:443 e utilize o código 1B0B-F3A5-96C7-17F7.\n",
      "Este documento foi assinado digitalmente por Roberta De Sousa Ramos Vettorazzo Marcondes, ANDREIA DE SOUSA RAMOS VETTORAZZO, Felipe Versiani Gandolfo, Jose Carlos Botelho De Moraes Toledo, LUIS VITAL DE SOUZA RAMOS VETTORAZZO, Dalila Cleopath Camargo Botelho De Moraes Toledo, Sergio Luis Botelho De Moraes Toledo, Sergio Luis Botelho De Moraes Toledo, Ricardo Eugenio De Sousa Ramos Vettorazzo, Carlos Cardoso Távora Neto, Rholf Alvarenga Badine, Marcelle Motta Santoro e Leandro Antonio Grisi. Para verificar as assinaturas vá ao site https://www.portaldeassinaturas.com.br:443 e utilize o código 1B0B-F3A5-96C7-17F7.Este documento foi assinado digitalmente por Roberta De Sousa Ramos Vettorazzo Marcondes, ANDREIA DE SOUSA RAMOS VETTORAZZO, Felipe Versiani Gandolfo, Jose Carlos Botelho De Moraes Toledo, LUIS VITAL DE SOUZA RAMOS VETTORAZZO, Dalila Cleopath Camargo Botelho De Moraes Toledo, Sergio Luis Botelho De Moraes Toledo, Sergio Luis Botelho De Moraes Toledo, Ricardo Eugenio De Sousa Ramos Vettorazzo, Carlos Cardoso Távora Neto, Rholf Alvarenga Badine, Marcelle Motta Santoro e Leandro Antonio Grisi. Para verificar as assinaturas vá ao site https://www.portaldeassinaturas.com.br:443 e utilize o código 1B0B-F3A5-96C7-17F7.\n",
      "Este documento foi assinado digitalmente por Roberta De Sousa Ramos Vettorazzo Marcondes, ANDREIA DE SOUSA RAMOS VETTORAZZO, Felipe Versiani Gandolfo, Jose Carlos Botelho De Moraes Toledo, LUIS VITAL DE SOUZA RAMOS VETTORAZZO, Dalila Cleopath Camargo Botelho De Moraes Toledo, Sergio Luis Botelho De Moraes Toledo, Sergio Luis Botelho De Moraes Toledo, Ricardo Eugenio De Sousa Ramos Vettorazzo, Carlos Cardoso Távora Neto, Rholf Alvarenga Badine, Marcelle Motta Santoro e Leandro Antonio Grisi. Para verificar as assinaturas vá ao site https://www.portaldeassinaturas.com.br:443 e utilize o código 1B0B-F3A5-96C7-17F7.Este documento foi assinado digitalmente por Roberta De Sousa Ramos Vettorazzo Marcondes, ANDREIA DE SOUSA RAMOS VETTORAZZO, Felipe Versiani Gandolfo, Jose Carlos Botelho De Moraes Toledo, LUIS VITAL DE SOUZA RAMOS VETTORAZZO, Dalila Cleopath Camargo Botelho De Moraes Toledo, Sergio Luis Botelho De Moraes Toledo, Sergio Luis Botelho De Moraes Toledo, Ricardo Eugenio De Sousa Ramos Vettorazzo, Carlos Cardoso Távora Neto, Rholf Alvarenga Badine, Marcelle Motta Santoro e Leandro Antonio Grisi. Para verificar as assinaturas vá ao site https://www.portaldeassinaturas.com.br:443 e utilize o código 1B0B-F3A5-96C7-17F7.\n",
      "Este documento foi assinado digitalmente por Roberta De Sousa Ramos Vettorazzo Marcondes, ANDREIA DE SOUSA RAMOS VETTORAZZO, Felipe Versiani Gandolfo, Jose Carlos Botelho De Moraes Toledo, LUIS VITAL DE SOUZA RAMOS VETTORAZZO, Dalila Cleopath Camargo Botelho De Moraes Toledo, Sergio Luis Botelho De Moraes Toledo, Sergio Luis Botelho De Moraes Toledo, Ricardo Eugenio De Sousa Ramos Vettorazzo, Carlos Cardoso Távora Neto, Rholf Alvarenga Badine, Marcelle Motta Santoro e Leandro Antonio Grisi. Para verificar as assinaturas vá ao site https://www.portaldeassinaturas.com.br:443 e utilize o código 1B0B-F3A5-96C7-17F7.Este documento foi assinado digitalmente por Roberta De Sousa Ramos Vettorazzo Marcondes, ANDREIA DE SOUSA RAMOS VETTORAZZO, Felipe Versiani Gandolfo, Jose Carlos Botelho De Moraes Toledo, LUIS VITAL DE SOUZA RAMOS VETTORAZZO, Dalila Cleopath Camargo Botelho De Moraes Toledo, Sergio Luis Botelho De Moraes Toledo, Sergio Luis Botelho De Moraes Toledo, Ricardo Eugenio De Sousa Ramos Vettorazzo, Carlos Cardoso Távora Neto, Rholf Alvarenga Badine, Marcelle Motta Santoro e Leandro Antonio Grisi. Para verificar as assinaturas vá ao site https://www.portaldeassinaturas.com.br:443 e utilize o código 1B0B-F3A5-96C7-17F7.\n",
      "Este documento foi assinado digitalmente por Roberta De Sousa Ramos Vettorazzo Marcondes, ANDREIA DE SOUSA RAMOS VETTORAZZO, Felipe Versiani Gandolfo, Jose Carlos Botelho De Moraes Toledo, LUIS VITAL DE SOUZA RAMOS VETTORAZZO, Dalila Cleopath Camargo Botelho De Moraes Toledo, Sergio Luis Botelho De Moraes Toledo, Sergio Luis Botelho De Moraes Toledo, Ricardo Eugenio De Sousa Ramos Vettorazzo, Carlos Cardoso Távora Neto, Rholf Alvarenga Badine, Marcelle Motta Santoro e Leandro Antonio Grisi. Para verificar as assinaturas vá ao site https://www.portaldeassinaturas.com.br:443 e utilize o código 1B0B-F3A5-96C7-17F7.Este documento foi assinado digitalmente por Roberta De Sousa Ramos Vettorazzo Marcondes, ANDREIA DE SOUSA RAMOS VETTORAZZO, Felipe Versiani Gandolfo, Jose Carlos Botelho De Moraes Toledo, LUIS VITAL DE SOUZA RAMOS VETTORAZZO, Dalila Cleopath Camargo Botelho De Moraes Toledo, Sergio Luis Botelho De Moraes Toledo, Sergio Luis Botelho De Moraes Toledo, Ricardo Eugenio De Sousa Ramos Vettorazzo, Carlos Cardoso Távora Neto, Rholf Alvarenga Badine, Marcelle Motta Santoro e Leandro Antonio Grisi. Para verificar as assinaturas vá ao site https://www.portaldeassinaturas.com.br:443 e utilize o código 1B0B-F3A5-96C7-17F7.\n",
      "Este documento foi assinado digitalmente por Roberta De Sousa Ramos Vettorazzo Marcondes, ANDREIA DE SOUSA RAMOS VETTORAZZO, Felipe Versiani Gandolfo, Jose Carlos Botelho De Moraes Toledo, LUIS VITAL DE SOUZA RAMOS VETTORAZZO, Dalila Cleopath Camargo Botelho De Moraes Toledo, Sergio Luis Botelho De Moraes Toledo, Sergio Luis Botelho De Moraes Toledo, Ricardo Eugenio De Sousa Ramos Vettorazzo, Carlos Cardoso Távora Neto, Rholf Alvarenga Badine, Marcelle Motta Santoro e Leandro Antonio Grisi. Para verificar as assinaturas vá ao site https://www.portaldeassinaturas.com.br:443 e utilize o código 1B0B-F3A5-96C7-17F7.Este documento foi assinado digitalmente por Roberta De Sousa Ramos Vettorazzo Marcondes, ANDREIA DE SOUSA RAMOS VETTORAZZO, Felipe Versiani Gandolfo, Jose Carlos Botelho De Moraes Toledo, LUIS VITAL DE SOUZA RAMOS VETTORAZZO, Dalila Cleopath Camargo Botelho De Moraes Toledo, Sergio Luis Botelho De Moraes Toledo, Sergio Luis Botelho De Moraes Toledo, Ricardo Eugenio De Sousa Ramos Vettorazzo, Carlos Cardoso Távora Neto, Rholf Alvarenga Badine, Marcelle Motta Santoro e Leandro Antonio Grisi. Para verificar as assinaturas vá ao site https://www.portaldeassinaturas.com.br:443 e utilize o código 1B0B-F3A5-96C7-17F7.\n",
      "Este documento foi assinado digitalmente por Roberta De Sousa Ramos Vettorazzo Marcondes, ANDREIA DE SOUSA RAMOS VETTORAZZO, Felipe Versiani Gandolfo, Jose Carlos Botelho De Moraes Toledo, LUIS VITAL DE SOUZA RAMOS VETTORAZZO, Dalila Cleopath Camargo Botelho De Moraes Toledo, Sergio Luis Botelho De Moraes Toledo, Sergio Luis Botelho De Moraes Toledo, Ricardo Eugenio De Sousa Ramos Vettorazzo, Carlos Cardoso Távora Neto, Rholf Alvarenga Badine, Marcelle Motta Santoro e Leandro Antonio Grisi. Para verificar as assinaturas vá ao site https://www.portaldeassinaturas.com.br:443 e utilize o código 1B0B-F3A5-96C7-17F7.Este documento foi assinado digitalmente por Roberta De Sousa Ramos Vettorazzo Marcondes, ANDREIA DE SOUSA RAMOS VETTORAZZO, Felipe Versiani Gandolfo, Jose Carlos Botelho De Moraes Toledo, LUIS VITAL DE SOUZA RAMOS VETTORAZZO, Dalila Cleopath Camargo Botelho De Moraes Toledo, Sergio Luis Botelho De Moraes Toledo, Sergio Luis Botelho De Moraes Toledo, Ricardo Eugenio De Sousa Ramos Vettorazzo, Carlos Cardoso Távora Neto, Rholf Alvarenga Badine, Marcelle Motta Santoro e Leandro Antonio Grisi. Para verificar as assinaturas vá ao site https://www.portaldeassinaturas.com.br:443 e utilize o código 1B0B-F3A5-96C7-17F7.\n",
      "Este documento foi assinado digitalmente por Roberta De Sousa Ramos Vettorazzo Marcondes, ANDREIA DE SOUSA RAMOS VETTORAZZO, Felipe Versiani Gandolfo, Jose Carlos Botelho De Moraes Toledo, LUIS VITAL DE SOUZA RAMOS VETTORAZZO, Dalila Cleopath Camargo Botelho De Moraes Toledo, Sergio Luis Botelho De Moraes Toledo, Sergio Luis Botelho De Moraes Toledo, Ricardo Eugenio De Sousa Ramos Vettorazzo, Carlos Cardoso Távora Neto, Rholf Alvarenga Badine, Marcelle Motta Santoro e Leandro Antonio Grisi. Para verificar as assinaturas vá ao site https://www.portaldeassinaturas.com.br:443 e utilize o código 1B0B-F3A5-96C7-17F7.Este documento foi assinado digitalmente por Roberta De Sousa Ramos Vettorazzo Marcondes, ANDREIA DE SOUSA RAMOS VETTORAZZO, Felipe Versiani Gandolfo, Jose Carlos Botelho De Moraes Toledo, LUIS VITAL DE SOUZA RAMOS VETTORAZZO, Dalila Cleopath Camargo Botelho De Moraes Toledo, Sergio Luis Botelho De Moraes Toledo, Sergio Luis Botelho De Moraes Toledo, Ricardo Eugenio De Sousa Ramos Vettorazzo, Carlos Cardoso Távora Neto, Rholf Alvarenga Badine, Marcelle Motta Santoro e Leandro Antonio Grisi. Para verificar as assinaturas vá ao site https://www.portaldeassinaturas.com.br:443 e utilize o código 1B0B-F3A5-96C7-17F7.\n",
      "Este documento foi assinado digitalmente por Roberta De Sousa Ramos Vettorazzo Marcondes, ANDREIA DE SOUSA RAMOS VETTORAZZO, Felipe Versiani Gandolfo, Jose Carlos Botelho De Moraes Toledo, LUIS VITAL DE SOUZA RAMOS VETTORAZZO, Dalila Cleopath Camargo Botelho De Moraes Toledo, Sergio Luis Botelho De Moraes Toledo, Sergio Luis Botelho De Moraes Toledo, Ricardo Eugenio De Sousa Ramos Vettorazzo, Carlos Cardoso Távora Neto, Rholf Alvarenga Badine, Marcelle Motta Santoro e Leandro Antonio Grisi. Para verificar as assinaturas vá ao site https://www.portaldeassinaturas.com.br:443 e utilize o código 1B0B-F3A5-96C7-17F7.Este documento foi assinado digitalmente por Roberta De Sousa Ramos Vettorazzo Marcondes, ANDREIA DE SOUSA RAMOS VETTORAZZO, Felipe Versiani Gandolfo, Jose Carlos Botelho De Moraes Toledo, LUIS VITAL DE SOUZA RAMOS VETTORAZZO, Dalila Cleopath Camargo Botelho De Moraes Toledo, Sergio Luis Botelho De Moraes Toledo, Sergio Luis Botelho De Moraes Toledo, Ricardo Eugenio De Sousa Ramos Vettorazzo, Carlos Cardoso Távora Neto, Rholf Alvarenga Badine, Marcelle Motta Santoro e Leandro Antonio Grisi. Para verificar as assinaturas vá ao site https://www.portaldeassinaturas.com.br:443 e utilize o código 1B0B-F3A5-96C7-17F7.\n",
      "Este documento foi assinado digitalmente por Roberta De Sousa Ramos Vettorazzo Marcondes, ANDREIA DE SOUSA RAMOS VETTORAZZO, Felipe Versiani Gandolfo, Jose Carlos Botelho De Moraes Toledo, LUIS VITAL DE SOUZA RAMOS VETTORAZZO, Dalila Cleopath Camargo Botelho De Moraes Toledo, Sergio Luis Botelho De Moraes Toledo, Sergio Luis Botelho De Moraes Toledo, Ricardo Eugenio De Sousa Ramos Vettorazzo, Carlos Cardoso Távora Neto, Rholf Alvarenga Badine, Marcelle Motta Santoro e Leandro Antonio Grisi. Para verificar as assinaturas vá ao site https://www.portaldeassinaturas.com.br:443 e utilize o código 1B0B-F3A5-96C7-17F7.Este documento foi assinado digitalmente por Roberta De Sousa Ramos Vettorazzo Marcondes, ANDREIA DE SOUSA RAMOS VETTORAZZO, Felipe Versiani Gandolfo, Jose Carlos Botelho De Moraes Toledo, LUIS VITAL DE SOUZA RAMOS VETTORAZZO, Dalila Cleopath Camargo Botelho De Moraes Toledo, Sergio Luis Botelho De Moraes Toledo, Sergio Luis Botelho De Moraes Toledo, Ricardo Eugenio De Sousa Ramos Vettorazzo, Carlos Cardoso Távora Neto, Rholf Alvarenga Badine, Marcelle Motta Santoro e Leandro Antonio Grisi. Para verificar as assinaturas vá ao site https://www.portaldeassinaturas.com.br:443 e utilize o código 1B0B-F3A5-96C7-17F7.\n",
      "Este documento foi assinado digitalmente por Roberta De Sousa Ramos Vettorazzo Marcondes, ANDREIA DE SOUSA RAMOS VETTORAZZO, Felipe Versiani Gandolfo, Jose Carlos Botelho De Moraes Toledo, LUIS VITAL DE SOUZA RAMOS VETTORAZZO, Dalila Cleopath Camargo Botelho De Moraes Toledo, Sergio Luis Botelho De Moraes Toledo, Sergio Luis Botelho De Moraes Toledo, Ricardo Eugenio De Sousa Ramos Vettorazzo, Carlos Cardoso Távora Neto, Rholf Alvarenga Badine, Marcelle Motta Santoro e Leandro Antonio Grisi. Para verificar as assinaturas vá ao site https://www.portaldeassinaturas.com.br:443 e utilize o código 1B0B-F3A5-96C7-17F7.Este documento foi assinado digitalmente por Roberta De Sousa Ramos Vettorazzo Marcondes, ANDREIA DE SOUSA RAMOS VETTORAZZO, Felipe Versiani Gandolfo, Jose Carlos Botelho De Moraes Toledo, LUIS VITAL DE SOUZA RAMOS VETTORAZZO, Dalila Cleopath Camargo Botelho De Moraes Toledo, Sergio Luis Botelho De Moraes Toledo, Sergio Luis Botelho De Moraes Toledo, Ricardo Eugenio De Sousa Ramos Vettorazzo, Carlos Cardoso Távora Neto, Rholf Alvarenga Badine, Marcelle Motta Santoro e Leandro Antonio Grisi. Para verificar as assinaturas vá ao site https://www.portaldeassinaturas.com.br:443 e utilize o código 1B0B-F3A5-96C7-17F7.\n",
      "Este documento foi assinado digitalmente por Roberta De Sousa Ramos Vettorazzo Marcondes, ANDREIA DE SOUSA RAMOS VETTORAZZO, Felipe Versiani Gandolfo, Jose Carlos Botelho De Moraes Toledo, LUIS VITAL DE SOUZA RAMOS VETTORAZZO, Dalila Cleopath Camargo Botelho De Moraes Toledo, Sergio Luis Botelho De Moraes Toledo, Sergio Luis Botelho De Moraes Toledo, Ricardo Eugenio De Sousa Ramos Vettorazzo, Carlos Cardoso Távora Neto, Rholf Alvarenga Badine, Marcelle Motta Santoro e Leandro Antonio Grisi. Para verificar as assinaturas vá ao site https://www.portaldeassinaturas.com.br:443 e utilize o código 1B0B-F3A5-96C7-17F7.Este documento foi assinado digitalmente por Roberta De Sousa Ramos Vettorazzo Marcondes, ANDREIA DE SOUSA RAMOS VETTORAZZO, Felipe Versiani Gandolfo, Jose Carlos Botelho De Moraes Toledo, LUIS VITAL DE SOUZA RAMOS VETTORAZZO, Dalila Cleopath Camargo Botelho De Moraes Toledo, Sergio Luis Botelho De Moraes Toledo, Sergio Luis Botelho De Moraes Toledo, Ricardo Eugenio De Sousa Ramos Vettorazzo, Carlos Cardoso Távora Neto, Rholf Alvarenga Badine, Marcelle Motta Santoro e Leandro Antonio Grisi. Para verificar as assinaturas vá ao site https://www.portaldeassinaturas.com.br:443 e utilize o código 1B0B-F3A5-96C7-17F7.\n",
      "Este documento foi assinado digitalmente por Roberta De Sousa Ramos Vettorazzo Marcondes, ANDREIA DE SOUSA RAMOS VETTORAZZO, Felipe Versiani Gandolfo, Jose Carlos Botelho De Moraes Toledo, LUIS VITAL DE SOUZA RAMOS VETTORAZZO, Dalila Cleopath Camargo Botelho De Moraes Toledo, Sergio Luis Botelho De Moraes Toledo, Sergio Luis Botelho De Moraes Toledo, Ricardo Eugenio De Sousa Ramos Vettorazzo, Carlos Cardoso Távora Neto, Rholf Alvarenga Badine, Marcelle Motta Santoro e Leandro Antonio Grisi. Para verificar as assinaturas vá ao site https://www.portaldeassinaturas.com.br:443 e utilize o código 1B0B-F3A5-96C7-17F7.Este documento foi assinado digitalmente por Roberta De Sousa Ramos Vettorazzo Marcondes, ANDREIA DE SOUSA RAMOS VETTORAZZO, Felipe Versiani Gandolfo, Jose Carlos Botelho De Moraes Toledo, LUIS VITAL DE SOUZA RAMOS VETTORAZZO, Dalila Cleopath Camargo Botelho De Moraes Toledo, Sergio Luis Botelho De Moraes Toledo, Sergio Luis Botelho De Moraes Toledo, Ricardo Eugenio De Sousa Ramos Vettorazzo, Carlos Cardoso Távora Neto, Rholf Alvarenga Badine, Marcelle Motta Santoro e Leandro Antonio Grisi. Para verificar as assinaturas vá ao site https://www.portaldeassinaturas.com.br:443 e utilize o código 1B0B-F3A5-96C7-17F7.\n",
      "Este documento foi assinado digitalmente por Roberta De Sousa Ramos Vettorazzo Marcondes, ANDREIA DE SOUSA RAMOS VETTORAZZO, Felipe Versiani Gandolfo, Jose Carlos Botelho De Moraes Toledo, LUIS VITAL DE SOUZA RAMOS VETTORAZZO, Dalila Cleopath Camargo Botelho De Moraes Toledo, Sergio Luis Botelho De Moraes Toledo, Sergio Luis Botelho De Moraes Toledo, Ricardo Eugenio De Sousa Ramos Vettorazzo, Carlos Cardoso Távora Neto, Rholf Alvarenga Badine, Marcelle Motta Santoro e Leandro Antonio Grisi. Para verificar as assinaturas vá ao site https://www.portaldeassinaturas.com.br:443 e utilize o código 1B0B-F3A5-96C7-17F7.Este documento foi assinado digitalmente por Roberta De Sousa Ramos Vettorazzo Marcondes, ANDREIA DE SOUSA RAMOS VETTORAZZO, Felipe Versiani Gandolfo, Jose Carlos Botelho De Moraes Toledo, LUIS VITAL DE SOUZA RAMOS VETTORAZZO, Dalila Cleopath Camargo Botelho De Moraes Toledo, Sergio Luis Botelho De Moraes Toledo, Sergio Luis Botelho De Moraes Toledo, Ricardo Eugenio De Sousa Ramos Vettorazzo, Carlos Cardoso Távora Neto, Rholf Alvarenga Badine, Marcelle Motta Santoro e Leandro Antonio Grisi. Para verificar as assinaturas vá ao site https://www.portaldeassinaturas.com.br:443 e utilize o código 1B0B-F3A5-96C7-17F7.\n",
      "Este documento foi assinado digitalmente por Roberta De Sousa Ramos Vettorazzo Marcondes, ANDREIA DE SOUSA RAMOS VETTORAZZO, Felipe Versiani Gandolfo, Jose Carlos Botelho De Moraes Toledo, LUIS VITAL DE SOUZA RAMOS VETTORAZZO, Dalila Cleopath Camargo Botelho De Moraes Toledo, Sergio Luis Botelho De Moraes Toledo, Sergio Luis Botelho De Moraes Toledo, Ricardo Eugenio De Sousa Ramos Vettorazzo, Carlos Cardoso Távora Neto, Rholf Alvarenga Badine, Marcelle Motta Santoro e Leandro Antonio Grisi. Para verificar as assinaturas vá ao site https://www.portaldeassinaturas.com.br:443 e utilize o código 1B0B-F3A5-96C7-17F7.Este documento foi assinado digitalmente por Roberta De Sousa Ramos Vettorazzo Marcondes, ANDREIA DE SOUSA RAMOS VETTORAZZO, Felipe Versiani Gandolfo, Jose Carlos Botelho De Moraes Toledo, LUIS VITAL DE SOUZA RAMOS VETTORAZZO, Dalila Cleopath Camargo Botelho De Moraes Toledo, Sergio Luis Botelho De Moraes Toledo, Sergio Luis Botelho De Moraes Toledo, Ricardo Eugenio De Sousa Ramos Vettorazzo, Carlos Cardoso Távora Neto, Rholf Alvarenga Badine, Marcelle Motta Santoro e Leandro Antonio Grisi. Para verificar as assinaturas vá ao site https://www.portaldeassinaturas.com.br:443 e utilize o código 1B0B-F3A5-96C7-17F7.\n",
      "Este documento foi assinado digitalmente por Roberta De Sousa Ramos Vettorazzo Marcondes, ANDREIA DE SOUSA RAMOS VETTORAZZO, Felipe Versiani Gandolfo, Jose Carlos Botelho De Moraes Toledo, LUIS VITAL DE SOUZA RAMOS VETTORAZZO, Dalila Cleopath Camargo Botelho De Moraes Toledo, Sergio Luis Botelho De Moraes Toledo, Sergio Luis Botelho De Moraes Toledo, Ricardo Eugenio De Sousa Ramos Vettorazzo, Carlos Cardoso Távora Neto, Rholf Alvarenga Badine, Marcelle Motta Santoro e Leandro Antonio Grisi. Para verificar as assinaturas vá ao site https://www.portaldeassinaturas.com.br:443 e utilize o código 1B0B-F3A5-96C7-17F7.Este documento foi assinado digitalmente por Roberta De Sousa Ramos Vettorazzo Marcondes, ANDREIA DE SOUSA RAMOS VETTORAZZO, Felipe Versiani Gandolfo, Jose Carlos Botelho De Moraes Toledo, LUIS VITAL DE SOUZA RAMOS VETTORAZZO, Dalila Cleopath Camargo Botelho De Moraes Toledo, Sergio Luis Botelho De Moraes Toledo, Sergio Luis Botelho De Moraes Toledo, Ricardo Eugenio De Sousa Ramos Vettorazzo, Carlos Cardoso Távora Neto, Rholf Alvarenga Badine, Marcelle Motta Santoro e Leandro Antonio Grisi. Para verificar as assinaturas vá ao site https://www.portaldeassinaturas.com.br:443 e utilize o código 1B0B-F3A5-96C7-17F7.\n",
      "Este documento foi assinado digitalmente por Roberta De Sousa Ramos Vettorazzo Marcondes, ANDREIA DE SOUSA RAMOS VETTORAZZO, Felipe Versiani Gandolfo, Jose Carlos Botelho De Moraes Toledo, LUIS VITAL DE SOUZA RAMOS VETTORAZZO, Dalila Cleopath Camargo Botelho De Moraes Toledo, Sergio Luis Botelho De Moraes Toledo, Sergio Luis Botelho De Moraes Toledo, Ricardo Eugenio De Sousa Ramos Vettorazzo, Carlos Cardoso Távora Neto, Rholf Alvarenga Badine, Marcelle Motta Santoro e Leandro Antonio Grisi. Para verificar as assinaturas vá ao site https://www.portaldeassinaturas.com.br:443 e utilize o código 1B0B-F3A5-96C7-17F7.Este documento foi assinado digitalmente por Roberta De Sousa Ramos Vettorazzo Marcondes, ANDREIA DE SOUSA RAMOS VETTORAZZO, Felipe Versiani Gandolfo, Jose Carlos Botelho De Moraes Toledo, LUIS VITAL DE SOUZA RAMOS VETTORAZZO, Dalila Cleopath Camargo Botelho De Moraes Toledo, Sergio Luis Botelho De Moraes Toledo, Sergio Luis Botelho De Moraes Toledo, Ricardo Eugenio De Sousa Ramos Vettorazzo, Carlos Cardoso Távora Neto, Rholf Alvarenga Badine, Marcelle Motta Santoro e Leandro Antonio Grisi. Para verificar as assinaturas vá ao site https://www.portaldeassinaturas.com.br:443 e utilize o código 1B0B-F3A5-96C7-17F7.\n",
      "Este documento foi assinado digitalmente por Roberta De Sousa Ramos Vettorazzo Marcondes, ANDREIA DE SOUSA RAMOS VETTORAZZO, Felipe Versiani Gandolfo, Jose Carlos Botelho De Moraes Toledo, LUIS VITAL DE SOUZA RAMOS VETTORAZZO, Dalila Cleopath Camargo Botelho De Moraes Toledo, Sergio Luis Botelho De Moraes Toledo, Sergio Luis Botelho De Moraes Toledo, Ricardo Eugenio De Sousa Ramos Vettorazzo, Carlos Cardoso Távora Neto, Rholf Alvarenga Badine, Marcelle Motta Santoro e Leandro Antonio Grisi. Para verificar as assinaturas vá ao site https://www.portaldeassinaturas.com.br:443 e utilize o código 1B0B-F3A5-96C7-17F7.Este documento foi assinado digitalmente por Roberta De Sousa Ramos Vettorazzo Marcondes, ANDREIA DE SOUSA RAMOS VETTORAZZO, Felipe Versiani Gandolfo, Jose Carlos Botelho De Moraes Toledo, LUIS VITAL DE SOUZA RAMOS VETTORAZZO, Dalila Cleopath Camargo Botelho De Moraes Toledo, Sergio Luis Botelho De Moraes Toledo, Sergio Luis Botelho De Moraes Toledo, Ricardo Eugenio De Sousa Ramos Vettorazzo, Carlos Cardoso Távora Neto, Rholf Alvarenga Badine, Marcelle Motta Santoro e Leandro Antonio Grisi. Para verificar as assinaturas vá ao site https://www.portaldeassinaturas.com.br:443 e utilize o código 1B0B-F3A5-96C7-17F7.\n",
      "Este documento foi assinado digitalmente por Roberta De Sousa Ramos Vettorazzo Marcondes, ANDREIA DE SOUSA RAMOS VETTORAZZO, Felipe Versiani Gandolfo, Jose Carlos Botelho De Moraes Toledo, LUIS VITAL DE SOUZA RAMOS VETTORAZZO, Dalila Cleopath Camargo Botelho De Moraes Toledo, Sergio Luis Botelho De Moraes Toledo, Sergio Luis Botelho De Moraes Toledo, Ricardo Eugenio De Sousa Ramos Vettorazzo, Carlos Cardoso Távora Neto, Rholf Alvarenga Badine, Marcelle Motta Santoro e Leandro Antonio Grisi. Para verificar as assinaturas vá ao site https://www.portaldeassinaturas.com.br:443 e utilize o código 1B0B-F3A5-96C7-17F7.Este documento foi assinado digitalmente por Roberta De Sousa Ramos Vettorazzo Marcondes, ANDREIA DE SOUSA RAMOS VETTORAZZO, Felipe Versiani Gandolfo, Jose Carlos Botelho De Moraes Toledo, LUIS VITAL DE SOUZA RAMOS VETTORAZZO, Dalila Cleopath Camargo Botelho De Moraes Toledo, Sergio Luis Botelho De Moraes Toledo, Sergio Luis Botelho De Moraes Toledo, Ricardo Eugenio De Sousa Ramos Vettorazzo, Carlos Cardoso Távora Neto, Rholf Alvarenga Badine, Marcelle Motta Santoro e Leandro Antonio Grisi. Para verificar as assinaturas vá ao site https://www.portaldeassinaturas.com.br:443 e utilize o código 1B0B-F3A5-96C7-17F7.\n",
      "Este documento foi assinado digitalmente por Roberta De Sousa Ramos Vettorazzo Marcondes, ANDREIA DE SOUSA RAMOS VETTORAZZO, Felipe Versiani Gandolfo, Jose Carlos Botelho De Moraes Toledo, LUIS VITAL DE SOUZA RAMOS VETTORAZZO, Dalila Cleopath Camargo Botelho De Moraes Toledo, Sergio Luis Botelho De Moraes Toledo, Sergio Luis Botelho De Moraes Toledo, Ricardo Eugenio De Sousa Ramos Vettorazzo, Carlos Cardoso Távora Neto, Rholf Alvarenga Badine, Marcelle Motta Santoro e Leandro Antonio Grisi. Para verificar as assinaturas vá ao site https://www.portaldeassinaturas.com.br:443 e utilize o código 1B0B-F3A5-96C7-17F7.Este documento foi assinado digitalmente por Roberta De Sousa Ramos Vettorazzo Marcondes, ANDREIA DE SOUSA RAMOS VETTORAZZO, Felipe Versiani Gandolfo, Jose Carlos Botelho De Moraes Toledo, LUIS VITAL DE SOUZA RAMOS VETTORAZZO, Dalila Cleopath Camargo Botelho De Moraes Toledo, Sergio Luis Botelho De Moraes Toledo, Sergio Luis Botelho De Moraes Toledo, Ricardo Eugenio De Sousa Ramos Vettorazzo, Carlos Cardoso Távora Neto, Rholf Alvarenga Badine, Marcelle Motta Santoro e Leandro Antonio Grisi. Para verificar as assinaturas vá ao site https://www.portaldeassinaturas.com.br:443 e utilize o código 1B0B-F3A5-96C7-17F7.\n",
      "Este documento foi assinado digitalmente por Roberta De Sousa Ramos Vettorazzo Marcondes, ANDREIA DE SOUSA RAMOS VETTORAZZO, Felipe Versiani Gandolfo, Jose Carlos Botelho De Moraes Toledo, LUIS VITAL DE SOUZA RAMOS VETTORAZZO, Dalila Cleopath Camargo Botelho De Moraes Toledo, Sergio Luis Botelho De Moraes Toledo, Sergio Luis Botelho De Moraes Toledo, Ricardo Eugenio De Sousa Ramos Vettorazzo, Carlos Cardoso Távora Neto, Rholf Alvarenga Badine, Marcelle Motta Santoro e Leandro Antonio Grisi. Para verificar as assinaturas vá ao site https://www.portaldeassinaturas.com.br:443 e utilize o código 1B0B-F3A5-96C7-17F7.Este documento foi assinado digitalmente por Roberta De Sousa Ramos Vettorazzo Marcondes, ANDREIA DE SOUSA RAMOS VETTORAZZO, Felipe Versiani Gandolfo, Jose Carlos Botelho De Moraes Toledo, LUIS VITAL DE SOUZA RAMOS VETTORAZZO, Dalila Cleopath Camargo Botelho De Moraes Toledo, Sergio Luis Botelho De Moraes Toledo, Sergio Luis Botelho De Moraes Toledo, Ricardo Eugenio De Sousa Ramos Vettorazzo, Carlos Cardoso Távora Neto, Rholf Alvarenga Badine, Marcelle Motta Santoro e Leandro Antonio Grisi. Para verificar as assinaturas vá ao site https://www.portaldeassinaturas.com.br:443 e utilize o código 1B0B-F3A5-96C7-17F7.\n",
      "Este documento foi assinado digitalmente por Roberta De Sousa Ramos Vettorazzo Marcondes, ANDREIA DE SOUSA RAMOS VETTORAZZO, Felipe Versiani Gandolfo, Jose Carlos Botelho De Moraes Toledo, LUIS VITAL DE SOUZA RAMOS VETTORAZZO, Dalila Cleopath Camargo Botelho De Moraes Toledo, Sergio Luis Botelho De Moraes Toledo, Sergio Luis Botelho De Moraes Toledo, Ricardo Eugenio De Sousa Ramos Vettorazzo, Carlos Cardoso Távora Neto, Rholf Alvarenga Badine, Marcelle Motta Santoro e Leandro Antonio Grisi. Para verificar as assinaturas vá ao site https://www.portaldeassinaturas.com.br:443 e utilize o código 1B0B-F3A5-96C7-17F7.Este documento foi assinado digitalmente por Roberta De Sousa Ramos Vettorazzo Marcondes, ANDREIA DE SOUSA RAMOS VETTORAZZO, Felipe Versiani Gandolfo, Jose Carlos Botelho De Moraes Toledo, LUIS VITAL DE SOUZA RAMOS VETTORAZZO, Dalila Cleopath Camargo Botelho De Moraes Toledo, Sergio Luis Botelho De Moraes Toledo, Sergio Luis Botelho De Moraes Toledo, Ricardo Eugenio De Sousa Ramos Vettorazzo, Carlos Cardoso Távora Neto, Rholf Alvarenga Badine, Marcelle Motta Santoro e Leandro Antonio Grisi. Para verificar as assinaturas vá ao site https://www.portaldeassinaturas.com.br:443 e utilize o código 1B0B-F3A5-96C7-17F7.\n",
      "Este documento foi assinado digitalmente por Roberta De Sousa Ramos Vettorazzo Marcondes, ANDREIA DE SOUSA RAMOS VETTORAZZO, Felipe Versiani Gandolfo, Jose Carlos Botelho De Moraes Toledo, LUIS VITAL DE SOUZA RAMOS VETTORAZZO, Dalila Cleopath Camargo Botelho De Moraes Toledo, Sergio Luis Botelho De Moraes Toledo, Sergio Luis Botelho De Moraes Toledo, Ricardo Eugenio De Sousa Ramos Vettorazzo, Carlos Cardoso Távora Neto, Rholf Alvarenga Badine, Marcelle Motta Santoro e Leandro Antonio Grisi. Para verificar as assinaturas vá ao site https://www.portaldeassinaturas.com.br:443 e utilize o código 1B0B-F3A5-96C7-17F7.Este documento foi assinado digitalmente por Roberta De Sousa Ramos Vettorazzo Marcondes, ANDREIA DE SOUSA RAMOS VETTORAZZO, Felipe Versiani Gandolfo, Jose Carlos Botelho De Moraes Toledo, LUIS VITAL DE SOUZA RAMOS VETTORAZZO, Dalila Cleopath Camargo Botelho De Moraes Toledo, Sergio Luis Botelho De Moraes Toledo, Sergio Luis Botelho De Moraes Toledo, Ricardo Eugenio De Sousa Ramos Vettorazzo, Carlos Cardoso Távora Neto, Rholf Alvarenga Badine, Marcelle Motta Santoro e Leandro Antonio Grisi. Para verificar as assinaturas vá ao site https://www.portaldeassinaturas.com.br:443 e utilize o código 1B0B-F3A5-96C7-17F7.\n",
      "Este documento foi assinado digitalmente por Roberta De Sousa Ramos Vettorazzo Marcondes, ANDREIA DE SOUSA RAMOS VETTORAZZO, Felipe Versiani Gandolfo, Jose Carlos Botelho De Moraes Toledo, LUIS VITAL DE SOUZA RAMOS VETTORAZZO, Dalila Cleopath Camargo Botelho De Moraes Toledo, Sergio Luis Botelho De Moraes Toledo, Sergio Luis Botelho De Moraes Toledo, Ricardo Eugenio De Sousa Ramos Vettorazzo, Carlos Cardoso Távora Neto, Rholf Alvarenga Badine, Marcelle Motta Santoro e Leandro Antonio Grisi. Para verificar as assinaturas vá ao site https://www.portaldeassinaturas.com.br:443 e utilize o código 1B0B-F3A5-96C7-17F7.Este documento foi assinado digitalmente por Roberta De Sousa Ramos Vettorazzo Marcondes, ANDREIA DE SOUSA RAMOS VETTORAZZO, Felipe Versiani Gandolfo, Jose Carlos Botelho De Moraes Toledo, LUIS VITAL DE SOUZA RAMOS VETTORAZZO, Dalila Cleopath Camargo Botelho De Moraes Toledo, Sergio Luis Botelho De Moraes Toledo, Sergio Luis Botelho De Moraes Toledo, Ricardo Eugenio De Sousa Ramos Vettorazzo, Carlos Cardoso Távora Neto, Rholf Alvarenga Badine, Marcelle Motta Santoro e Leandro Antonio Grisi. Para verificar as assinaturas vá ao site https://www.portaldeassinaturas.com.br:443 e utilize o código 1B0B-F3A5-96C7-17F7.\n",
      "Este documento foi assinado digitalmente por Roberta De Sousa Ramos Vettorazzo Marcondes, ANDREIA DE SOUSA RAMOS VETTORAZZO, Felipe Versiani Gandolfo, Jose Carlos Botelho De Moraes Toledo, LUIS VITAL DE SOUZA RAMOS VETTORAZZO, Dalila Cleopath Camargo Botelho De Moraes Toledo, Sergio Luis Botelho De Moraes Toledo, Sergio Luis Botelho De Moraes Toledo, Ricardo Eugenio De Sousa Ramos Vettorazzo, Carlos Cardoso Távora Neto, Rholf Alvarenga Badine, Marcelle Motta Santoro e Leandro Antonio Grisi. Para verificar as assinaturas vá ao site https://www.portaldeassinaturas.com.br:443 e utilize o código 1B0B-F3A5-96C7-17F7.Este documento foi assinado digitalmente por Roberta De Sousa Ramos Vettorazzo Marcondes, ANDREIA DE SOUSA RAMOS VETTORAZZO, Felipe Versiani Gandolfo, Jose Carlos Botelho De Moraes Toledo, LUIS VITAL DE SOUZA RAMOS VETTORAZZO, Dalila Cleopath Camargo Botelho De Moraes Toledo, Sergio Luis Botelho De Moraes Toledo, Sergio Luis Botelho De Moraes Toledo, Ricardo Eugenio De Sousa Ramos Vettorazzo, Carlos Cardoso Távora Neto, Rholf Alvarenga Badine, Marcelle Motta Santoro e Leandro Antonio Grisi. Para verificar as assinaturas vá ao site https://www.portaldeassinaturas.com.br:443 e utilize o código 1B0B-F3A5-96C7-17F7.\n",
      "Este documento foi assinado digitalmente por Roberta De Sousa Ramos Vettorazzo Marcondes, ANDREIA DE SOUSA RAMOS VETTORAZZO, Felipe Versiani Gandolfo, Jose Carlos Botelho De Moraes Toledo, LUIS VITAL DE SOUZA RAMOS VETTORAZZO, Dalila Cleopath Camargo Botelho De Moraes Toledo, Sergio Luis Botelho De Moraes Toledo, Sergio Luis Botelho De Moraes Toledo, Ricardo Eugenio De Sousa Ramos Vettorazzo, Carlos Cardoso Távora Neto, Rholf Alvarenga Badine, Marcelle Motta Santoro e Leandro Antonio Grisi. Para verificar as assinaturas vá ao site https://www.portaldeassinaturas.com.br:443 e utilize o código 1B0B-F3A5-96C7-17F7.Este documento foi assinado digitalmente por Roberta De Sousa Ramos Vettorazzo Marcondes, ANDREIA DE SOUSA RAMOS VETTORAZZO, Felipe Versiani Gandolfo, Jose Carlos Botelho De Moraes Toledo, LUIS VITAL DE SOUZA RAMOS VETTORAZZO, Dalila Cleopath Camargo Botelho De Moraes Toledo, Sergio Luis Botelho De Moraes Toledo, Sergio Luis Botelho De Moraes Toledo, Ricardo Eugenio De Sousa Ramos Vettorazzo, Carlos Cardoso Távora Neto, Rholf Alvarenga Badine, Marcelle Motta Santoro e Leandro Antonio Grisi. Para verificar as assinaturas vá ao site https://www.portaldeassinaturas.com.br:443 e utilize o código 1B0B-F3A5-96C7-17F7.\n",
      "Este documento foi assinado digitalmente por Roberta De Sousa Ramos Vettorazzo Marcondes, ANDREIA DE SOUSA RAMOS VETTORAZZO, Felipe Versiani Gandolfo, Jose Carlos Botelho De Moraes Toledo, LUIS VITAL DE SOUZA RAMOS VETTORAZZO, Dalila Cleopath Camargo Botelho De Moraes Toledo, Sergio Luis Botelho De Moraes Toledo, Sergio Luis Botelho De Moraes Toledo, Ricardo Eugenio De Sousa Ramos Vettorazzo, Carlos Cardoso Távora Neto, Rholf Alvarenga Badine, Marcelle Motta Santoro e Leandro Antonio Grisi. Para verificar as assinaturas vá ao site https://www.portaldeassinaturas.com.br:443 e utilize o código 1B0B-F3A5-96C7-17F7.Este documento foi assinado digitalmente por Roberta De Sousa Ramos Vettorazzo Marcondes, ANDREIA DE SOUSA RAMOS VETTORAZZO, Felipe Versiani Gandolfo, Jose Carlos Botelho De Moraes Toledo, LUIS VITAL DE SOUZA RAMOS VETTORAZZO, Dalila Cleopath Camargo Botelho De Moraes Toledo, Sergio Luis Botelho De Moraes Toledo, Sergio Luis Botelho De Moraes Toledo, Ricardo Eugenio De Sousa Ramos Vettorazzo, Carlos Cardoso Távora Neto, Rholf Alvarenga Badine, Marcelle Motta Santoro e Leandro Antonio Grisi. Para verificar as assinaturas vá ao site https://www.portaldeassinaturas.com.br:443 e utilize o código 1B0B-F3A5-96C7-17F7.\n",
      "Este documento foi assinado digitalmente por Roberta De Sousa Ramos Vettorazzo Marcondes, ANDREIA DE SOUSA RAMOS VETTORAZZO, Felipe Versiani Gandolfo, Jose Carlos Botelho De Moraes Toledo, LUIS VITAL DE SOUZA RAMOS VETTORAZZO, Dalila Cleopath Camargo Botelho De Moraes Toledo, Sergio Luis Botelho De Moraes Toledo, Sergio Luis Botelho De Moraes Toledo, Ricardo Eugenio De Sousa Ramos Vettorazzo, Carlos Cardoso Távora Neto, Rholf Alvarenga Badine, Marcelle Motta Santoro e Leandro Antonio Grisi. Para verificar as assinaturas vá ao site https://www.portaldeassinaturas.com.br:443 e utilize o código 1B0B-F3A5-96C7-17F7.Este documento foi assinado digitalmente por Roberta De Sousa Ramos Vettorazzo Marcondes, ANDREIA DE SOUSA RAMOS VETTORAZZO, Felipe Versiani Gandolfo, Jose Carlos Botelho De Moraes Toledo, LUIS VITAL DE SOUZA RAMOS VETTORAZZO, Dalila Cleopath Camargo Botelho De Moraes Toledo, Sergio Luis Botelho De Moraes Toledo, Sergio Luis Botelho De Moraes Toledo, Ricardo Eugenio De Sousa Ramos Vettorazzo, Carlos Cardoso Távora Neto, Rholf Alvarenga Badine, Marcelle Motta Santoro e Leandro Antonio Grisi. Para verificar as assinaturas vá ao site https://www.portaldeassinaturas.com.br:443 e utilize o código 1B0B-F3A5-96C7-17F7.\n",
      "Este documento foi assinado digitalmente por Roberta De Sousa Ramos Vettorazzo Marcondes, ANDREIA DE SOUSA RAMOS VETTORAZZO, Felipe Versiani Gandolfo, Jose Carlos Botelho De Moraes Toledo, LUIS VITAL DE SOUZA RAMOS VETTORAZZO, Dalila Cleopath Camargo Botelho De Moraes Toledo, Sergio Luis Botelho De Moraes Toledo, Sergio Luis Botelho De Moraes Toledo, Ricardo Eugenio De Sousa Ramos Vettorazzo, Carlos Cardoso Távora Neto, Rholf Alvarenga Badine, Marcelle Motta Santoro e Leandro Antonio Grisi. Para verificar as assinaturas vá ao site https://www.portaldeassinaturas.com.br:443 e utilize o código 1B0B-F3A5-96C7-17F7.Este documento foi assinado digitalmente por Roberta De Sousa Ramos Vettorazzo Marcondes, ANDREIA DE SOUSA RAMOS VETTORAZZO, Felipe Versiani Gandolfo, Jose Carlos Botelho De Moraes Toledo, LUIS VITAL DE SOUZA RAMOS VETTORAZZO, Dalila Cleopath Camargo Botelho De Moraes Toledo, Sergio Luis Botelho De Moraes Toledo, Sergio Luis Botelho De Moraes Toledo, Ricardo Eugenio De Sousa Ramos Vettorazzo, Carlos Cardoso Távora Neto, Rholf Alvarenga Badine, Marcelle Motta Santoro e Leandro Antonio Grisi. Para verificar as assinaturas vá ao site https://www.portaldeassinaturas.com.br:443 e utilize o código 1B0B-F3A5-96C7-17F7.\n",
      "Este documento foi assinado digitalmente por Roberta De Sousa Ramos Vettorazzo Marcondes, ANDREIA DE SOUSA RAMOS VETTORAZZO, Felipe Versiani Gandolfo, Jose Carlos Botelho De Moraes Toledo, LUIS VITAL DE SOUZA RAMOS VETTORAZZO, Dalila Cleopath Camargo Botelho De Moraes Toledo, Sergio Luis Botelho De Moraes Toledo, Sergio Luis Botelho De Moraes Toledo, Ricardo Eugenio De Sousa Ramos Vettorazzo, Carlos Cardoso Távora Neto, Rholf Alvarenga Badine, Marcelle Motta Santoro e Leandro Antonio Grisi. Para verificar as assinaturas vá ao site https://www.portaldeassinaturas.com.br:443 e utilize o código 1B0B-F3A5-96C7-17F7.Este documento foi assinado digitalmente por Roberta De Sousa Ramos Vettorazzo Marcondes, ANDREIA DE SOUSA RAMOS VETTORAZZO, Felipe Versiani Gandolfo, Jose Carlos Botelho De Moraes Toledo, LUIS VITAL DE SOUZA RAMOS VETTORAZZO, Dalila Cleopath Camargo Botelho De Moraes Toledo, Sergio Luis Botelho De Moraes Toledo, Sergio Luis Botelho De Moraes Toledo, Ricardo Eugenio De Sousa Ramos Vettorazzo, Carlos Cardoso Távora Neto, Rholf Alvarenga Badine, Marcelle Motta Santoro e Leandro Antonio Grisi. Para verificar as assinaturas vá ao site https://www.portaldeassinaturas.com.br:443 e utilize o código 1B0B-F3A5-96C7-17F7.\n",
      "Este documento foi assinado digitalmente por Roberta De Sousa Ramos Vettorazzo Marcondes, ANDREIA DE SOUSA RAMOS VETTORAZZO, Felipe Versiani Gandolfo, Jose Carlos Botelho De Moraes Toledo, LUIS VITAL DE SOUZA RAMOS VETTORAZZO, Dalila Cleopath Camargo Botelho De Moraes Toledo, Sergio Luis Botelho De Moraes Toledo, Sergio Luis Botelho De Moraes Toledo, Ricardo Eugenio De Sousa Ramos Vettorazzo, Carlos Cardoso Távora Neto, Rholf Alvarenga Badine, Marcelle Motta Santoro e Leandro Antonio Grisi. Para verificar as assinaturas vá ao site https://www.portaldeassinaturas.com.br:443 e utilize o código 1B0B-F3A5-96C7-17F7.Este documento foi assinado digitalmente por Roberta De Sousa Ramos Vettorazzo Marcondes, ANDREIA DE SOUSA RAMOS VETTORAZZO, Felipe Versiani Gandolfo, Jose Carlos Botelho De Moraes Toledo, LUIS VITAL DE SOUZA RAMOS VETTORAZZO, Dalila Cleopath Camargo Botelho De Moraes Toledo, Sergio Luis Botelho De Moraes Toledo, Sergio Luis Botelho De Moraes Toledo, Ricardo Eugenio De Sousa Ramos Vettorazzo, Carlos Cardoso Távora Neto, Rholf Alvarenga Badine, Marcelle Motta Santoro e Leandro Antonio Grisi. Para verificar as assinaturas vá ao site https://www.portaldeassinaturas.com.br:443 e utilize o código 1B0B-F3A5-96C7-17F7.\n",
      "Este documento foi assinado digitalmente por Roberta De Sousa Ramos Vettorazzo Marcondes, ANDREIA DE SOUSA RAMOS VETTORAZZO, Felipe Versiani Gandolfo, Jose Carlos Botelho De Moraes Toledo, LUIS VITAL DE SOUZA RAMOS VETTORAZZO, Dalila Cleopath Camargo Botelho De Moraes Toledo, Sergio Luis Botelho De Moraes Toledo, Sergio Luis Botelho De Moraes Toledo, Ricardo Eugenio De Sousa Ramos Vettorazzo, Carlos Cardoso Távora Neto, Rholf Alvarenga Badine, Marcelle Motta Santoro e Leandro Antonio Grisi. Para verificar as assinaturas vá ao site https://www.portaldeassinaturas.com.br:443 e utilize o código 1B0B-F3A5-96C7-17F7.Este documento foi assinado digitalmente por Roberta De Sousa Ramos Vettorazzo Marcondes, ANDREIA DE SOUSA RAMOS VETTORAZZO, Felipe Versiani Gandolfo, Jose Carlos Botelho De Moraes Toledo, LUIS VITAL DE SOUZA RAMOS VETTORAZZO, Dalila Cleopath Camargo Botelho De Moraes Toledo, Sergio Luis Botelho De Moraes Toledo, Sergio Luis Botelho De Moraes Toledo, Ricardo Eugenio De Sousa Ramos Vettorazzo, Carlos Cardoso Távora Neto, Rholf Alvarenga Badine, Marcelle Motta Santoro e Leandro Antonio Grisi. Para verificar as assinaturas vá ao site https://www.portaldeassinaturas.com.br:443 e utilize o código 1B0B-F3A5-96C7-17F7.\n",
      "Este documento foi assinado digitalmente por Roberta De Sousa Ramos Vettorazzo Marcondes, ANDREIA DE SOUSA RAMOS VETTORAZZO, Felipe Versiani Gandolfo, Jose Carlos Botelho De Moraes Toledo, LUIS VITAL DE SOUZA RAMOS VETTORAZZO, Dalila Cleopath Camargo Botelho De Moraes Toledo, Sergio Luis Botelho De Moraes Toledo, Sergio Luis Botelho De Moraes Toledo, Ricardo Eugenio De Sousa Ramos Vettorazzo, Carlos Cardoso Távora Neto, Rholf Alvarenga Badine, Marcelle Motta Santoro e Leandro Antonio Grisi. Para verificar as assinaturas vá ao site https://www.portaldeassinaturas.com.br:443 e utilize o código 1B0B-F3A5-96C7-17F7.Este documento foi assinado digitalmente por Roberta De Sousa Ramos Vettorazzo Marcondes, ANDREIA DE SOUSA RAMOS VETTORAZZO, Felipe Versiani Gandolfo, Jose Carlos Botelho De Moraes Toledo, LUIS VITAL DE SOUZA RAMOS VETTORAZZO, Dalila Cleopath Camargo Botelho De Moraes Toledo, Sergio Luis Botelho De Moraes Toledo, Sergio Luis Botelho De Moraes Toledo, Ricardo Eugenio De Sousa Ramos Vettorazzo, Carlos Cardoso Távora Neto, Rholf Alvarenga Badine, Marcelle Motta Santoro e Leandro Antonio Grisi. Para verificar as assinaturas vá ao site https://www.portaldeassinaturas.com.br:443 e utilize o código 1B0B-F3A5-96C7-17F7.\n",
      "Este documento foi assinado digitalmente por Roberta De Sousa Ramos Vettorazzo Marcondes, ANDREIA DE SOUSA RAMOS VETTORAZZO, Felipe Versiani Gandolfo, Jose Carlos Botelho De Moraes Toledo, LUIS VITAL DE SOUZA RAMOS VETTORAZZO, Dalila Cleopath Camargo Botelho De Moraes Toledo, Sergio Luis Botelho De Moraes Toledo, Sergio Luis Botelho De Moraes Toledo, Ricardo Eugenio De Sousa Ramos Vettorazzo, Carlos Cardoso Távora Neto, Rholf Alvarenga Badine, Marcelle Motta Santoro e Leandro Antonio Grisi. Para verificar as assinaturas vá ao site https://www.portaldeassinaturas.com.br:443 e utilize o código 1B0B-F3A5-96C7-17F7.Este documento foi assinado digitalmente por Roberta De Sousa Ramos Vettorazzo Marcondes, ANDREIA DE SOUSA RAMOS VETTORAZZO, Felipe Versiani Gandolfo, Jose Carlos Botelho De Moraes Toledo, LUIS VITAL DE SOUZA RAMOS VETTORAZZO, Dalila Cleopath Camargo Botelho De Moraes Toledo, Sergio Luis Botelho De Moraes Toledo, Sergio Luis Botelho De Moraes Toledo, Ricardo Eugenio De Sousa Ramos Vettorazzo, Carlos Cardoso Távora Neto, Rholf Alvarenga Badine, Marcelle Motta Santoro e Leandro Antonio Grisi. Para verificar as assinaturas vá ao site https://www.portaldeassinaturas.com.br:443 e utilize o código 1B0B-F3A5-96C7-17F7.\n",
      "Este documento foi assinado digitalmente por Roberta De Sousa Ramos Vettorazzo Marcondes, ANDREIA DE SOUSA RAMOS VETTORAZZO, Felipe Versiani Gandolfo, Jose Carlos Botelho De Moraes Toledo, LUIS VITAL DE SOUZA RAMOS VETTORAZZO, Dalila Cleopath Camargo Botelho De Moraes Toledo, Sergio Luis Botelho De Moraes Toledo, Sergio Luis Botelho De Moraes Toledo, Ricardo Eugenio De Sousa Ramos Vettorazzo, Carlos Cardoso Távora Neto, Rholf Alvarenga Badine, Marcelle Motta Santoro e Leandro Antonio Grisi. Para verificar as assinaturas vá ao site https://www.portaldeassinaturas.com.br:443 e utilize o código 1B0B-F3A5-96C7-17F7.Este documento foi assinado digitalmente por Roberta De Sousa Ramos Vettorazzo Marcondes, ANDREIA DE SOUSA RAMOS VETTORAZZO, Felipe Versiani Gandolfo, Jose Carlos Botelho De Moraes Toledo, LUIS VITAL DE SOUZA RAMOS VETTORAZZO, Dalila Cleopath Camargo Botelho De Moraes Toledo, Sergio Luis Botelho De Moraes Toledo, Sergio Luis Botelho De Moraes Toledo, Ricardo Eugenio De Sousa Ramos Vettorazzo, Carlos Cardoso Távora Neto, Rholf Alvarenga Badine, Marcelle Motta Santoro e Leandro Antonio Grisi. Para verificar as assinaturas vá ao site https://www.portaldeassinaturas.com.br:443 e utilize o código 1B0B-F3A5-96C7-17F7.\n",
      "Este documento foi assinado digitalmente por Roberta De Sousa Ramos Vettorazzo Marcondes, ANDREIA DE SOUSA RAMOS VETTORAZZO, Felipe Versiani Gandolfo, Jose Carlos Botelho De Moraes Toledo, LUIS VITAL DE SOUZA RAMOS VETTORAZZO, Dalila Cleopath Camargo Botelho De Moraes Toledo, Sergio Luis Botelho De Moraes Toledo, Sergio Luis Botelho De Moraes Toledo, Ricardo Eugenio De Sousa Ramos Vettorazzo, Carlos Cardoso Távora Neto, Rholf Alvarenga Badine, Marcelle Motta Santoro e Leandro Antonio Grisi. Para verificar as assinaturas vá ao site https://www.portaldeassinaturas.com.br:443 e utilize o código 1B0B-F3A5-96C7-17F7.Este documento foi assinado digitalmente por Roberta De Sousa Ramos Vettorazzo Marcondes, ANDREIA DE SOUSA RAMOS VETTORAZZO, Felipe Versiani Gandolfo, Jose Carlos Botelho De Moraes Toledo, LUIS VITAL DE SOUZA RAMOS VETTORAZZO, Dalila Cleopath Camargo Botelho De Moraes Toledo, Sergio Luis Botelho De Moraes Toledo, Sergio Luis Botelho De Moraes Toledo, Ricardo Eugenio De Sousa Ramos Vettorazzo, Carlos Cardoso Távora Neto, Rholf Alvarenga Badine, Marcelle Motta Santoro e Leandro Antonio Grisi. Para verificar as assinaturas vá ao site https://www.portaldeassinaturas.com.br:443 e utilize o código 1B0B-F3A5-96C7-17F7.\n",
      "Este documento foi assinado digitalmente por Roberta De Sousa Ramos Vettorazzo Marcondes, ANDREIA DE SOUSA RAMOS VETTORAZZO, Felipe Versiani Gandolfo, Jose Carlos Botelho De Moraes Toledo, LUIS VITAL DE SOUZA RAMOS VETTORAZZO, Dalila Cleopath Camargo Botelho De Moraes Toledo, Sergio Luis Botelho De Moraes Toledo, Sergio Luis Botelho De Moraes Toledo, Ricardo Eugenio De Sousa Ramos Vettorazzo, Carlos Cardoso Távora Neto, Rholf Alvarenga Badine, Marcelle Motta Santoro e Leandro Antonio Grisi. Para verificar as assinaturas vá ao site https://www.portaldeassinaturas.com.br:443 e utilize o código 1B0B-F3A5-96C7-17F7.Este documento foi assinado digitalmente por Roberta De Sousa Ramos Vettorazzo Marcondes, ANDREIA DE SOUSA RAMOS VETTORAZZO, Felipe Versiani Gandolfo, Jose Carlos Botelho De Moraes Toledo, LUIS VITAL DE SOUZA RAMOS VETTORAZZO, Dalila Cleopath Camargo Botelho De Moraes Toledo, Sergio Luis Botelho De Moraes Toledo, Sergio Luis Botelho De Moraes Toledo, Ricardo Eugenio De Sousa Ramos Vettorazzo, Carlos Cardoso Távora Neto, Rholf Alvarenga Badine, Marcelle Motta Santoro e Leandro Antonio Grisi. Para verificar as assinaturas vá ao site https://www.portaldeassinaturas.com.br:443 e utilize o código 1B0B-F3A5-96C7-17F7.\n",
      "Este documento foi assinado digitalmente por Roberta De Sousa Ramos Vettorazzo Marcondes, ANDREIA DE SOUSA RAMOS VETTORAZZO, Felipe Versiani Gandolfo, Jose Carlos Botelho De Moraes Toledo, LUIS VITAL DE SOUZA RAMOS VETTORAZZO, Dalila Cleopath Camargo Botelho De Moraes Toledo, Sergio Luis Botelho De Moraes Toledo, Sergio Luis Botelho De Moraes Toledo, Ricardo Eugenio De Sousa Ramos Vettorazzo, Carlos Cardoso Távora Neto, Rholf Alvarenga Badine, Marcelle Motta Santoro e Leandro Antonio Grisi. Para verificar as assinaturas vá ao site https://www.portaldeassinaturas.com.br:443 e utilize o código 1B0B-F3A5-96C7-17F7.Este documento foi assinado digitalmente por Roberta De Sousa Ramos Vettorazzo Marcondes, ANDREIA DE SOUSA RAMOS VETTORAZZO, Felipe Versiani Gandolfo, Jose Carlos Botelho De Moraes Toledo, LUIS VITAL DE SOUZA RAMOS VETTORAZZO, Dalila Cleopath Camargo Botelho De Moraes Toledo, Sergio Luis Botelho De Moraes Toledo, Sergio Luis Botelho De Moraes Toledo, Ricardo Eugenio De Sousa Ramos Vettorazzo, Carlos Cardoso Távora Neto, Rholf Alvarenga Badine, Marcelle Motta Santoro e Leandro Antonio Grisi. Para verificar as assinaturas vá ao site https://www.portaldeassinaturas.com.br:443 e utilize o código 1B0B-F3A5-96C7-17F7.\n",
      "Este documento foi assinado digitalmente por Roberta De Sousa Ramos Vettorazzo Marcondes, ANDREIA DE SOUSA RAMOS VETTORAZZO, Felipe Versiani Gandolfo, Jose Carlos Botelho De Moraes Toledo, LUIS VITAL DE SOUZA RAMOS VETTORAZZO, Dalila Cleopath Camargo Botelho De Moraes Toledo, Sergio Luis Botelho De Moraes Toledo, Sergio Luis Botelho De Moraes Toledo, Ricardo Eugenio De Sousa Ramos Vettorazzo, Carlos Cardoso Távora Neto, Rholf Alvarenga Badine, Marcelle Motta Santoro e Leandro Antonio Grisi. Para verificar as assinaturas vá ao site https://www.portaldeassinaturas.com.br:443 e utilize o código 1B0B-F3A5-96C7-17F7.Este documento foi assinado digitalmente por Roberta De Sousa Ramos Vettorazzo Marcondes, ANDREIA DE SOUSA RAMOS VETTORAZZO, Felipe Versiani Gandolfo, Jose Carlos Botelho De Moraes Toledo, LUIS VITAL DE SOUZA RAMOS VETTORAZZO, Dalila Cleopath Camargo Botelho De Moraes Toledo, Sergio Luis Botelho De Moraes Toledo, Sergio Luis Botelho De Moraes Toledo, Ricardo Eugenio De Sousa Ramos Vettorazzo, Carlos Cardoso Távora Neto, Rholf Alvarenga Badine, Marcelle Motta Santoro e Leandro Antonio Grisi. Para verificar as assinaturas vá ao site https://www.portaldeassinaturas.com.br:443 e utilize o código 1B0B-F3A5-96C7-17F7.\n",
      "Este documento foi assinado digitalmente por Roberta De Sousa Ramos Vettorazzo Marcondes, ANDREIA DE SOUSA RAMOS VETTORAZZO, Felipe Versiani Gandolfo, Jose Carlos Botelho De Moraes Toledo, LUIS VITAL DE SOUZA RAMOS VETTORAZZO, Dalila Cleopath Camargo Botelho De Moraes Toledo, Sergio Luis Botelho De Moraes Toledo, Sergio Luis Botelho De Moraes Toledo, Ricardo Eugenio De Sousa Ramos Vettorazzo, Carlos Cardoso Távora Neto, Rholf Alvarenga Badine, Marcelle Motta Santoro e Leandro Antonio Grisi. Para verificar as assinaturas vá ao site https://www.portaldeassinaturas.com.br:443 e utilize o código 1B0B-F3A5-96C7-17F7.Este documento foi assinado digitalmente por Roberta De Sousa Ramos Vettorazzo Marcondes, ANDREIA DE SOUSA RAMOS VETTORAZZO, Felipe Versiani Gandolfo, Jose Carlos Botelho De Moraes Toledo, LUIS VITAL DE SOUZA RAMOS VETTORAZZO, Dalila Cleopath Camargo Botelho De Moraes Toledo, Sergio Luis Botelho De Moraes Toledo, Sergio Luis Botelho De Moraes Toledo, Ricardo Eugenio De Sousa Ramos Vettorazzo, Carlos Cardoso Távora Neto, Rholf Alvarenga Badine, Marcelle Motta Santoro e Leandro Antonio Grisi. Para verificar as assinaturas vá ao site https://www.portaldeassinaturas.com.br:443 e utilize o código 1B0B-F3A5-96C7-17F7.\n",
      "Este documento foi assinado digitalmente por Roberta De Sousa Ramos Vettorazzo Marcondes, ANDREIA DE SOUSA RAMOS VETTORAZZO, Felipe Versiani Gandolfo, Jose Carlos Botelho De Moraes Toledo, LUIS VITAL DE SOUZA RAMOS VETTORAZZO, Dalila Cleopath Camargo Botelho De Moraes Toledo, Sergio Luis Botelho De Moraes Toledo, Sergio Luis Botelho De Moraes Toledo, Ricardo Eugenio De Sousa Ramos Vettorazzo, Carlos Cardoso Távora Neto, Rholf Alvarenga Badine, Marcelle Motta Santoro e Leandro Antonio Grisi. Para verificar as assinaturas vá ao site https://www.portaldeassinaturas.com.br:443 e utilize o código 1B0B-F3A5-96C7-17F7.Este documento foi assinado digitalmente por Roberta De Sousa Ramos Vettorazzo Marcondes, ANDREIA DE SOUSA RAMOS VETTORAZZO, Felipe Versiani Gandolfo, Jose Carlos Botelho De Moraes Toledo, LUIS VITAL DE SOUZA RAMOS VETTORAZZO, Dalila Cleopath Camargo Botelho De Moraes Toledo, Sergio Luis Botelho De Moraes Toledo, Sergio Luis Botelho De Moraes Toledo, Ricardo Eugenio De Sousa Ramos Vettorazzo, Carlos Cardoso Távora Neto, Rholf Alvarenga Badine, Marcelle Motta Santoro e Leandro Antonio Grisi. Para verificar as assinaturas vá ao site https://www.portaldeassinaturas.com.br:443 e utilize o código 1B0B-F3A5-96C7-17F7.\n",
      "Este documento foi assinado digitalmente por Roberta De Sousa Ramos Vettorazzo Marcondes, ANDREIA DE SOUSA RAMOS VETTORAZZO, Felipe Versiani Gandolfo, Jose Carlos Botelho De Moraes Toledo, LUIS VITAL DE SOUZA RAMOS VETTORAZZO, Dalila Cleopath Camargo Botelho De Moraes Toledo, Sergio Luis Botelho De Moraes Toledo, Sergio Luis Botelho De Moraes Toledo, Ricardo Eugenio De Sousa Ramos Vettorazzo, Carlos Cardoso Távora Neto, Rholf Alvarenga Badine, Marcelle Motta Santoro e Leandro Antonio Grisi. Para verificar as assinaturas vá ao site https://www.portaldeassinaturas.com.br:443 e utilize o código 1B0B-F3A5-96C7-17F7.Este documento foi assinado digitalmente por Roberta De Sousa Ramos Vettorazzo Marcondes, ANDREIA DE SOUSA RAMOS VETTORAZZO, Felipe Versiani Gandolfo, Jose Carlos Botelho De Moraes Toledo, LUIS VITAL DE SOUZA RAMOS VETTORAZZO, Dalila Cleopath Camargo Botelho De Moraes Toledo, Sergio Luis Botelho De Moraes Toledo, Sergio Luis Botelho De Moraes Toledo, Ricardo Eugenio De Sousa Ramos Vettorazzo, Carlos Cardoso Távora Neto, Rholf Alvarenga Badine, Marcelle Motta Santoro e Leandro Antonio Grisi. Para verificar as assinaturas vá ao site https://www.portaldeassinaturas.com.br:443 e utilize o código 1B0B-F3A5-96C7-17F7.\n",
      "Este documento foi assinado digitalmente por Roberta De Sousa Ramos Vettorazzo Marcondes, ANDREIA DE SOUSA RAMOS VETTORAZZO, Felipe Versiani Gandolfo, Jose Carlos Botelho De Moraes Toledo, LUIS VITAL DE SOUZA RAMOS VETTORAZZO, Dalila Cleopath Camargo Botelho De Moraes Toledo, Sergio Luis Botelho De Moraes Toledo, Sergio Luis Botelho De Moraes Toledo, Ricardo Eugenio De Sousa Ramos Vettorazzo, Carlos Cardoso Távora Neto, Rholf Alvarenga Badine, Marcelle Motta Santoro e Leandro Antonio Grisi. Para verificar as assinaturas vá ao site https://www.portaldeassinaturas.com.br:443 e utilize o código 1B0B-F3A5-96C7-17F7.Este documento foi assinado digitalmente por Roberta De Sousa Ramos Vettorazzo Marcondes, ANDREIA DE SOUSA RAMOS VETTORAZZO, Felipe Versiani Gandolfo, Jose Carlos Botelho De Moraes Toledo, LUIS VITAL DE SOUZA RAMOS VETTORAZZO, Dalila Cleopath Camargo Botelho De Moraes Toledo, Sergio Luis Botelho De Moraes Toledo, Sergio Luis Botelho De Moraes Toledo, Ricardo Eugenio De Sousa Ramos Vettorazzo, Carlos Cardoso Távora Neto, Rholf Alvarenga Badine, Marcelle Motta Santoro e Leandro Antonio Grisi. Para verificar as assinaturas vá ao site https://www.portaldeassinaturas.com.br:443 e utilize o código 1B0B-F3A5-96C7-17F7.\n",
      "Este documento foi assinado digitalmente por Roberta De Sousa Ramos Vettorazzo Marcondes, ANDREIA DE SOUSA RAMOS VETTORAZZO, Felipe Versiani Gandolfo, Jose Carlos Botelho De Moraes Toledo, LUIS VITAL DE SOUZA RAMOS VETTORAZZO, Dalila Cleopath Camargo Botelho De Moraes Toledo, Sergio Luis Botelho De Moraes Toledo, Sergio Luis Botelho De Moraes Toledo, Ricardo Eugenio De Sousa Ramos Vettorazzo, Carlos Cardoso Távora Neto, Rholf Alvarenga Badine, Marcelle Motta Santoro e Leandro Antonio Grisi. Para verificar as assinaturas vá ao site https://www.portaldeassinaturas.com.br:443 e utilize o código 1B0B-F3A5-96C7-17F7.Este documento foi assinado digitalmente por Roberta De Sousa Ramos Vettorazzo Marcondes, ANDREIA DE SOUSA RAMOS VETTORAZZO, Felipe Versiani Gandolfo, Jose Carlos Botelho De Moraes Toledo, LUIS VITAL DE SOUZA RAMOS VETTORAZZO, Dalila Cleopath Camargo Botelho De Moraes Toledo, Sergio Luis Botelho De Moraes Toledo, Sergio Luis Botelho De Moraes Toledo, Ricardo Eugenio De Sousa Ramos Vettorazzo, Carlos Cardoso Távora Neto, Rholf Alvarenga Badine, Marcelle Motta Santoro e Leandro Antonio Grisi. Para verificar as assinaturas vá ao site https://www.portaldeassinaturas.com.br:443 e utilize o código 1B0B-F3A5-96C7-17F7.\n",
      "Este documento foi assinado digitalmente por Roberta De Sousa Ramos Vettorazzo Marcondes, ANDREIA DE SOUSA RAMOS VETTORAZZO, Felipe Versiani Gandolfo, Jose Carlos Botelho De Moraes Toledo, LUIS VITAL DE SOUZA RAMOS VETTORAZZO, Dalila Cleopath Camargo Botelho De Moraes Toledo, Sergio Luis Botelho De Moraes Toledo, Sergio Luis Botelho De Moraes Toledo, Ricardo Eugenio De Sousa Ramos Vettorazzo, Carlos Cardoso Távora Neto, Rholf Alvarenga Badine, Marcelle Motta Santoro e Leandro Antonio Grisi. Para verificar as assinaturas vá ao site https://www.portaldeassinaturas.com.br:443 e utilize o código 1B0B-F3A5-96C7-17F7.Este documento foi assinado digitalmente por Roberta De Sousa Ramos Vettorazzo Marcondes, ANDREIA DE SOUSA RAMOS VETTORAZZO, Felipe Versiani Gandolfo, Jose Carlos Botelho De Moraes Toledo, LUIS VITAL DE SOUZA RAMOS VETTORAZZO, Dalila Cleopath Camargo Botelho De Moraes Toledo, Sergio Luis Botelho De Moraes Toledo, Sergio Luis Botelho De Moraes Toledo, Ricardo Eugenio De Sousa Ramos Vettorazzo, Carlos Cardoso Távora Neto, Rholf Alvarenga Badine, Marcelle Motta Santoro e Leandro Antonio Grisi. Para verificar as assinaturas vá ao site https://www.portaldeassinaturas.com.br:443 e utilize o código 1B0B-F3A5-96C7-17F7.\n",
      "Este documento foi assinado digitalmente por Roberta De Sousa Ramos Vettorazzo Marcondes, ANDREIA DE SOUSA RAMOS VETTORAZZO, Felipe Versiani Gandolfo, Jose Carlos Botelho De Moraes Toledo, LUIS VITAL DE SOUZA RAMOS VETTORAZZO, Dalila Cleopath Camargo Botelho De Moraes Toledo, Sergio Luis Botelho De Moraes Toledo, Sergio Luis Botelho De Moraes Toledo, Ricardo Eugenio De Sousa Ramos Vettorazzo, Carlos Cardoso Távora Neto, Rholf Alvarenga Badine, Marcelle Motta Santoro e Leandro Antonio Grisi. Para verificar as assinaturas vá ao site https://www.portaldeassinaturas.com.br:443 e utilize o código 1B0B-F3A5-96C7-17F7.Este documento foi assinado digitalmente por Roberta De Sousa Ramos Vettorazzo Marcondes, ANDREIA DE SOUSA RAMOS VETTORAZZO, Felipe Versiani Gandolfo, Jose Carlos Botelho De Moraes Toledo, LUIS VITAL DE SOUZA RAMOS VETTORAZZO, Dalila Cleopath Camargo Botelho De Moraes Toledo, Sergio Luis Botelho De Moraes Toledo, Sergio Luis Botelho De Moraes Toledo, Ricardo Eugenio De Sousa Ramos Vettorazzo, Carlos Cardoso Távora Neto, Rholf Alvarenga Badine, Marcelle Motta Santoro e Leandro Antonio Grisi. Para verificar as assinaturas vá ao site https://www.portaldeassinaturas.com.br:443 e utilize o código 1B0B-F3A5-96C7-17F7.\n",
      "PROTOCOLO DE ASSINATURA(S)O documento acima foi proposto para assinatura digital na plataforma Portal de Assinaturas Certisign. Para verificar as assinaturas clique no link: https://www.portaldeassinaturas.com.br/Verificar/1B0B-F3A5-96C7-17F7 ou vá até o site https://www.portaldeassinaturas.com.br:443 e utilize o código abaixo para verificar se este documento é válido. Código para verificação: 1B0B-F3A5-96C7-17F7Hash do Documento A4A8CCF35458047EDA88053AEF7776F00EDDB2BC2CFBDC6AB3391E84287C5FB3O(s) nome(s) indicado(s) para assinatura, bem como seu(s) status em 02/06/2021 é(são) :ROBERTA DE SOUSA RAMOS VETTORAZZO MARCONDES (Signatário) - 079.714.138-31  em 02/06/2021 18:50 UTC-03:00Tipo: Certificado DigitalANDREIA DE SOUSA RAMOS VETTORAZZO (Signatário) - 087.302.718-35  em 02/06/2021 18:12 UTC-03:00Tipo: Certificado DigitalFelipe Versiane Gandolfo (Testemunha) - 330.553.778-77  em 02/06/2021 18:11 UTC-03:00Nome no certificado: Felipe Versiani GandolfoTipo: Certificado DigitalJOSÉ CARLOS BOTELHO DE MORAES TOLEDO (Signatário) - 053.879.938-21  em 02/06/2021 18:10 UTC-03:00Nome no certificado: Jose Carlos Botelho De Moraes ToledoTipo: Certificado DigitalLUIS VITAL DE SOUSA RAMOS VETTORAZZO (Signatário) - 102.278.678-40  em 02/06/2021 18:10 UTC-03:00Nome no certificado: Luis Vital De Sousa Ramos VettorazzoTipo: Certificado DigitalDALILA CLEOPATH CAMARGO BOTELHO DE MORAES TOLEDO (Signatário) - 027.786.808-45  em 02/06/2021 18:08 UTC-03:00Tipo: Certificado DigitalSÉRGIO LUIS BOTELHO DE MORAES TOLEDO (Signatário) - 095.999.278-26  em 02/06/2021 18:06 UTC-03:00Nome no certificado: Sergio Luis Botelho De Moraes Toledo\n",
      "Tipo: Certificado DigitalRICARDO EUGENIO DE SOUSA RAMOS VETTORAZZO (Signatário) - 184.312.118-22  em 02/06/2021 18:06 UTC-03:00Tipo: Certificado DigitalCarlos Cardoso Távora Neto (Testemunha) - 144.285.747-11  em 02/06/2021 17:40 UTC-03:00Tipo: Certificado DigitalRholf Alvarenda Badine (Signatário) - 345.475.088-10  em 02/06/2021 17:33 UTC-03:00Nome no certificado: Rholf Alvarenga BadineTipo: Certificado DigitalMarcelle Motta Santoro (Signatário) - 109.809.047-06  em 02/06/2021 17:32 UTC-03:00Tipo: Certificado DigitalLEANDRO ANTONIO GRISI (Signatário) - 167.985.998-69  em 02/06/2021 17:23 UTC-03:00Tipo: Certificado Digital\n"
     ]
    }
   ],
   "source": [
    "for i in range (pdfReader.numPages):    \n",
    "    pageObj = pdfReader.getPage(i)\n",
    "    print(pageObj.extractText())\n",
    " "
   ]
  },
  {
   "cell_type": "code",
   "execution_count": 125,
   "metadata": {},
   "outputs": [
    {
     "data": {
      "text/plain": [
       "'Tipo: Certificado DigitalRICARDO EUGENIO DE SOUSA RAMOS VETTORAZZO (Signatário) - 184.312.118-22  em 02/06/2021 18:06 UTC-03:00Tipo: Certificado DigitalCarlos Cardoso Távora Neto (Testemunha) - 144.285.747-11  em 02/06/2021 17:40 UTC-03:00Tipo: Certificado DigitalRholf Alvarenda Badine (Signatário) - 345.475.088-10  em 02/06/2021 17:33 UTC-03:00Nome no certificado: Rholf Alvarenga BadineTipo: Certificado DigitalMarcelle Motta Santoro (Signatário) - 109.809.047-06  em 02/06/2021 17:32 UTC-03:00Tipo: Certificado DigitalLEANDRO ANTONIO GRISI (Signatário) - 167.985.998-69  em 02/06/2021 17:23 UTC-03:00Tipo: Certificado Digital'"
      ]
     },
     "execution_count": 125,
     "metadata": {},
     "output_type": "execute_result"
    }
   ],
   "source": [
    "pageObj.extractText()"
   ]
  },
  {
   "cell_type": "code",
   "execution_count": 1,
   "metadata": {},
   "outputs": [],
   "source": [
    "# from tika import parser\n",
    "\n",
    "# raw = parser.from_file(\"AEGE_5_Escritura - Escritura_20210602_000.pdf\")\n",
    "# raw = str(raw)\n",
    "\n",
    "# safe_text = raw.encode('utf-8', errors='ignore')\n",
    "\n",
    "# safe_text = str(safe_text).replace(\"\\n\", \"\").replace(\"\\\\\", \"\")\n",
    "# print('--- safe text ---' )\n",
    "# print( safe_text )"
   ]
  },
  {
   "cell_type": "code",
   "execution_count": 14,
   "metadata": {},
   "outputs": [
    {
     "data": {
      "text/plain": [
       "<re.Match object; span=(211, 227), match='R$ 10.000.000,00'>"
      ]
     },
     "execution_count": 14,
     "metadata": {},
     "output_type": "execute_result"
    }
   ],
   "source": [
    "text1 = 'companhias seguradoras e sociedades de capitalização; (iii) entidades abertas e fechadas de previdência complementar; (iv) pessoas naturais ou jurídicas que possuam investimentos financeiros em valor superior a R$ 10.000.000,00 (dez milhões de reais)'\n",
    "import re\n",
    "re.search('R\\$ 10.000.000,00', text1)"
   ]
  },
  {
   "cell_type": "code",
   "execution_count": null,
   "metadata": {},
   "outputs": [],
   "source": []
  }
 ],
 "metadata": {
  "interpreter": {
   "hash": "425f647ebd999de11ed5a88949ddd8eebb20a30391b0c18ab1b1528069f5ce06"
  },
  "kernelspec": {
   "display_name": "Python 3.9.7 64-bit",
   "name": "python3"
  },
  "language_info": {
   "codemirror_mode": {
    "name": "ipython",
    "version": 3
   },
   "file_extension": ".py",
   "mimetype": "text/x-python",
   "name": "python",
   "nbconvert_exporter": "python",
   "pygments_lexer": "ipython3",
   "version": "3.9.7"
  },
  "orig_nbformat": 4
 },
 "nbformat": 4,
 "nbformat_minor": 2
}
